{
  "nbformat": 4,
  "nbformat_minor": 0,
  "metadata": {
    "colab": {
      "name": "ESRecoveredGlobal",
      "provenance": [],
      "collapsed_sections": []
    },
    "kernelspec": {
      "name": "python3",
      "display_name": "Python 3"
    },
    "language_info": {
      "name": "python"
    }
  },
  "cells": [
    {
      "cell_type": "code",
      "execution_count": 1,
      "metadata": {
        "id": "dW_tEoHxOKZP",
        "colab": {
          "base_uri": "https://localhost:8080/"
        },
        "outputId": "ce4d2f21-582a-4c18-d2ff-c2b7b005064f"
      },
      "outputs": [
        {
          "output_type": "stream",
          "name": "stderr",
          "text": [
            "/usr/local/lib/python3.7/dist-packages/statsmodels/tools/_testing.py:19: FutureWarning: pandas.util.testing is deprecated. Use the functions in the public API at pandas.testing instead.\n",
            "  import pandas.util.testing as tm\n"
          ]
        }
      ],
      "source": [
        "import pandas as pd\n",
        "#import yfinance as yf\n",
        "import datetime\n",
        "import matplotlib.pyplot as plt\n",
        "from statsmodels.tsa.api import SimpleExpSmoothing"
      ]
    },
    {
      "cell_type": "code",
      "source": [
        "import os\n",
        "import warnings\n",
        "import matplotlib.pyplot as plt\n",
        "import numpy as np\n",
        "import pandas as pd\n",
        "import datetime as dt\n",
        "import math\n",
        "\n",
        "from sklearn.svm import SVR\n",
        "from sklearn.preprocessing import MinMaxScaler\n",
        "from datetime import datetime, timedelta\n",
        "from matplotlib.dates import DateFormatter\n",
        "import matplotlib.dates as mdates\n",
        "#from common.utils import load_data, mape"
      ],
      "metadata": {
        "id": "-jr8pQnsOK9g"
      },
      "execution_count": 2,
      "outputs": []
    },
    {
      "cell_type": "code",
      "source": [
        "from google.colab import drive"
      ],
      "metadata": {
        "id": "j20h8t1KWuWo"
      },
      "execution_count": 5,
      "outputs": []
    },
    {
      "cell_type": "code",
      "source": [
        "drive.mount('/content/drive/')"
      ],
      "metadata": {
        "colab": {
          "base_uri": "https://localhost:8080/"
        },
        "id": "3-C1kaRmWv9B",
        "outputId": "cd7194ba-91f3-4edb-b5c5-36ce2d3e1965"
      },
      "execution_count": 6,
      "outputs": [
        {
          "output_type": "stream",
          "name": "stdout",
          "text": [
            "Mounted at /content/drive/\n"
          ]
        }
      ]
    },
    {
      "cell_type": "code",
      "source": [
        "cd /content/drive/\"MyDrive/\""
      ],
      "metadata": {
        "colab": {
          "base_uri": "https://localhost:8080/"
        },
        "id": "Pif3qsKhWxf1",
        "outputId": "fd6575fd-4d68-40f4-cedc-abf5b80059cb"
      },
      "execution_count": 7,
      "outputs": [
        {
          "output_type": "stream",
          "name": "stdout",
          "text": [
            "/content/drive/MyDrive\n"
          ]
        }
      ]
    },
    {
      "cell_type": "code",
      "source": [
        "dataset = pd.read_csv('Colab Notebooks/Linear Regression/time_series_covid19_recovered_global.csv')\n"
      ],
      "metadata": {
        "id": "MPx272F9W5-2"
      },
      "execution_count": 8,
      "outputs": []
    },
    {
      "cell_type": "code",
      "source": [
        "dataf= pd.DataFrame(dataset)\n",
        "col = list(dataset.columns.values)\n",
        "col_value = (list(dataf.sum(axis = 0, skipna = True)))\n",
        "df1 = pd.DataFrame(list(zip(col, col_value)),columns =['Title', 'Values'])\n",
        "data = df1.drop(df1.index)\n",
        "print(df1)"
      ],
      "metadata": {
        "colab": {
          "base_uri": "https://localhost:8080/"
        },
        "id": "5gKAp0sbW8dJ",
        "outputId": "18629583-f802-4b24-e4c5-e54c9a2e44bc"
      },
      "execution_count": 9,
      "outputs": [
        {
          "output_type": "stream",
          "name": "stdout",
          "text": [
            "              Title                                             Values\n",
            "0    Province/State  AfghanistanAlbaniaAlgeriaAndorraAngolaAntigua ...\n",
            "1    Country/Region                                        4944.987387\n",
            "2               Lat                                        7151.063898\n",
            "3              Long                                                 30\n",
            "4           1/22/20                                                 32\n",
            "..              ...                                                ...\n",
            "719          1/6/22                                                  0\n",
            "720          1/7/22                                                  0\n",
            "721          1/8/22                                                  0\n",
            "722          1/9/22                                                  0\n",
            "723         1/10/22                                                  0\n",
            "\n",
            "[724 rows x 2 columns]\n"
          ]
        },
        {
          "output_type": "stream",
          "name": "stderr",
          "text": [
            "/usr/local/lib/python3.7/dist-packages/ipykernel_launcher.py:3: FutureWarning: Dropping of nuisance columns in DataFrame reductions (with 'numeric_only=None') is deprecated; in a future version this will raise TypeError.  Select only valid columns before calling the reduction.\n",
            "  This is separate from the ipykernel package so we can avoid doing imports until\n"
          ]
        }
      ]
    },
    {
      "cell_type": "code",
      "source": [
        "col1 = list(df1.columns.values)\n",
        "print(col1)\n",
        "df1 = df1.drop(0) \n",
        "df1 = df1.drop(1) \n",
        "df1 = df1.drop(2) \n",
        "df1 = df1.drop(3) \n",
        "df1 = df1.drop(723) \n",
        "df1"
      ],
      "metadata": {
        "colab": {
          "base_uri": "https://localhost:8080/",
          "height": 441
        },
        "id": "2G7ijh4HW-gf",
        "outputId": "b8877b57-0eb1-4aa1-972b-b6ed692a8cde"
      },
      "execution_count": 10,
      "outputs": [
        {
          "output_type": "stream",
          "name": "stdout",
          "text": [
            "['Title', 'Values']\n"
          ]
        },
        {
          "output_type": "execute_result",
          "data": {
            "text/plain": [
              "       Title Values\n",
              "4    1/22/20     32\n",
              "5    1/23/20     39\n",
              "6    1/24/20     42\n",
              "7    1/25/20     56\n",
              "8    1/26/20     65\n",
              "..       ...    ...\n",
              "718   1/5/22      0\n",
              "719   1/6/22      0\n",
              "720   1/7/22      0\n",
              "721   1/8/22      0\n",
              "722   1/9/22      0\n",
              "\n",
              "[719 rows x 2 columns]"
            ],
            "text/html": [
              "\n",
              "  <div id=\"df-47ba6f1b-704f-4da0-be19-fdd24d9789f3\">\n",
              "    <div class=\"colab-df-container\">\n",
              "      <div>\n",
              "<style scoped>\n",
              "    .dataframe tbody tr th:only-of-type {\n",
              "        vertical-align: middle;\n",
              "    }\n",
              "\n",
              "    .dataframe tbody tr th {\n",
              "        vertical-align: top;\n",
              "    }\n",
              "\n",
              "    .dataframe thead th {\n",
              "        text-align: right;\n",
              "    }\n",
              "</style>\n",
              "<table border=\"1\" class=\"dataframe\">\n",
              "  <thead>\n",
              "    <tr style=\"text-align: right;\">\n",
              "      <th></th>\n",
              "      <th>Title</th>\n",
              "      <th>Values</th>\n",
              "    </tr>\n",
              "  </thead>\n",
              "  <tbody>\n",
              "    <tr>\n",
              "      <th>4</th>\n",
              "      <td>1/22/20</td>\n",
              "      <td>32</td>\n",
              "    </tr>\n",
              "    <tr>\n",
              "      <th>5</th>\n",
              "      <td>1/23/20</td>\n",
              "      <td>39</td>\n",
              "    </tr>\n",
              "    <tr>\n",
              "      <th>6</th>\n",
              "      <td>1/24/20</td>\n",
              "      <td>42</td>\n",
              "    </tr>\n",
              "    <tr>\n",
              "      <th>7</th>\n",
              "      <td>1/25/20</td>\n",
              "      <td>56</td>\n",
              "    </tr>\n",
              "    <tr>\n",
              "      <th>8</th>\n",
              "      <td>1/26/20</td>\n",
              "      <td>65</td>\n",
              "    </tr>\n",
              "    <tr>\n",
              "      <th>...</th>\n",
              "      <td>...</td>\n",
              "      <td>...</td>\n",
              "    </tr>\n",
              "    <tr>\n",
              "      <th>718</th>\n",
              "      <td>1/5/22</td>\n",
              "      <td>0</td>\n",
              "    </tr>\n",
              "    <tr>\n",
              "      <th>719</th>\n",
              "      <td>1/6/22</td>\n",
              "      <td>0</td>\n",
              "    </tr>\n",
              "    <tr>\n",
              "      <th>720</th>\n",
              "      <td>1/7/22</td>\n",
              "      <td>0</td>\n",
              "    </tr>\n",
              "    <tr>\n",
              "      <th>721</th>\n",
              "      <td>1/8/22</td>\n",
              "      <td>0</td>\n",
              "    </tr>\n",
              "    <tr>\n",
              "      <th>722</th>\n",
              "      <td>1/9/22</td>\n",
              "      <td>0</td>\n",
              "    </tr>\n",
              "  </tbody>\n",
              "</table>\n",
              "<p>719 rows × 2 columns</p>\n",
              "</div>\n",
              "      <button class=\"colab-df-convert\" onclick=\"convertToInteractive('df-47ba6f1b-704f-4da0-be19-fdd24d9789f3')\"\n",
              "              title=\"Convert this dataframe to an interactive table.\"\n",
              "              style=\"display:none;\">\n",
              "        \n",
              "  <svg xmlns=\"http://www.w3.org/2000/svg\" height=\"24px\"viewBox=\"0 0 24 24\"\n",
              "       width=\"24px\">\n",
              "    <path d=\"M0 0h24v24H0V0z\" fill=\"none\"/>\n",
              "    <path d=\"M18.56 5.44l.94 2.06.94-2.06 2.06-.94-2.06-.94-.94-2.06-.94 2.06-2.06.94zm-11 1L8.5 8.5l.94-2.06 2.06-.94-2.06-.94L8.5 2.5l-.94 2.06-2.06.94zm10 10l.94 2.06.94-2.06 2.06-.94-2.06-.94-.94-2.06-.94 2.06-2.06.94z\"/><path d=\"M17.41 7.96l-1.37-1.37c-.4-.4-.92-.59-1.43-.59-.52 0-1.04.2-1.43.59L10.3 9.45l-7.72 7.72c-.78.78-.78 2.05 0 2.83L4 21.41c.39.39.9.59 1.41.59.51 0 1.02-.2 1.41-.59l7.78-7.78 2.81-2.81c.8-.78.8-2.07 0-2.86zM5.41 20L4 18.59l7.72-7.72 1.47 1.35L5.41 20z\"/>\n",
              "  </svg>\n",
              "      </button>\n",
              "      \n",
              "  <style>\n",
              "    .colab-df-container {\n",
              "      display:flex;\n",
              "      flex-wrap:wrap;\n",
              "      gap: 12px;\n",
              "    }\n",
              "\n",
              "    .colab-df-convert {\n",
              "      background-color: #E8F0FE;\n",
              "      border: none;\n",
              "      border-radius: 50%;\n",
              "      cursor: pointer;\n",
              "      display: none;\n",
              "      fill: #1967D2;\n",
              "      height: 32px;\n",
              "      padding: 0 0 0 0;\n",
              "      width: 32px;\n",
              "    }\n",
              "\n",
              "    .colab-df-convert:hover {\n",
              "      background-color: #E2EBFA;\n",
              "      box-shadow: 0px 1px 2px rgba(60, 64, 67, 0.3), 0px 1px 3px 1px rgba(60, 64, 67, 0.15);\n",
              "      fill: #174EA6;\n",
              "    }\n",
              "\n",
              "    [theme=dark] .colab-df-convert {\n",
              "      background-color: #3B4455;\n",
              "      fill: #D2E3FC;\n",
              "    }\n",
              "\n",
              "    [theme=dark] .colab-df-convert:hover {\n",
              "      background-color: #434B5C;\n",
              "      box-shadow: 0px 1px 3px 1px rgba(0, 0, 0, 0.15);\n",
              "      filter: drop-shadow(0px 1px 2px rgba(0, 0, 0, 0.3));\n",
              "      fill: #FFFFFF;\n",
              "    }\n",
              "  </style>\n",
              "\n",
              "      <script>\n",
              "        const buttonEl =\n",
              "          document.querySelector('#df-47ba6f1b-704f-4da0-be19-fdd24d9789f3 button.colab-df-convert');\n",
              "        buttonEl.style.display =\n",
              "          google.colab.kernel.accessAllowed ? 'block' : 'none';\n",
              "\n",
              "        async function convertToInteractive(key) {\n",
              "          const element = document.querySelector('#df-47ba6f1b-704f-4da0-be19-fdd24d9789f3');\n",
              "          const dataTable =\n",
              "            await google.colab.kernel.invokeFunction('convertToInteractive',\n",
              "                                                     [key], {});\n",
              "          if (!dataTable) return;\n",
              "\n",
              "          const docLinkHtml = 'Like what you see? Visit the ' +\n",
              "            '<a target=\"_blank\" href=https://colab.research.google.com/notebooks/data_table.ipynb>data table notebook</a>'\n",
              "            + ' to learn more about interactive tables.';\n",
              "          element.innerHTML = '';\n",
              "          dataTable['output_type'] = 'display_data';\n",
              "          await google.colab.output.renderOutput(dataTable, element);\n",
              "          const docLink = document.createElement('div');\n",
              "          docLink.innerHTML = docLinkHtml;\n",
              "          element.appendChild(docLink);\n",
              "        }\n",
              "      </script>\n",
              "    </div>\n",
              "  </div>\n",
              "  "
            ]
          },
          "metadata": {},
          "execution_count": 10
        }
      ]
    },
    {
      "cell_type": "code",
      "source": [
        "#importing basic libraries\n",
        "import numpy as np\n",
        "import pandas as pd\n",
        "import matplotlib.pyplot as plt\n",
        "from datetime import datetime, timedelta\n",
        "from matplotlib.dates import DateFormatter\n",
        "import matplotlib.dates as mdates\n",
        "\n",
        "dates = df1['Title']\n",
        "date_format = [pd.to_datetime(d) for d in dates]\n",
        "date_time = [date_format[d].strftime(\"%d-%m-%Y\") for d in range(719)]\n",
        "#str_date_time = date_format[0].strftime(\"%d-%m-%Y %H:%M:%S\")\n",
        "#df1.set_index('Title',inplace=True)"
      ],
      "metadata": {
        "id": "w63pYX9hXAfe"
      },
      "execution_count": 11,
      "outputs": []
    },
    {
      "cell_type": "code",
      "source": [
        "#print(date_format)\n",
        "#df1.set_index(date_time,inplace=True)\n",
        "df1['Time'] = date_time\n",
        "print(df1)"
      ],
      "metadata": {
        "colab": {
          "base_uri": "https://localhost:8080/"
        },
        "id": "WHzjNoNWXLZR",
        "outputId": "3fcc1aef-03a9-4d56-a0c7-7206dae2c410"
      },
      "execution_count": 12,
      "outputs": [
        {
          "output_type": "stream",
          "name": "stdout",
          "text": [
            "       Title Values        Time\n",
            "4    1/22/20     32  22-01-2020\n",
            "5    1/23/20     39  23-01-2020\n",
            "6    1/24/20     42  24-01-2020\n",
            "7    1/25/20     56  25-01-2020\n",
            "8    1/26/20     65  26-01-2020\n",
            "..       ...    ...         ...\n",
            "718   1/5/22      0  05-01-2022\n",
            "719   1/6/22      0  06-01-2022\n",
            "720   1/7/22      0  07-01-2022\n",
            "721   1/8/22      0  08-01-2022\n",
            "722   1/9/22      0  09-01-2022\n",
            "\n",
            "[719 rows x 3 columns]\n"
          ]
        }
      ]
    },
    {
      "cell_type": "code",
      "source": [
        "df1.set_index('Time',inplace=True)"
      ],
      "metadata": {
        "id": "EJEeimSZXN4Q"
      },
      "execution_count": 13,
      "outputs": []
    },
    {
      "cell_type": "code",
      "source": [
        "df1"
      ],
      "metadata": {
        "colab": {
          "base_uri": "https://localhost:8080/",
          "height": 455
        },
        "id": "MyeMtkI4XXpR",
        "outputId": "5cafad3a-62e1-4b10-964e-552062840f07"
      },
      "execution_count": 14,
      "outputs": [
        {
          "output_type": "execute_result",
          "data": {
            "text/plain": [
              "              Title Values\n",
              "Time                      \n",
              "22-01-2020  1/22/20     32\n",
              "23-01-2020  1/23/20     39\n",
              "24-01-2020  1/24/20     42\n",
              "25-01-2020  1/25/20     56\n",
              "26-01-2020  1/26/20     65\n",
              "...             ...    ...\n",
              "05-01-2022   1/5/22      0\n",
              "06-01-2022   1/6/22      0\n",
              "07-01-2022   1/7/22      0\n",
              "08-01-2022   1/8/22      0\n",
              "09-01-2022   1/9/22      0\n",
              "\n",
              "[719 rows x 2 columns]"
            ],
            "text/html": [
              "\n",
              "  <div id=\"df-d3b1c2a4-08d5-4db5-9e6e-f77120d3e876\">\n",
              "    <div class=\"colab-df-container\">\n",
              "      <div>\n",
              "<style scoped>\n",
              "    .dataframe tbody tr th:only-of-type {\n",
              "        vertical-align: middle;\n",
              "    }\n",
              "\n",
              "    .dataframe tbody tr th {\n",
              "        vertical-align: top;\n",
              "    }\n",
              "\n",
              "    .dataframe thead th {\n",
              "        text-align: right;\n",
              "    }\n",
              "</style>\n",
              "<table border=\"1\" class=\"dataframe\">\n",
              "  <thead>\n",
              "    <tr style=\"text-align: right;\">\n",
              "      <th></th>\n",
              "      <th>Title</th>\n",
              "      <th>Values</th>\n",
              "    </tr>\n",
              "    <tr>\n",
              "      <th>Time</th>\n",
              "      <th></th>\n",
              "      <th></th>\n",
              "    </tr>\n",
              "  </thead>\n",
              "  <tbody>\n",
              "    <tr>\n",
              "      <th>22-01-2020</th>\n",
              "      <td>1/22/20</td>\n",
              "      <td>32</td>\n",
              "    </tr>\n",
              "    <tr>\n",
              "      <th>23-01-2020</th>\n",
              "      <td>1/23/20</td>\n",
              "      <td>39</td>\n",
              "    </tr>\n",
              "    <tr>\n",
              "      <th>24-01-2020</th>\n",
              "      <td>1/24/20</td>\n",
              "      <td>42</td>\n",
              "    </tr>\n",
              "    <tr>\n",
              "      <th>25-01-2020</th>\n",
              "      <td>1/25/20</td>\n",
              "      <td>56</td>\n",
              "    </tr>\n",
              "    <tr>\n",
              "      <th>26-01-2020</th>\n",
              "      <td>1/26/20</td>\n",
              "      <td>65</td>\n",
              "    </tr>\n",
              "    <tr>\n",
              "      <th>...</th>\n",
              "      <td>...</td>\n",
              "      <td>...</td>\n",
              "    </tr>\n",
              "    <tr>\n",
              "      <th>05-01-2022</th>\n",
              "      <td>1/5/22</td>\n",
              "      <td>0</td>\n",
              "    </tr>\n",
              "    <tr>\n",
              "      <th>06-01-2022</th>\n",
              "      <td>1/6/22</td>\n",
              "      <td>0</td>\n",
              "    </tr>\n",
              "    <tr>\n",
              "      <th>07-01-2022</th>\n",
              "      <td>1/7/22</td>\n",
              "      <td>0</td>\n",
              "    </tr>\n",
              "    <tr>\n",
              "      <th>08-01-2022</th>\n",
              "      <td>1/8/22</td>\n",
              "      <td>0</td>\n",
              "    </tr>\n",
              "    <tr>\n",
              "      <th>09-01-2022</th>\n",
              "      <td>1/9/22</td>\n",
              "      <td>0</td>\n",
              "    </tr>\n",
              "  </tbody>\n",
              "</table>\n",
              "<p>719 rows × 2 columns</p>\n",
              "</div>\n",
              "      <button class=\"colab-df-convert\" onclick=\"convertToInteractive('df-d3b1c2a4-08d5-4db5-9e6e-f77120d3e876')\"\n",
              "              title=\"Convert this dataframe to an interactive table.\"\n",
              "              style=\"display:none;\">\n",
              "        \n",
              "  <svg xmlns=\"http://www.w3.org/2000/svg\" height=\"24px\"viewBox=\"0 0 24 24\"\n",
              "       width=\"24px\">\n",
              "    <path d=\"M0 0h24v24H0V0z\" fill=\"none\"/>\n",
              "    <path d=\"M18.56 5.44l.94 2.06.94-2.06 2.06-.94-2.06-.94-.94-2.06-.94 2.06-2.06.94zm-11 1L8.5 8.5l.94-2.06 2.06-.94-2.06-.94L8.5 2.5l-.94 2.06-2.06.94zm10 10l.94 2.06.94-2.06 2.06-.94-2.06-.94-.94-2.06-.94 2.06-2.06.94z\"/><path d=\"M17.41 7.96l-1.37-1.37c-.4-.4-.92-.59-1.43-.59-.52 0-1.04.2-1.43.59L10.3 9.45l-7.72 7.72c-.78.78-.78 2.05 0 2.83L4 21.41c.39.39.9.59 1.41.59.51 0 1.02-.2 1.41-.59l7.78-7.78 2.81-2.81c.8-.78.8-2.07 0-2.86zM5.41 20L4 18.59l7.72-7.72 1.47 1.35L5.41 20z\"/>\n",
              "  </svg>\n",
              "      </button>\n",
              "      \n",
              "  <style>\n",
              "    .colab-df-container {\n",
              "      display:flex;\n",
              "      flex-wrap:wrap;\n",
              "      gap: 12px;\n",
              "    }\n",
              "\n",
              "    .colab-df-convert {\n",
              "      background-color: #E8F0FE;\n",
              "      border: none;\n",
              "      border-radius: 50%;\n",
              "      cursor: pointer;\n",
              "      display: none;\n",
              "      fill: #1967D2;\n",
              "      height: 32px;\n",
              "      padding: 0 0 0 0;\n",
              "      width: 32px;\n",
              "    }\n",
              "\n",
              "    .colab-df-convert:hover {\n",
              "      background-color: #E2EBFA;\n",
              "      box-shadow: 0px 1px 2px rgba(60, 64, 67, 0.3), 0px 1px 3px 1px rgba(60, 64, 67, 0.15);\n",
              "      fill: #174EA6;\n",
              "    }\n",
              "\n",
              "    [theme=dark] .colab-df-convert {\n",
              "      background-color: #3B4455;\n",
              "      fill: #D2E3FC;\n",
              "    }\n",
              "\n",
              "    [theme=dark] .colab-df-convert:hover {\n",
              "      background-color: #434B5C;\n",
              "      box-shadow: 0px 1px 3px 1px rgba(0, 0, 0, 0.15);\n",
              "      filter: drop-shadow(0px 1px 2px rgba(0, 0, 0, 0.3));\n",
              "      fill: #FFFFFF;\n",
              "    }\n",
              "  </style>\n",
              "\n",
              "      <script>\n",
              "        const buttonEl =\n",
              "          document.querySelector('#df-d3b1c2a4-08d5-4db5-9e6e-f77120d3e876 button.colab-df-convert');\n",
              "        buttonEl.style.display =\n",
              "          google.colab.kernel.accessAllowed ? 'block' : 'none';\n",
              "\n",
              "        async function convertToInteractive(key) {\n",
              "          const element = document.querySelector('#df-d3b1c2a4-08d5-4db5-9e6e-f77120d3e876');\n",
              "          const dataTable =\n",
              "            await google.colab.kernel.invokeFunction('convertToInteractive',\n",
              "                                                     [key], {});\n",
              "          if (!dataTable) return;\n",
              "\n",
              "          const docLinkHtml = 'Like what you see? Visit the ' +\n",
              "            '<a target=\"_blank\" href=https://colab.research.google.com/notebooks/data_table.ipynb>data table notebook</a>'\n",
              "            + ' to learn more about interactive tables.';\n",
              "          element.innerHTML = '';\n",
              "          dataTable['output_type'] = 'display_data';\n",
              "          await google.colab.output.renderOutput(dataTable, element);\n",
              "          const docLink = document.createElement('div');\n",
              "          docLink.innerHTML = docLinkHtml;\n",
              "          element.appendChild(docLink);\n",
              "        }\n",
              "      </script>\n",
              "    </div>\n",
              "  </div>\n",
              "  "
            ]
          },
          "metadata": {},
          "execution_count": 14
        }
      ]
    },
    {
      "cell_type": "code",
      "source": [
        "df1.info()"
      ],
      "metadata": {
        "colab": {
          "base_uri": "https://localhost:8080/"
        },
        "id": "w9cKaa4Bd0XP",
        "outputId": "cca64f37-65cf-47be-dc0c-145dcfba01f2"
      },
      "execution_count": 15,
      "outputs": [
        {
          "output_type": "stream",
          "name": "stdout",
          "text": [
            "<class 'pandas.core.frame.DataFrame'>\n",
            "Index: 719 entries, 22-01-2020 to 09-01-2022\n",
            "Data columns (total 2 columns):\n",
            " #   Column  Non-Null Count  Dtype \n",
            "---  ------  --------------  ----- \n",
            " 0   Title   719 non-null    object\n",
            " 1   Values  719 non-null    object\n",
            "dtypes: object(2)\n",
            "memory usage: 16.9+ KB\n"
          ]
        }
      ]
    },
    {
      "cell_type": "code",
      "source": [
        "df1.index.freq='A'"
      ],
      "metadata": {
        "id": "eGOl_zlLd0Um"
      },
      "execution_count": 16,
      "outputs": []
    },
    {
      "cell_type": "code",
      "source": [
        "df1.info()"
      ],
      "metadata": {
        "colab": {
          "base_uri": "https://localhost:8080/"
        },
        "id": "Df-fmYjrd0Sw",
        "outputId": "aa88cd0a-a31b-4734-b7d7-e96e94a68491"
      },
      "execution_count": 17,
      "outputs": [
        {
          "output_type": "stream",
          "name": "stdout",
          "text": [
            "<class 'pandas.core.frame.DataFrame'>\n",
            "Index: 719 entries, 22-01-2020 to 09-01-2022\n",
            "Data columns (total 2 columns):\n",
            " #   Column  Non-Null Count  Dtype \n",
            "---  ------  --------------  ----- \n",
            " 0   Title   719 non-null    object\n",
            " 1   Values  719 non-null    object\n",
            "dtypes: object(2)\n",
            "memory usage: 16.9+ KB\n"
          ]
        }
      ]
    },
    {
      "cell_type": "code",
      "source": [
        "df1[\"Values\"] = df1[\"Values\"].astype('int')"
      ],
      "metadata": {
        "id": "kAdTsnANi_Ce"
      },
      "execution_count": 18,
      "outputs": []
    },
    {
      "cell_type": "code",
      "source": [
        "del df1['Title']"
      ],
      "metadata": {
        "id": "sebeRde0lUjX"
      },
      "execution_count": 19,
      "outputs": []
    },
    {
      "cell_type": "code",
      "source": [
        "  df1.info()"
      ],
      "metadata": {
        "colab": {
          "base_uri": "https://localhost:8080/"
        },
        "id": "YpgusezDlKG5",
        "outputId": "8bbe3d8f-115d-4d4c-8b8a-ada30a78c742"
      },
      "execution_count": 20,
      "outputs": [
        {
          "output_type": "stream",
          "name": "stdout",
          "text": [
            "<class 'pandas.core.frame.DataFrame'>\n",
            "Index: 719 entries, 22-01-2020 to 09-01-2022\n",
            "Data columns (total 1 columns):\n",
            " #   Column  Non-Null Count  Dtype\n",
            "---  ------  --------------  -----\n",
            " 0   Values  719 non-null    int64\n",
            "dtypes: int64(1)\n",
            "memory usage: 11.2+ KB\n"
          ]
        }
      ]
    },
    {
      "cell_type": "code",
      "source": [
        "df1.index.freq='B'"
      ],
      "metadata": {
        "id": "XPfF5eqwll45"
      },
      "execution_count": 21,
      "outputs": []
    },
    {
      "cell_type": "code",
      "source": [
        "df1.info()"
      ],
      "metadata": {
        "colab": {
          "base_uri": "https://localhost:8080/"
        },
        "id": "6THtyGqaloHL",
        "outputId": "7e793bc2-06b8-4dad-dbbb-f69e1c92fe6c"
      },
      "execution_count": 22,
      "outputs": [
        {
          "output_type": "stream",
          "name": "stdout",
          "text": [
            "<class 'pandas.core.frame.DataFrame'>\n",
            "Index: 719 entries, 22-01-2020 to 09-01-2022\n",
            "Data columns (total 1 columns):\n",
            " #   Column  Non-Null Count  Dtype\n",
            "---  ------  --------------  -----\n",
            " 0   Values  719 non-null    int64\n",
            "dtypes: int64(1)\n",
            "memory usage: 11.2+ KB\n"
          ]
        }
      ]
    },
    {
      "cell_type": "code",
      "source": [
        "df1.plot(figsize=(12,8))"
      ],
      "metadata": {
        "colab": {
          "base_uri": "https://localhost:8080/",
          "height": 526
        },
        "id": "mier5ao2d0Qm",
        "outputId": "a0cb9fe7-b1bc-47cb-bf13-81029d8e2044"
      },
      "execution_count": 23,
      "outputs": [
        {
          "output_type": "execute_result",
          "data": {
            "text/plain": [
              "<matplotlib.axes._subplots.AxesSubplot at 0x7feefcc24ad0>"
            ]
          },
          "metadata": {},
          "execution_count": 23
        },
        {
          "output_type": "display_data",
          "data": {
            "text/plain": [
              "<Figure size 864x576 with 1 Axes>"
            ],
            "image/png": "[encoded data removed]"
          },
          "metadata": {
            "needs_background": "light"
          }
        }
      ]
    },
    {
      "cell_type": "code",
      "source": [
        "train = df1.iloc[:600]"
      ],
      "metadata": {
        "id": "e2pg8KAad0OI"
      },
      "execution_count": 24,
      "outputs": []
    },
    {
      "cell_type": "code",
      "source": [
        "test = df1.iloc[601:]"
      ],
      "metadata": {
        "id": "_dZyFVLCd0MH"
      },
      "execution_count": 25,
      "outputs": []
    },
    {
      "cell_type": "code",
      "source": [
        "len(test)"
      ],
      "metadata": {
        "colab": {
          "base_uri": "https://localhost:8080/"
        },
        "id": "Z9cFOCvOjXiF",
        "outputId": "2a8caf5d-4396-41c6-9ae3-6870dcaba259"
      },
      "execution_count": 26,
      "outputs": [
        {
          "output_type": "execute_result",
          "data": {
            "text/plain": [
              "118"
            ]
          },
          "metadata": {},
          "execution_count": 26
        }
      ]
    },
    {
      "cell_type": "code",
      "source": [
        "test.plot()"
      ],
      "metadata": {
        "colab": {
          "base_uri": "https://localhost:8080/",
          "height": 296
        },
        "id": "N7EG5iV3d0J1",
        "outputId": "ac441bb5-0945-4d21-dc3a-df151a426133"
      },
      "execution_count": 27,
      "outputs": [
        {
          "output_type": "execute_result",
          "data": {
            "text/plain": [
              "<matplotlib.axes._subplots.AxesSubplot at 0x7feefc664b50>"
            ]
          },
          "metadata": {},
          "execution_count": 27
        },
        {
          "output_type": "display_data",
          "data": {
            "text/plain": [
              "<Figure size 432x288 with 1 Axes>"
            ],
            "image/png": "[encoded data removed]"
          },
          "metadata": {
            "needs_background": "light"
          }
        }
      ]
    },
    {
      "cell_type": "code",
      "source": [
        "train.plot()\n",
        "test.plot()"
      ],
      "metadata": {
        "colab": {
          "base_uri": "https://localhost:8080/",
          "height": 570
        },
        "id": "gQh7507kd0Hp",
        "outputId": "6be406c7-7269-4fee-f5a1-78e3effd6e8a"
      },
      "execution_count": 28,
      "outputs": [
        {
          "output_type": "execute_result",
          "data": {
            "text/plain": [
              "<matplotlib.axes._subplots.AxesSubplot at 0x7feefc5a3f50>"
            ]
          },
          "metadata": {},
          "execution_count": 28
        },
        {
          "output_type": "display_data",
          "data": {
            "text/plain": [
              "<Figure size 432x288 with 1 Axes>"
            ],
            "image/png": "[encoded data removed]"
          },
          "metadata": {
            "needs_background": "light"
          }
        },
        {
          "output_type": "display_data",
          "data": {
            "text/plain": [
              "<Figure size 432x288 with 1 Axes>"
            ],
            "image/png": "[encoded data removed]"
          },
          "metadata": {
            "needs_background": "light"
          }
        }
      ]
    },
    {
      "cell_type": "code",
      "source": [
        "from statsmodels.tsa.holtwinters import ExponentialSmoothing"
      ],
      "metadata": {
        "id": "aF8ScgN0efgO"
      },
      "execution_count": 29,
      "outputs": []
    },
    {
      "cell_type": "code",
      "source": [
        "data = np.array(df1[\"Values\"])"
      ],
      "metadata": {
        "id": "GfZ46JGtgH1I"
      },
      "execution_count": 30,
      "outputs": []
    },
    {
      "cell_type": "code",
      "source": [
        "#np.asarray(data)"
      ],
      "metadata": {
        "id": "MwDGfIEwgUf5"
      },
      "execution_count": 31,
      "outputs": []
    },
    {
      "cell_type": "code",
      "source": [
        "#data = train[\"Values\"].astype('int')"
      ],
      "metadata": {
        "id": "RKAg5A6nhG70"
      },
      "execution_count": 32,
      "outputs": []
    },
    {
      "cell_type": "code",
      "source": [
        "#df1.index = pd.DatetimeIndex(df1.index).to_period('M')"
      ],
      "metadata": {
        "id": "oYQiBKXTmkoL"
      },
      "execution_count": 33,
      "outputs": []
    },
    {
      "cell_type": "code",
      "source": [
        "#test.index = pd.DatetimeIndex(test.index).to_period('M')"
      ],
      "metadata": {
        "id": "TTOpkWawm7a5"
      },
      "execution_count": 34,
      "outputs": []
    },
    {
      "cell_type": "code",
      "source": [
        "#train.index = pd.DatetimeIndex(train.index).to_period('M')"
      ],
      "metadata": {
        "id": "KaSvJbYrmg4L"
      },
      "execution_count": 35,
      "outputs": []
    },
    {
      "cell_type": "code",
      "source": [
        "#model = ExponentialSmoothing(train['Values'],trend='mul',seasonal='mul',seasonal_periods=12).fit()"
      ],
      "metadata": {
        "id": "xzxIiCq3efd6"
      },
      "execution_count": 39,
      "outputs": []
    },
    {
      "cell_type": "code",
      "source": [
        "test.plot()\n",
        "plt.show()\n",
        "#model.forecast(10).plot()\n",
        "plt.show()"
      ],
      "metadata": {
        "colab": {
          "base_uri": "https://localhost:8080/",
          "height": 279
        },
        "id": "6MG8H6Zzefbv",
        "outputId": "0d851679-83fe-4294-f846-8b418540ddf1"
      },
      "execution_count": 41,
      "outputs": [
        {
          "output_type": "display_data",
          "data": {
            "text/plain": [
              "<Figure size 432x288 with 1 Axes>"
            ],
            "image/png": "[encoded data removed]"
          },
          "metadata": {
            "needs_background": "light"
          }
        }
      ]
    },
    {
      "cell_type": "code",
      "source": [
        "df1.plot(figsize=(12,8))\n",
        "#test_data = model.forecast(100).plot()\n",
        "plt.legend()"
      ],
      "metadata": {
        "colab": {
          "base_uri": "https://localhost:8080/",
          "height": 526
        },
        "id": "Dw5PKre8efZX",
        "outputId": "1d9bfce3-34d0-4092-90b3-0c64e526a585"
      },
      "execution_count": 42,
      "outputs": [
        {
          "output_type": "execute_result",
          "data": {
            "text/plain": [
              "<matplotlib.legend.Legend at 0x7feefc3fca50>"
            ]
          },
          "metadata": {},
          "execution_count": 42
        },
        {
          "output_type": "display_data",
          "data": {
            "text/plain": [
              "<Figure size 864x576 with 1 Axes>"
            ],
            "image/png": "[encoded data removed]"
          },
          "metadata": {
            "needs_background": "light"
          }
        }
      ]
    },
    {
      "cell_type": "code",
      "source": [
        "#today = datetime.date.today()\n",
        "plt.figure()\n",
        "plt.plot(df1.index,df1['Values'])"
      ],
      "metadata": {
        "colab": {
          "base_uri": "https://localhost:8080/",
          "height": 294
        },
        "id": "xdyS_prtXYqN",
        "outputId": "a66cb589-190c-4662-a585-a9e05319e986"
      },
      "execution_count": 43,
      "outputs": [
        {
          "output_type": "execute_result",
          "data": {
            "text/plain": [
              "[<matplotlib.lines.Line2D at 0x7feefc333410>]"
            ]
          },
          "metadata": {},
          "execution_count": 43
        },
        {
          "output_type": "display_data",
          "data": {
            "text/plain": [
              "<Figure size 432x288 with 1 Axes>"
            ],
            "image/png": "[encoded data removed]"
          },
          "metadata": {
            "needs_background": "light"
          }
        }
      ]
    },
    {
      "cell_type": "code",
      "source": [
        "SimpleExpSmoothing(df1).fit(smoothing_level=0.1)"
      ],
      "metadata": {
        "colab": {
          "base_uri": "https://localhost:8080/"
        },
        "id": "StjuDhQwXhWd",
        "outputId": "18fc16b6-e231-43ab-df23-bd53aaba3032"
      },
      "execution_count": 44,
      "outputs": [
        {
          "output_type": "stream",
          "name": "stderr",
          "text": [
            "/usr/local/lib/python3.7/dist-packages/statsmodels/tsa/base/tsa_model.py:219: ValueWarning: A date index has been provided, but it has no associated frequency information and so will be ignored when e.g. forecasting.\n",
            "  ' ignored when e.g. forecasting.', ValueWarning)\n"
          ]
        },
        {
          "output_type": "execute_result",
          "data": {
            "text/plain": [
              "<statsmodels.tsa.holtwinters.HoltWintersResultsWrapper at 0x7feefbe8f850>"
            ]
          },
          "metadata": {},
          "execution_count": 44
        }
      ]
    },
    {
      "cell_type": "code",
      "source": [
        "\n",
        "import plotly.express as px\n",
        "fig = px.line(df1)\n",
        "fig.show()"
      ],
      "metadata": {
        "colab": {
          "base_uri": "https://localhost:8080/",
          "height": 542
        },
        "id": "6i5oxNUC11vo",
        "outputId": "e62d1776-addf-4a6a-86cd-6dc9c2638594"
      },
      "execution_count": 45,
      "outputs": [
        {
          "output_type": "display_data",
          "data": {
            "text/html": [
              "<html>\n",
              "<head><meta charset=\"utf-8\" /></head>\n",
              "<body>\n",
              "    <div>            <script src=\"https://cdnjs.cloudflare.com/ajax/libs/mathjax/2.7.5/MathJax.js?config=TeX-AMS-MML_SVG\"></script><script type=\"text/javascript\">if (window.MathJax) {MathJax.Hub.Config({SVG: {font: \"STIX-Web\"}});}</script>                <script type=\"text/javascript\">window.PlotlyConfig = {MathJaxConfig: 'local'};</script>\n",
              "        <script src=\"https://cdn.plot.ly/plotly-2.8.3.min.js\"></script>                <div id=\"b219533f-f391-40a6-b0be-585a555bd183\" class=\"plotly-graph-div\" style=\"height:525px; width:100%;\"></div>            <script type=\"text/javascript\">                                    window.PLOTLYENV=window.PLOTLYENV || {};                                    if (document.getElementById(\"b219533f-f391-40a6-b0be-585a555bd183\")) {                    Plotly.newPlot(                        \"b219533f-f391-40a6-b0be-585a555bd183\",                        [{\"hovertemplate\":\"variable=Values<br>Time=%{x}<br>value=%{y}<extra></extra>\",\"legendgroup\":\"Values\",\"line\":{\"color\":\"#636efa\",\"dash\":\"solid\"},\"marker\":{\"symbol\":\"circle\"},\"mode\":\"lines\",\"name\":\"Values\",\"orientation\":\"v\",\"showlegend\":true,\"x\":[\"22-01-2020\",\"23-01-2020\",\"24-01-2020\",\"25-01-2020\",\"26-01-2020\",\"27-01-2020\",\"28-01-2020\",\"29-01-2020\",\"30-01-2020\",\"31-01-2020\",\"01-02-2020\",\"02-02-2020\",\"03-02-2020\",\"04-02-2020\",\"05-02-2020\",\"06-02-2020\",\"07-02-2020\",\"08-02-2020\",\"09-02-2020\",\"10-02-2020\",\"11-02-2020\",\"12-02-2020\",\"13-02-2020\",\"14-02-2020\",\"15-02-2020\",\"16-02-2020\",\"17-02-2020\",\"18-02-2020\",\"19-02-2020\",\"20-02-2020\",\"21-02-2020\",\"22-02-2020\",\"23-02-2020\",\"24-02-2020\",\"25-02-2020\",\"26-02-2020\",\"27-02-2020\",\"28-02-2020\",\"29-02-2020\",\"01-03-2020\",\"02-03-2020\",\"03-03-2020\",\"04-03-2020\",\"05-03-2020\",\"06-03-2020\",\"07-03-2020\",\"08-03-2020\",\"09-03-2020\",\"10-03-2020\",\"11-03-2020\",\"12-03-2020\",\"13-03-2020\",\"14-03-2020\",\"15-03-2020\",\"16-03-2020\",\"17-03-2020\",\"18-03-2020\",\"19-03-2020\",\"20-03-2020\",\"21-03-2020\",\"22-03-2020\",\"23-03-2020\",\"24-03-2020\",\"25-03-2020\",\"26-03-2020\",\"27-03-2020\",\"28-03-2020\",\"29-03-2020\",\"30-03-2020\",\"31-03-2020\",\"01-04-2020\",\"02-04-2020\",\"03-04-2020\",\"04-04-2020\",\"05-04-2020\",\"06-04-2020\",\"07-04-2020\",\"08-04-2020\",\"09-04-2020\",\"10-04-2020\",\"11-04-2020\",\"12-04-2020\",\"13-04-2020\",\"14-04-2020\",\"15-04-2020\",\"16-04-2020\",\"17-04-2020\",\"18-04-2020\",\"19-04-2020\",\"20-04-2020\",\"21-04-2020\",\"22-04-2020\",\"23-04-2020\",\"24-04-2020\",\"25-04-2020\",\"26-04-2020\",\"27-04-2020\",\"28-04-2020\",\"29-04-2020\",\"30-04-2020\",\"01-05-2020\",\"02-05-2020\",\"03-05-2020\",\"04-05-2020\",\"05-05-2020\",\"06-05-2020\",\"07-05-2020\",\"08-05-2020\",\"09-05-2020\",\"10-05-2020\",\"11-05-2020\",\"12-05-2020\",\"13-05-2020\",\"14-05-2020\",\"15-05-2020\",\"16-05-2020\",\"17-05-2020\",\"18-05-2020\",\"19-05-2020\",\"20-05-2020\",\"21-05-2020\",\"22-05-2020\",\"23-05-2020\",\"24-05-2020\",\"25-05-2020\",\"26-05-2020\",\"27-05-2020\",\"28-05-2020\",\"29-05-2020\",\"30-05-2020\",\"31-05-2020\",\"01-06-2020\",\"02-06-2020\",\"03-06-2020\",\"04-06-2020\",\"05-06-2020\",\"06-06-2020\",\"07-06-2020\",\"08-06-2020\",\"09-06-2020\",\"10-06-2020\",\"11-06-2020\",\"12-06-2020\",\"13-06-2020\",\"14-06-2020\",\"15-06-2020\",\"16-06-2020\",\"17-06-2020\",\"18-06-2020\",\"19-06-2020\",\"20-06-2020\",\"21-06-2020\",\"22-06-2020\",\"23-06-2020\",\"24-06-2020\",\"25-06-2020\",\"26-06-2020\",\"27-06-2020\",\"28-06-2020\",\"29-06-2020\",\"30-06-2020\",\"01-07-2020\",\"02-07-2020\",\"03-07-2020\",\"04-07-2020\",\"05-07-2020\",\"06-07-2020\",\"07-07-2020\",\"08-07-2020\",\"09-07-2020\",\"10-07-2020\",\"11-07-2020\",\"12-07-2020\",\"13-07-2020\",\"14-07-2020\",\"15-07-2020\",\"16-07-2020\",\"17-07-2020\",\"18-07-2020\",\"19-07-2020\",\"20-07-2020\",\"21-07-2020\",\"22-07-2020\",\"23-07-2020\",\"24-07-2020\",\"25-07-2020\",\"26-07-2020\",\"27-07-2020\",\"28-07-2020\",\"29-07-2020\",\"30-07-2020\",\"31-07-2020\",\"01-08-2020\",\"02-08-2020\",\"03-08-2020\",\"04-08-2020\",\"05-08-2020\",\"06-08-2020\",\"07-08-2020\",\"08-08-2020\",\"09-08-2020\",\"10-08-2020\",\"11-08-2020\",\"12-08-2020\",\"13-08-2020\",\"14-08-2020\",\"15-08-2020\",\"16-08-2020\",\"17-08-2020\",\"18-08-2020\",\"19-08-2020\",\"20-08-2020\",\"21-08-2020\",\"22-08-2020\",\"23-08-2020\",\"24-08-2020\",\"25-08-2020\",\"26-08-2020\",\"27-08-2020\",\"28-08-2020\",\"29-08-2020\",\"30-08-2020\",\"31-08-2020\",\"01-09-2020\",\"02-09-2020\",\"03-09-2020\",\"04-09-2020\",\"05-09-2020\",\"06-09-2020\",\"07-09-2020\",\"08-09-2020\",\"09-09-2020\",\"10-09-2020\",\"11-09-2020\",\"12-09-2020\",\"13-09-2020\",\"14-09-2020\",\"15-09-2020\",\"16-09-2020\",\"17-09-2020\",\"18-09-2020\",\"19-09-2020\",\"20-09-2020\",\"21-09-2020\",\"22-09-2020\",\"23-09-2020\",\"24-09-2020\",\"25-09-2020\",\"26-09-2020\",\"27-09-2020\",\"28-09-2020\",\"29-09-2020\",\"30-09-2020\",\"01-10-2020\",\"02-10-2020\",\"03-10-2020\",\"04-10-2020\",\"05-10-2020\",\"06-10-2020\",\"07-10-2020\",\"08-10-2020\",\"09-10-2020\",\"10-10-2020\",\"11-10-2020\",\"12-10-2020\",\"13-10-2020\",\"14-10-2020\",\"15-10-2020\",\"16-10-2020\",\"17-10-2020\",\"18-10-2020\",\"19-10-2020\",\"20-10-2020\",\"21-10-2020\",\"22-10-2020\",\"23-10-2020\",\"24-10-2020\",\"25-10-2020\",\"26-10-2020\",\"27-10-2020\",\"28-10-2020\",\"29-10-2020\",\"30-10-2020\",\"31-10-2020\",\"01-11-2020\",\"02-11-2020\",\"03-11-2020\",\"04-11-2020\",\"05-11-2020\",\"06-11-2020\",\"07-11-2020\",\"08-11-2020\",\"09-11-2020\",\"10-11-2020\",\"11-11-2020\",\"12-11-2020\",\"13-11-2020\",\"14-11-2020\",\"15-11-2020\",\"16-11-2020\",\"17-11-2020\",\"18-11-2020\",\"19-11-2020\",\"20-11-2020\",\"21-11-2020\",\"22-11-2020\",\"23-11-2020\",\"24-11-2020\",\"25-11-2020\",\"26-11-2020\",\"27-11-2020\",\"28-11-2020\",\"29-11-2020\",\"30-11-2020\",\"01-12-2020\",\"02-12-2020\",\"03-12-2020\",\"04-12-2020\",\"05-12-2020\",\"06-12-2020\",\"07-12-2020\",\"08-12-2020\",\"09-12-2020\",\"10-12-2020\",\"11-12-2020\",\"12-12-2020\",\"13-12-2020\",\"14-12-2020\",\"15-12-2020\",\"16-12-2020\",\"17-12-2020\",\"18-12-2020\",\"19-12-2020\",\"20-12-2020\",\"21-12-2020\",\"22-12-2020\",\"23-12-2020\",\"24-12-2020\",\"25-12-2020\",\"26-12-2020\",\"27-12-2020\",\"28-12-2020\",\"29-12-2020\",\"30-12-2020\",\"31-12-2020\",\"01-01-2021\",\"02-01-2021\",\"03-01-2021\",\"04-01-2021\",\"05-01-2021\",\"06-01-2021\",\"07-01-2021\",\"08-01-2021\",\"09-01-2021\",\"10-01-2021\",\"11-01-2021\",\"12-01-2021\",\"13-01-2021\",\"14-01-2021\",\"15-01-2021\",\"16-01-2021\",\"17-01-2021\",\"18-01-2021\",\"19-01-2021\",\"20-01-2021\",\"21-01-2021\",\"22-01-2021\",\"23-01-2021\",\"24-01-2021\",\"25-01-2021\",\"26-01-2021\",\"27-01-2021\",\"28-01-2021\",\"29-01-2021\",\"30-01-2021\",\"31-01-2021\",\"01-02-2021\",\"02-02-2021\",\"03-02-2021\",\"04-02-2021\",\"05-02-2021\",\"06-02-2021\",\"07-02-2021\",\"08-02-2021\",\"09-02-2021\",\"10-02-2021\",\"11-02-2021\",\"12-02-2021\",\"13-02-2021\",\"14-02-2021\",\"15-02-2021\",\"16-02-2021\",\"17-02-2021\",\"18-02-2021\",\"19-02-2021\",\"20-02-2021\",\"21-02-2021\",\"22-02-2021\",\"23-02-2021\",\"24-02-2021\",\"25-02-2021\",\"26-02-2021\",\"27-02-2021\",\"28-02-2021\",\"01-03-2021\",\"02-03-2021\",\"03-03-2021\",\"04-03-2021\",\"05-03-2021\",\"06-03-2021\",\"07-03-2021\",\"08-03-2021\",\"09-03-2021\",\"10-03-2021\",\"11-03-2021\",\"12-03-2021\",\"13-03-2021\",\"14-03-2021\",\"15-03-2021\",\"16-03-2021\",\"17-03-2021\",\"18-03-2021\",\"19-03-2021\",\"20-03-2021\",\"21-03-2021\",\"22-03-2021\",\"23-03-2021\",\"24-03-2021\",\"25-03-2021\",\"26-03-2021\",\"27-03-2021\",\"28-03-2021\",\"29-03-2021\",\"30-03-2021\",\"31-03-2021\",\"01-04-2021\",\"02-04-2021\",\"03-04-2021\",\"04-04-2021\",\"05-04-2021\",\"06-04-2021\",\"07-04-2021\",\"08-04-2021\",\"09-04-2021\",\"10-04-2021\",\"11-04-2021\",\"12-04-2021\",\"13-04-2021\",\"14-04-2021\",\"15-04-2021\",\"16-04-2021\",\"17-04-2021\",\"18-04-2021\",\"19-04-2021\",\"20-04-2021\",\"21-04-2021\",\"22-04-2021\",\"23-04-2021\",\"24-04-2021\",\"25-04-2021\",\"26-04-2021\",\"27-04-2021\",\"28-04-2021\",\"29-04-2021\",\"30-04-2021\",\"01-05-2021\",\"02-05-2021\",\"03-05-2021\",\"04-05-2021\",\"05-05-2021\",\"06-05-2021\",\"07-05-2021\",\"08-05-2021\",\"09-05-2021\",\"10-05-2021\",\"11-05-2021\",\"12-05-2021\",\"13-05-2021\",\"14-05-2021\",\"15-05-2021\",\"16-05-2021\",\"17-05-2021\",\"18-05-2021\",\"19-05-2021\",\"20-05-2021\",\"21-05-2021\",\"22-05-2021\",\"23-05-2021\",\"24-05-2021\",\"25-05-2021\",\"26-05-2021\",\"27-05-2021\",\"28-05-2021\",\"29-05-2021\",\"30-05-2021\",\"31-05-2021\",\"01-06-2021\",\"02-06-2021\",\"03-06-2021\",\"04-06-2021\",\"05-06-2021\",\"06-06-2021\",\"07-06-2021\",\"08-06-2021\",\"09-06-2021\",\"10-06-2021\",\"11-06-2021\",\"12-06-2021\",\"13-06-2021\",\"14-06-2021\",\"15-06-2021\",\"16-06-2021\",\"17-06-2021\",\"18-06-2021\",\"19-06-2021\",\"20-06-2021\",\"21-06-2021\",\"22-06-2021\",\"23-06-2021\",\"24-06-2021\",\"25-06-2021\",\"26-06-2021\",\"27-06-2021\",\"28-06-2021\",\"29-06-2021\",\"30-06-2021\",\"01-07-2021\",\"02-07-2021\",\"03-07-2021\",\"04-07-2021\",\"05-07-2021\",\"06-07-2021\",\"07-07-2021\",\"08-07-2021\",\"09-07-2021\",\"10-07-2021\",\"11-07-2021\",\"12-07-2021\",\"13-07-2021\",\"14-07-2021\",\"15-07-2021\",\"16-07-2021\",\"17-07-2021\",\"18-07-2021\",\"19-07-2021\",\"20-07-2021\",\"21-07-2021\",\"22-07-2021\",\"23-07-2021\",\"24-07-2021\",\"25-07-2021\",\"26-07-2021\",\"27-07-2021\",\"28-07-2021\",\"29-07-2021\",\"30-07-2021\",\"31-07-2021\",\"01-08-2021\",\"02-08-2021\",\"03-08-2021\",\"04-08-2021\",\"05-08-2021\",\"06-08-2021\",\"07-08-2021\",\"08-08-2021\",\"09-08-2021\",\"10-08-2021\",\"11-08-2021\",\"12-08-2021\",\"13-08-2021\",\"14-08-2021\",\"15-08-2021\",\"16-08-2021\",\"17-08-2021\",\"18-08-2021\",\"19-08-2021\",\"20-08-2021\",\"21-08-2021\",\"22-08-2021\",\"23-08-2021\",\"24-08-2021\",\"25-08-2021\",\"26-08-2021\",\"27-08-2021\",\"28-08-2021\",\"29-08-2021\",\"30-08-2021\",\"31-08-2021\",\"01-09-2021\",\"02-09-2021\",\"03-09-2021\",\"04-09-2021\",\"05-09-2021\",\"06-09-2021\",\"07-09-2021\",\"08-09-2021\",\"09-09-2021\",\"10-09-2021\",\"11-09-2021\",\"12-09-2021\",\"13-09-2021\",\"14-09-2021\",\"15-09-2021\",\"16-09-2021\",\"17-09-2021\",\"18-09-2021\",\"19-09-2021\",\"20-09-2021\",\"21-09-2021\",\"22-09-2021\",\"23-09-2021\",\"24-09-2021\",\"25-09-2021\",\"26-09-2021\",\"27-09-2021\",\"28-09-2021\",\"29-09-2021\",\"30-09-2021\",\"01-10-2021\",\"02-10-2021\",\"03-10-2021\",\"04-10-2021\",\"05-10-2021\",\"06-10-2021\",\"07-10-2021\",\"08-10-2021\",\"09-10-2021\",\"10-10-2021\",\"11-10-2021\",\"12-10-2021\",\"13-10-2021\",\"14-10-2021\",\"15-10-2021\",\"16-10-2021\",\"17-10-2021\",\"18-10-2021\",\"19-10-2021\",\"20-10-2021\",\"21-10-2021\",\"22-10-2021\",\"23-10-2021\",\"24-10-2021\",\"25-10-2021\",\"26-10-2021\",\"27-10-2021\",\"28-10-2021\",\"29-10-2021\",\"30-10-2021\",\"31-10-2021\",\"01-11-2021\",\"02-11-2021\",\"03-11-2021\",\"04-11-2021\",\"05-11-2021\",\"06-11-2021\",\"07-11-2021\",\"08-11-2021\",\"09-11-2021\",\"10-11-2021\",\"11-11-2021\",\"12-11-2021\",\"13-11-2021\",\"14-11-2021\",\"15-11-2021\",\"16-11-2021\",\"17-11-2021\",\"18-11-2021\",\"19-11-2021\",\"20-11-2021\",\"21-11-2021\",\"22-11-2021\",\"23-11-2021\",\"24-11-2021\",\"25-11-2021\",\"26-11-2021\",\"27-11-2021\",\"28-11-2021\",\"29-11-2021\",\"30-11-2021\",\"01-12-2021\",\"02-12-2021\",\"03-12-2021\",\"04-12-2021\",\"05-12-2021\",\"06-12-2021\",\"07-12-2021\",\"08-12-2021\",\"09-12-2021\",\"10-12-2021\",\"11-12-2021\",\"12-12-2021\",\"13-12-2021\",\"14-12-2021\",\"15-12-2021\",\"16-12-2021\",\"17-12-2021\",\"18-12-2021\",\"19-12-2021\",\"20-12-2021\",\"21-12-2021\",\"22-12-2021\",\"23-12-2021\",\"24-12-2021\",\"25-12-2021\",\"26-12-2021\",\"27-12-2021\",\"28-12-2021\",\"29-12-2021\",\"30-12-2021\",\"31-12-2021\",\"01-01-2022\",\"02-01-2022\",\"03-01-2022\",\"04-01-2022\",\"05-01-2022\",\"06-01-2022\",\"07-01-2022\",\"08-01-2022\",\"09-01-2022\"],\"xaxis\":\"x\",\"y\":[32,39,42,56,65,108,127,145,225,287,476,627,857,1130,1493,2016,2617,3247,3949,4684,5151,6294,8061,9397,10867,12587,14352,16123,18181,18894,22892,23397,25229,27907,30388,33282,36714,39785,42721,45605,48227,51170,53796,55864,58358,60695,62495,64402,66999,68328,70255,72622,76031,78086,80830,83317,84958,87403,91650,97867,98355,107974,113753,122125,130910,139421,148877,164213,177803,193075,210218,225640,246052,259888,276597,299859,328741,353995,375733,401983,421366,448623,473697,510236,541119,567303,591169,622952,645130,679932,710017,738747,788776,816531,845343,873227,906439,948516,1013632,1051789,1092440,1124973,1159059,1195532,1241651,1281176,1317589,1371030,1404839,1451724,1488766,1544638,1584349,1632452,1688863,1729871,1782787,1834839,1893809,1945029,2053576,2108410,2163937,2227666,2282818,2346145,2413008,2490273,2560723,2637107,2692032,2796144,2875235,2945305,3014470,3086674,3141783,3293394,3375664,3454835,3540714,3620434,3706326,3777145,3857420,3955283,4074114,4155277,4250267,4366121,4434807,4526440,4630495,4746246,4839130,4945110,5051396,5140599,5235170,5352510,5468424,5753358,5863246,6059006,6178369,6302068,6447101,6605157,6739775,6879221,7004913,7116749,7257072,7399324,7559130,7711615,7895036,8045823,8133881,8293009,8467705,8647437,8823667,9051967,9271779,9415080,9586463,9756921,9959507,10173026,10372632,10553543,10692267,10914712,11138369,11360064,11548871,11740917,11941161,12119939,12284150,12589218,12829863,12993779,13277021,13445625,13678579,13889591,14117186,14335183,14542973,14711467,14921384,15137915,15337336,15568885,15794619,16001856,16200974,16412387,16622627,16823417,17081379,17300616,17521985,17735486,17936474,18148265,18345813,18547610,18787877,19004538,19228208,19451142,19638990,19867489,20093776,20323253,20543464,20794613,21031598,21268675,21514153,21733546,21996959,22252629,22491837,22753980,22967859,23190401,23431685,23679903,23901445,24073730,24329331,24551490,24788958,25021584,25276775,25496281,25703071,25898476,26121116,26321235,26513680,26725965,26933292,27136306,27334589,27536100,27738631,27950078,28161300,28388093,28594827,28806408,29003666,29242801,29832506,30098468,30345219,30600993,30845322,31103269,31383406,31634979,31914298,32217953,32506314,32805330,33058570,33315623,33572983,33953207,34179446,34481578,34759397,34990157,35380887,35814478,36177588,36551887,36907311,37246581,37520305,37931518,38303697,38741107,39107983,39489609,39849315,40167598,40569854,41046058,41508984,41935968,42426585,42862533,43178577,43591716,44032487,44458967,44950193,45428333,46933276,47328395,41338398,41696562,42058782,42434191,42751919,43103505,43380334,43723554,44086739,44410879,44725551,45017157,45425321,45717709,46016135,46369230,46757475,47055807,47359111,47614296,47882778,48173186,48488547,48801672,49125603,49422866,49753111,50023661,50313949,50657506,51023567,51396412,51717034,52034089,52349804,52668557,53071501,53399272,53765411,54147168,54463661,54774618,55089059,55418602,55759371,56075030,56439137,56790303,57079202,57351844,57702034,58031881,58325870,58607157,58901714,59179149,59411983,59783591,60052899,60328984,60616583,60862826,61058257,61346870,61582275,61876216,62112834,62347470,62616686,62833943,63016513,63295143,63504602,63732294,63992562,64243284,64418461,64633387,64903491,65132899,65383179,65609539,65846042,66084362,66358920,66621153,66856509,67129126,67397682,67650214,67895902,68185781,68452266,68716802,68985878,69264939,69523150,69803249,70137878,70451020,70786662,71098479,71463065,71768318,72097106,72401542,72736785,73119294,73464080,73784287,74150288,74498476,74846289,75216285,75699590,76094849,76548562,76933556,77464028,77858760,78345222,78792112,79236514,79740631,80259167,80839358,81374733,81979570,82491870,83128166,83767998,84344289,84878103,85565469,86246373,86843038,87550354,88236950,88919400,89612414,90255903,90912803,91626285,92301897,92998026,93709031,94371824,95000510,95751514,96399063,97089180,97754527,98397064,99064468,99808930,100552043,101250070,101886759,102501547,103118308,103620279,104247871,104824934,105380747,106078105,106633068,107140668,107630597,108159766,108743649,109272023,109701213,110226715,110704845,111146371,111568368,111983104,112435799,112849488,113225020,113563994,113993655,114340429,114800574,115149801,115530279,115849842,116181692,116446786,116804004,117107408,117507151,117796862,118125509,118420068,118678807,119006263,119299679,119580620,120008476,120299518,120569293,120868181,121235174,121563017,121831180,122123831,122462949,122907153,123197639,123499875,123783322,124113063,124394119,124784824,125065613,125382096,125688817,126008997,126315580,126671708,126918098,127435324,127762741,128063201,128409040,128745703,129094091,129401282,129705211,129994389,130277533,130582001,130899061,0,0,0,0,0,0,0,0,0,0,0,0,0,0,0,0,0,0,0,0,0,0,0,0,0,0,0,0,0,0,0,0,0,0,0,0,0,0,0,0,0,0,0,0,0,0,0,0,0,0,0,0,0,0,0,0,0,0,0,0,0,0,0,0,0,0,0,0,0,0,0,0,0,0,0,0,0,0,0,0,0,0,0,0,0,0,0,0,0,0,0,0,0,0,0,0,0,0,0,0,0,0,0,0,0,0,0,0,0,0,0,0,0,0,0,0,0,0,0,0,0,0,0,0,0,0,0,0,0,0,0,0,0,0,0,0,0,0,0,0,0,0,0,0,0,0,0,0,0,0,0,0,0,0,0,0,0,0,0],\"yaxis\":\"y\",\"type\":\"scatter\"}],                        {\"template\":{\"data\":{\"bar\":[{\"error_x\":{\"color\":\"#2a3f5f\"},\"error_y\":{\"color\":\"#2a3f5f\"},\"marker\":{\"line\":{\"color\":\"#E5ECF6\",\"width\":0.5},\"pattern\":{\"fillmode\":\"overlay\",\"size\":10,\"solidity\":0.2}},\"type\":\"bar\"}],\"barpolar\":[{\"marker\":{\"line\":{\"color\":\"#E5ECF6\",\"width\":0.5},\"pattern\":{\"fillmode\":\"overlay\",\"size\":10,\"solidity\":0.2}},\"type\":\"barpolar\"}],\"carpet\":[{\"aaxis\":{\"endlinecolor\":\"#2a3f5f\",\"gridcolor\":\"white\",\"linecolor\":\"white\",\"minorgridcolor\":\"white\",\"startlinecolor\":\"#2a3f5f\"},\"baxis\":{\"endlinecolor\":\"#2a3f5f\",\"gridcolor\":\"white\",\"linecolor\":\"white\",\"minorgridcolor\":\"white\",\"startlinecolor\":\"#2a3f5f\"},\"type\":\"carpet\"}],\"choropleth\":[{\"colorbar\":{\"outlinewidth\":0,\"ticks\":\"\"},\"type\":\"choropleth\"}],\"contour\":[{\"colorbar\":{\"outlinewidth\":0,\"ticks\":\"\"},\"colorscale\":[[0.0,\"#0d0887\"],[0.1111111111111111,\"#46039f\"],[0.2222222222222222,\"#7201a8\"],[0.3333333333333333,\"#9c179e\"],[0.4444444444444444,\"#bd3786\"],[0.5555555555555556,\"#d8576b\"],[0.6666666666666666,\"#ed7953\"],[0.7777777777777778,\"#fb9f3a\"],[0.8888888888888888,\"#fdca26\"],[1.0,\"#f0f921\"]],\"type\":\"contour\"}],\"contourcarpet\":[{\"colorbar\":{\"outlinewidth\":0,\"ticks\":\"\"},\"type\":\"contourcarpet\"}],\"heatmap\":[{\"colorbar\":{\"outlinewidth\":0,\"ticks\":\"\"},\"colorscale\":[[0.0,\"#0d0887\"],[0.1111111111111111,\"#46039f\"],[0.2222222222222222,\"#7201a8\"],[0.3333333333333333,\"#9c179e\"],[0.4444444444444444,\"#bd3786\"],[0.5555555555555556,\"#d8576b\"],[0.6666666666666666,\"#ed7953\"],[0.7777777777777778,\"#fb9f3a\"],[0.8888888888888888,\"#fdca26\"],[1.0,\"#f0f921\"]],\"type\":\"heatmap\"}],\"heatmapgl\":[{\"colorbar\":{\"outlinewidth\":0,\"ticks\":\"\"},\"colorscale\":[[0.0,\"#0d0887\"],[0.1111111111111111,\"#46039f\"],[0.2222222222222222,\"#7201a8\"],[0.3333333333333333,\"#9c179e\"],[0.4444444444444444,\"#bd3786\"],[0.5555555555555556,\"#d8576b\"],[0.6666666666666666,\"#ed7953\"],[0.7777777777777778,\"#fb9f3a\"],[0.8888888888888888,\"#fdca26\"],[1.0,\"#f0f921\"]],\"type\":\"heatmapgl\"}],\"histogram\":[{\"marker\":{\"pattern\":{\"fillmode\":\"overlay\",\"size\":10,\"solidity\":0.2}},\"type\":\"histogram\"}],\"histogram2d\":[{\"colorbar\":{\"outlinewidth\":0,\"ticks\":\"\"},\"colorscale\":[[0.0,\"#0d0887\"],[0.1111111111111111,\"#46039f\"],[0.2222222222222222,\"#7201a8\"],[0.3333333333333333,\"#9c179e\"],[0.4444444444444444,\"#bd3786\"],[0.5555555555555556,\"#d8576b\"],[0.6666666666666666,\"#ed7953\"],[0.7777777777777778,\"#fb9f3a\"],[0.8888888888888888,\"#fdca26\"],[1.0,\"#f0f921\"]],\"type\":\"histogram2d\"}],\"histogram2dcontour\":[{\"colorbar\":{\"outlinewidth\":0,\"ticks\":\"\"},\"colorscale\":[[0.0,\"#0d0887\"],[0.1111111111111111,\"#46039f\"],[0.2222222222222222,\"#7201a8\"],[0.3333333333333333,\"#9c179e\"],[0.4444444444444444,\"#bd3786\"],[0.5555555555555556,\"#d8576b\"],[0.6666666666666666,\"#ed7953\"],[0.7777777777777778,\"#fb9f3a\"],[0.8888888888888888,\"#fdca26\"],[1.0,\"#f0f921\"]],\"type\":\"histogram2dcontour\"}],\"mesh3d\":[{\"colorbar\":{\"outlinewidth\":0,\"ticks\":\"\"},\"type\":\"mesh3d\"}],\"parcoords\":[{\"line\":{\"colorbar\":{\"outlinewidth\":0,\"ticks\":\"\"}},\"type\":\"parcoords\"}],\"pie\":[{\"automargin\":true,\"type\":\"pie\"}],\"scatter\":[{\"marker\":{\"colorbar\":{\"outlinewidth\":0,\"ticks\":\"\"}},\"type\":\"scatter\"}],\"scatter3d\":[{\"line\":{\"colorbar\":{\"outlinewidth\":0,\"ticks\":\"\"}},\"marker\":{\"colorbar\":{\"outlinewidth\":0,\"ticks\":\"\"}},\"type\":\"scatter3d\"}],\"scattercarpet\":[{\"marker\":{\"colorbar\":{\"outlinewidth\":0,\"ticks\":\"\"}},\"type\":\"scattercarpet\"}],\"scattergeo\":[{\"marker\":{\"colorbar\":{\"outlinewidth\":0,\"ticks\":\"\"}},\"type\":\"scattergeo\"}],\"scattergl\":[{\"marker\":{\"colorbar\":{\"outlinewidth\":0,\"ticks\":\"\"}},\"type\":\"scattergl\"}],\"scattermapbox\":[{\"marker\":{\"colorbar\":{\"outlinewidth\":0,\"ticks\":\"\"}},\"type\":\"scattermapbox\"}],\"scatterpolar\":[{\"marker\":{\"colorbar\":{\"outlinewidth\":0,\"ticks\":\"\"}},\"type\":\"scatterpolar\"}],\"scatterpolargl\":[{\"marker\":{\"colorbar\":{\"outlinewidth\":0,\"ticks\":\"\"}},\"type\":\"scatterpolargl\"}],\"scatterternary\":[{\"marker\":{\"colorbar\":{\"outlinewidth\":0,\"ticks\":\"\"}},\"type\":\"scatterternary\"}],\"surface\":[{\"colorbar\":{\"outlinewidth\":0,\"ticks\":\"\"},\"colorscale\":[[0.0,\"#0d0887\"],[0.1111111111111111,\"#46039f\"],[0.2222222222222222,\"#7201a8\"],[0.3333333333333333,\"#9c179e\"],[0.4444444444444444,\"#bd3786\"],[0.5555555555555556,\"#d8576b\"],[0.6666666666666666,\"#ed7953\"],[0.7777777777777778,\"#fb9f3a\"],[0.8888888888888888,\"#fdca26\"],[1.0,\"#f0f921\"]],\"type\":\"surface\"}],\"table\":[{\"cells\":{\"fill\":{\"color\":\"#EBF0F8\"},\"line\":{\"color\":\"white\"}},\"header\":{\"fill\":{\"color\":\"#C8D4E3\"},\"line\":{\"color\":\"white\"}},\"type\":\"table\"}]},\"layout\":{\"annotationdefaults\":{\"arrowcolor\":\"#2a3f5f\",\"arrowhead\":0,\"arrowwidth\":1},\"autotypenumbers\":\"strict\",\"coloraxis\":{\"colorbar\":{\"outlinewidth\":0,\"ticks\":\"\"}},\"colorscale\":{\"diverging\":[[0,\"#8e0152\"],[0.1,\"#c51b7d\"],[0.2,\"#de77ae\"],[0.3,\"#f1b6da\"],[0.4,\"#fde0ef\"],[0.5,\"#f7f7f7\"],[0.6,\"#e6f5d0\"],[0.7,\"#b8e186\"],[0.8,\"#7fbc41\"],[0.9,\"#4d9221\"],[1,\"#276419\"]],\"sequential\":[[0.0,\"#0d0887\"],[0.1111111111111111,\"#46039f\"],[0.2222222222222222,\"#7201a8\"],[0.3333333333333333,\"#9c179e\"],[0.4444444444444444,\"#bd3786\"],[0.5555555555555556,\"#d8576b\"],[0.6666666666666666,\"#ed7953\"],[0.7777777777777778,\"#fb9f3a\"],[0.8888888888888888,\"#fdca26\"],[1.0,\"#f0f921\"]],\"sequentialminus\":[[0.0,\"#0d0887\"],[0.1111111111111111,\"#46039f\"],[0.2222222222222222,\"#7201a8\"],[0.3333333333333333,\"#9c179e\"],[0.4444444444444444,\"#bd3786\"],[0.5555555555555556,\"#d8576b\"],[0.6666666666666666,\"#ed7953\"],[0.7777777777777778,\"#fb9f3a\"],[0.8888888888888888,\"#fdca26\"],[1.0,\"#f0f921\"]]},\"colorway\":[\"#636efa\",\"#EF553B\",\"#00cc96\",\"#ab63fa\",\"#FFA15A\",\"#19d3f3\",\"#FF6692\",\"#B6E880\",\"#FF97FF\",\"#FECB52\"],\"font\":{\"color\":\"#2a3f5f\"},\"geo\":{\"bgcolor\":\"white\",\"lakecolor\":\"white\",\"landcolor\":\"#E5ECF6\",\"showlakes\":true,\"showland\":true,\"subunitcolor\":\"white\"},\"hoverlabel\":{\"align\":\"left\"},\"hovermode\":\"closest\",\"mapbox\":{\"style\":\"light\"},\"paper_bgcolor\":\"white\",\"plot_bgcolor\":\"#E5ECF6\",\"polar\":{\"angularaxis\":{\"gridcolor\":\"white\",\"linecolor\":\"white\",\"ticks\":\"\"},\"bgcolor\":\"#E5ECF6\",\"radialaxis\":{\"gridcolor\":\"white\",\"linecolor\":\"white\",\"ticks\":\"\"}},\"scene\":{\"xaxis\":{\"backgroundcolor\":\"#E5ECF6\",\"gridcolor\":\"white\",\"gridwidth\":2,\"linecolor\":\"white\",\"showbackground\":true,\"ticks\":\"\",\"zerolinecolor\":\"white\"},\"yaxis\":{\"backgroundcolor\":\"#E5ECF6\",\"gridcolor\":\"white\",\"gridwidth\":2,\"linecolor\":\"white\",\"showbackground\":true,\"ticks\":\"\",\"zerolinecolor\":\"white\"},\"zaxis\":{\"backgroundcolor\":\"#E5ECF6\",\"gridcolor\":\"white\",\"gridwidth\":2,\"linecolor\":\"white\",\"showbackground\":true,\"ticks\":\"\",\"zerolinecolor\":\"white\"}},\"shapedefaults\":{\"line\":{\"color\":\"#2a3f5f\"}},\"ternary\":{\"aaxis\":{\"gridcolor\":\"white\",\"linecolor\":\"white\",\"ticks\":\"\"},\"baxis\":{\"gridcolor\":\"white\",\"linecolor\":\"white\",\"ticks\":\"\"},\"bgcolor\":\"#E5ECF6\",\"caxis\":{\"gridcolor\":\"white\",\"linecolor\":\"white\",\"ticks\":\"\"}},\"title\":{\"x\":0.05},\"xaxis\":{\"automargin\":true,\"gridcolor\":\"white\",\"linecolor\":\"white\",\"ticks\":\"\",\"title\":{\"standoff\":15},\"zerolinecolor\":\"white\",\"zerolinewidth\":2},\"yaxis\":{\"automargin\":true,\"gridcolor\":\"white\",\"linecolor\":\"white\",\"ticks\":\"\",\"title\":{\"standoff\":15},\"zerolinecolor\":\"white\",\"zerolinewidth\":2}}},\"xaxis\":{\"anchor\":\"y\",\"domain\":[0.0,1.0],\"title\":{\"text\":\"Time\"}},\"yaxis\":{\"anchor\":\"x\",\"domain\":[0.0,1.0],\"title\":{\"text\":\"value\"}},\"legend\":{\"title\":{\"text\":\"variable\"},\"tracegroupgap\":0},\"margin\":{\"t\":60}},                        {\"responsive\": true}                    ).then(function(){\n",
              "                            \n",
              "var gd = document.getElementById('b219533f-f391-40a6-b0be-585a555bd183');\n",
              "var x = new MutationObserver(function (mutations, observer) {{\n",
              "        var display = window.getComputedStyle(gd).display;\n",
              "        if (!display || display === 'none') {{\n",
              "            console.log([gd, 'removed!']);\n",
              "            Plotly.purge(gd);\n",
              "            observer.disconnect();\n",
              "        }}\n",
              "}});\n",
              "\n",
              "// Listen for the removal of the full notebook cells\n",
              "var notebookContainer = gd.closest('#notebook-container');\n",
              "if (notebookContainer) {{\n",
              "    x.observe(notebookContainer, {childList: true});\n",
              "}}\n",
              "\n",
              "// Listen for the clearing of the current output cell\n",
              "var outputEl = gd.closest('.output');\n",
              "if (outputEl) {{\n",
              "    x.observe(outputEl, {childList: true});\n",
              "}}\n",
              "\n",
              "                        })                };                            </script>        </div>\n",
              "</body>\n",
              "</html>"
            ]
          },
          "metadata": {}
        }
      ]
    },
    {
      "cell_type": "code",
      "source": [
        "ax = df1.plot( color='black', figsize=(12,8), legend=True,linewidth=2)\n",
        "\n",
        "#First Instance\n",
        "ins1 = SimpleExpSmoothing(df1).fit(smoothing_level=0.2,optimized=False)\n",
        "ins_cast1 = ins1.forecast(3).rename('alpha=0.2')\n",
        "\n",
        "#Second Instance\n",
        "#ins2 = SimpleExpSmoothing(df1).fit(smoothing_level=0.8,optimized=False)\n",
        "#ins_cast2 = ins2.forecast(3).rename('alpha=0.5')\n",
        "\n",
        "#Third Instance\n",
        "ins3 = SimpleExpSmoothing(df1).fit()\n",
        "ins_cast3 = ins3.forecast(3).rename('alpha=%s'%ins3.model.params['smoothing_level'])\n",
        "\n",
        "#After creating model we will visualize the plot\n",
        "ax = df1.plot(color='black', figsize=(12,8), legend=True,linewidth=2)\n",
        "\n",
        "#Plot for alpha =0.2\n",
        "ins_cast1.plot( ax=ax, color='blue', legend=True,linewidth =2)\n",
        "ins1.fittedvalues.plot( ax=ax, color='blue',linewidth = 2)\n",
        "\n",
        "#Plot for alpha = 0.5\n",
        "#ins_cast2.plot(ax=ax, color='red', legend=True,linewidth = 2)\n",
        "#ins2.fittedvalues.plot(ax=ax, color='red',linewidth = 2)\n",
        "\n",
        "#Plot for alpha=Optimized by statsmodel\n",
        "ins_cast3.plot(ax=ax, color='green', legend=True,linewidth = 2)\n",
        "ins3.fittedvalues.plot(ax=ax, color='green',linewidth = 2)\n",
        "\n",
        "plt.show()"
      ],
      "metadata": {
        "colab": {
          "base_uri": "https://localhost:8080/",
          "height": 1000
        },
        "id": "ltoVKmU81I5L",
        "outputId": "2c322d18-1e0c-4a10-99d9-7995bd603a3d"
      },
      "execution_count": 46,
      "outputs": [
        {
          "output_type": "stream",
          "name": "stderr",
          "text": [
            "/usr/local/lib/python3.7/dist-packages/statsmodels/tsa/base/tsa_model.py:219: ValueWarning:\n",
            "\n",
            "A date index has been provided, but it has no associated frequency information and so will be ignored when e.g. forecasting.\n",
            "\n",
            "/usr/local/lib/python3.7/dist-packages/statsmodels/tsa/base/tsa_model.py:576: ValueWarning:\n",
            "\n",
            "No supported index is available. Prediction results will be given with an integer index beginning at `start`.\n",
            "\n",
            "/usr/local/lib/python3.7/dist-packages/statsmodels/tsa/base/tsa_model.py:219: ValueWarning:\n",
            "\n",
            "A date index has been provided, but it has no associated frequency information and so will be ignored when e.g. forecasting.\n",
            "\n",
            "/usr/local/lib/python3.7/dist-packages/statsmodels/tsa/base/tsa_model.py:576: ValueWarning:\n",
            "\n",
            "No supported index is available. Prediction results will be given with an integer index beginning at `start`.\n",
            "\n"
          ]
        },
        {
          "output_type": "display_data",
          "data": {
            "text/plain": [
              "<Figure size 864x576 with 1 Axes>"
            ],
            "image/png": "[encoded data removed]"
          },
          "metadata": {
            "needs_background": "light"
          }
        },
        {
          "output_type": "display_data",
          "data": {
            "text/plain": [
              "<Figure size 864x576 with 1 Axes>"
            ],
            "image/png": "[encoded data removed]"
          },
          "metadata": {
            "needs_background": "light"
          }
        }
      ]
    },
    {
      "cell_type": "code",
      "source": [
        ""
      ],
      "metadata": {
        "id": "C3QIeGE8YaAC"
      },
      "execution_count": 37,
      "outputs": []
    }
  ]
}