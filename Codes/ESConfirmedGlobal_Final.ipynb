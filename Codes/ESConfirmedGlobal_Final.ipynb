{
  "nbformat": 4,
  "nbformat_minor": 0,
  "metadata": {
    "colab": {
      "name": "ESConfirmedGlobal-Final",
      "provenance": [],
      "collapsed_sections": []
    },
    "kernelspec": {
      "name": "python3",
      "display_name": "Python 3"
    },
    "language_info": {
      "name": "python"
    }
  },
  "cells": [
    {
      "cell_type": "code",
      "execution_count": 1,
      "metadata": {
        "id": "dW_tEoHxOKZP",
        "colab": {
          "base_uri": "https://localhost:8080/"
        },
        "outputId": "6bf84077-93a7-4509-d081-e0a9c59bcbc4"
      },
      "outputs": [
        {
          "output_type": "stream",
          "name": "stderr",
          "text": [
            "/usr/local/lib/python3.7/dist-packages/statsmodels/tools/_testing.py:19: FutureWarning: pandas.util.testing is deprecated. Use the functions in the public API at pandas.testing instead.\n",
            "  import pandas.util.testing as tm\n"
          ]
        }
      ],
      "source": [
        "import pandas as pd\n",
        "#import yfinance as yf\n",
        "import datetime\n",
        "import matplotlib.pyplot as plt\n",
        "from statsmodels.tsa.api import SimpleExpSmoothing"
      ]
    },
    {
      "cell_type": "code",
      "source": [
        "import os\n",
        "import warnings\n",
        "import matplotlib.pyplot as plt\n",
        "import numpy as np\n",
        "import pandas as pd\n",
        "import datetime as dt\n",
        "import math\n",
        "\n",
        "from sklearn.svm import SVR\n",
        "from sklearn.preprocessing import MinMaxScaler\n",
        "from datetime import datetime, timedelta\n",
        "from matplotlib.dates import DateFormatter\n",
        "import matplotlib.dates as mdates\n",
        "#from common.utils import load_data, mape"
      ],
      "metadata": {
        "id": "-jr8pQnsOK9g"
      },
      "execution_count": 2,
      "outputs": []
    },
    {
      "cell_type": "code",
      "source": [
        "from google.colab import drive"
      ],
      "metadata": {
        "id": "j20h8t1KWuWo"
      },
      "execution_count": 3,
      "outputs": []
    },
    {
      "cell_type": "code",
      "source": [
        "drive.mount('/content/drive/')"
      ],
      "metadata": {
        "colab": {
          "base_uri": "https://localhost:8080/"
        },
        "id": "3-C1kaRmWv9B",
        "outputId": "b35d542f-1686-4eda-da44-c1a558d1e103"
      },
      "execution_count": 4,
      "outputs": [
        {
          "output_type": "stream",
          "name": "stdout",
          "text": [
            "Mounted at /content/drive/\n"
          ]
        }
      ]
    },
    {
      "cell_type": "code",
      "source": [
        "cd /content/drive/\"MyDrive/\""
      ],
      "metadata": {
        "colab": {
          "base_uri": "https://localhost:8080/"
        },
        "id": "Pif3qsKhWxf1",
        "outputId": "4f26df28-1163-4803-f94f-a2db4f022b98"
      },
      "execution_count": 5,
      "outputs": [
        {
          "output_type": "stream",
          "name": "stdout",
          "text": [
            "/content/drive/MyDrive\n"
          ]
        }
      ]
    },
    {
      "cell_type": "code",
      "source": [
        "dataset = pd.read_csv('Colab Notebooks/Linear Regression/time_series_covid19_confirmed_global.csv')\n"
      ],
      "metadata": {
        "id": "MPx272F9W5-2"
      },
      "execution_count": 6,
      "outputs": []
    },
    {
      "cell_type": "code",
      "source": [
        "dataf= pd.DataFrame(dataset)\n",
        "col = list(dataset.columns.values)\n",
        "col_value = (list(dataf.sum(axis = 0, skipna = True)))\n",
        "df1 = pd.DataFrame(list(zip(col, col_value)),columns =['Title', 'Values'])\n",
        "data = df1.drop(df1.index)\n",
        "print(df1)"
      ],
      "metadata": {
        "colab": {
          "base_uri": "https://localhost:8080/"
        },
        "id": "5gKAp0sbW8dJ",
        "outputId": "949d9b28-451c-40bd-9b7b-1a37295ab9e1"
      },
      "execution_count": 7,
      "outputs": [
        {
          "output_type": "stream",
          "name": "stdout",
          "text": [
            "              Title                                             Values\n",
            "0    Province/State  AfghanistanAlbaniaAlgeriaAndorraAngolaAntigua ...\n",
            "1    Country/Region                                         5603.37955\n",
            "2               Lat                                        6057.329414\n",
            "3              Long                                                557\n",
            "4           1/22/20                                                655\n",
            "..              ...                                                ...\n",
            "719          1/6/22                                          303270379\n",
            "720          1/7/22                                          305334730\n",
            "721          1/8/22                                          307343166\n",
            "722          1/9/22                                          310629511\n",
            "723         1/10/22                                          313498180\n",
            "\n",
            "[724 rows x 2 columns]\n"
          ]
        },
        {
          "output_type": "stream",
          "name": "stderr",
          "text": [
            "/usr/local/lib/python3.7/dist-packages/ipykernel_launcher.py:3: FutureWarning: Dropping of nuisance columns in DataFrame reductions (with 'numeric_only=None') is deprecated; in a future version this will raise TypeError.  Select only valid columns before calling the reduction.\n",
            "  This is separate from the ipykernel package so we can avoid doing imports until\n"
          ]
        }
      ]
    },
    {
      "cell_type": "code",
      "source": [
        "col1 = list(df1.columns.values)\n",
        "print(col1)\n",
        "df1 = df1.drop(0) \n",
        "df1 = df1.drop(1) \n",
        "df1 = df1.drop(2) \n",
        "df1 = df1.drop(3) \n",
        "df1 = df1.drop(723) \n",
        "df1"
      ],
      "metadata": {
        "colab": {
          "base_uri": "https://localhost:8080/",
          "height": 441
        },
        "id": "2G7ijh4HW-gf",
        "outputId": "b992b838-71b7-4b35-a7eb-1bc476a3ae79"
      },
      "execution_count": 8,
      "outputs": [
        {
          "output_type": "stream",
          "name": "stdout",
          "text": [
            "['Title', 'Values']\n"
          ]
        },
        {
          "output_type": "execute_result",
          "data": {
            "text/plain": [
              "       Title     Values\n",
              "4    1/22/20        655\n",
              "5    1/23/20        941\n",
              "6    1/24/20       1434\n",
              "7    1/25/20       2118\n",
              "8    1/26/20       2927\n",
              "..       ...        ...\n",
              "718   1/5/22  300355562\n",
              "719   1/6/22  303270379\n",
              "720   1/7/22  305334730\n",
              "721   1/8/22  307343166\n",
              "722   1/9/22  310629511\n",
              "\n",
              "[719 rows x 2 columns]"
            ],
            "text/html": [
              "\n",
              "  <div id=\"df-b6f83c60-da14-43e8-8fba-d1a104702608\">\n",
              "    <div class=\"colab-df-container\">\n",
              "      <div>\n",
              "<style scoped>\n",
              "    .dataframe tbody tr th:only-of-type {\n",
              "        vertical-align: middle;\n",
              "    }\n",
              "\n",
              "    .dataframe tbody tr th {\n",
              "        vertical-align: top;\n",
              "    }\n",
              "\n",
              "    .dataframe thead th {\n",
              "        text-align: right;\n",
              "    }\n",
              "</style>\n",
              "<table border=\"1\" class=\"dataframe\">\n",
              "  <thead>\n",
              "    <tr style=\"text-align: right;\">\n",
              "      <th></th>\n",
              "      <th>Title</th>\n",
              "      <th>Values</th>\n",
              "    </tr>\n",
              "  </thead>\n",
              "  <tbody>\n",
              "    <tr>\n",
              "      <th>4</th>\n",
              "      <td>1/22/20</td>\n",
              "      <td>655</td>\n",
              "    </tr>\n",
              "    <tr>\n",
              "      <th>5</th>\n",
              "      <td>1/23/20</td>\n",
              "      <td>941</td>\n",
              "    </tr>\n",
              "    <tr>\n",
              "      <th>6</th>\n",
              "      <td>1/24/20</td>\n",
              "      <td>1434</td>\n",
              "    </tr>\n",
              "    <tr>\n",
              "      <th>7</th>\n",
              "      <td>1/25/20</td>\n",
              "      <td>2118</td>\n",
              "    </tr>\n",
              "    <tr>\n",
              "      <th>8</th>\n",
              "      <td>1/26/20</td>\n",
              "      <td>2927</td>\n",
              "    </tr>\n",
              "    <tr>\n",
              "      <th>...</th>\n",
              "      <td>...</td>\n",
              "      <td>...</td>\n",
              "    </tr>\n",
              "    <tr>\n",
              "      <th>718</th>\n",
              "      <td>1/5/22</td>\n",
              "      <td>300355562</td>\n",
              "    </tr>\n",
              "    <tr>\n",
              "      <th>719</th>\n",
              "      <td>1/6/22</td>\n",
              "      <td>303270379</td>\n",
              "    </tr>\n",
              "    <tr>\n",
              "      <th>720</th>\n",
              "      <td>1/7/22</td>\n",
              "      <td>305334730</td>\n",
              "    </tr>\n",
              "    <tr>\n",
              "      <th>721</th>\n",
              "      <td>1/8/22</td>\n",
              "      <td>307343166</td>\n",
              "    </tr>\n",
              "    <tr>\n",
              "      <th>722</th>\n",
              "      <td>1/9/22</td>\n",
              "      <td>310629511</td>\n",
              "    </tr>\n",
              "  </tbody>\n",
              "</table>\n",
              "<p>719 rows × 2 columns</p>\n",
              "</div>\n",
              "      <button class=\"colab-df-convert\" onclick=\"convertToInteractive('df-b6f83c60-da14-43e8-8fba-d1a104702608')\"\n",
              "              title=\"Convert this dataframe to an interactive table.\"\n",
              "              style=\"display:none;\">\n",
              "        \n",
              "  <svg xmlns=\"http://www.w3.org/2000/svg\" height=\"24px\"viewBox=\"0 0 24 24\"\n",
              "       width=\"24px\">\n",
              "    <path d=\"M0 0h24v24H0V0z\" fill=\"none\"/>\n",
              "    <path d=\"M18.56 5.44l.94 2.06.94-2.06 2.06-.94-2.06-.94-.94-2.06-.94 2.06-2.06.94zm-11 1L8.5 8.5l.94-2.06 2.06-.94-2.06-.94L8.5 2.5l-.94 2.06-2.06.94zm10 10l.94 2.06.94-2.06 2.06-.94-2.06-.94-.94-2.06-.94 2.06-2.06.94z\"/><path d=\"M17.41 7.96l-1.37-1.37c-.4-.4-.92-.59-1.43-.59-.52 0-1.04.2-1.43.59L10.3 9.45l-7.72 7.72c-.78.78-.78 2.05 0 2.83L4 21.41c.39.39.9.59 1.41.59.51 0 1.02-.2 1.41-.59l7.78-7.78 2.81-2.81c.8-.78.8-2.07 0-2.86zM5.41 20L4 18.59l7.72-7.72 1.47 1.35L5.41 20z\"/>\n",
              "  </svg>\n",
              "      </button>\n",
              "      \n",
              "  <style>\n",
              "    .colab-df-container {\n",
              "      display:flex;\n",
              "      flex-wrap:wrap;\n",
              "      gap: 12px;\n",
              "    }\n",
              "\n",
              "    .colab-df-convert {\n",
              "      background-color: #E8F0FE;\n",
              "      border: none;\n",
              "      border-radius: 50%;\n",
              "      cursor: pointer;\n",
              "      display: none;\n",
              "      fill: #1967D2;\n",
              "      height: 32px;\n",
              "      padding: 0 0 0 0;\n",
              "      width: 32px;\n",
              "    }\n",
              "\n",
              "    .colab-df-convert:hover {\n",
              "      background-color: #E2EBFA;\n",
              "      box-shadow: 0px 1px 2px rgba(60, 64, 67, 0.3), 0px 1px 3px 1px rgba(60, 64, 67, 0.15);\n",
              "      fill: #174EA6;\n",
              "    }\n",
              "\n",
              "    [theme=dark] .colab-df-convert {\n",
              "      background-color: #3B4455;\n",
              "      fill: #D2E3FC;\n",
              "    }\n",
              "\n",
              "    [theme=dark] .colab-df-convert:hover {\n",
              "      background-color: #434B5C;\n",
              "      box-shadow: 0px 1px 3px 1px rgba(0, 0, 0, 0.15);\n",
              "      filter: drop-shadow(0px 1px 2px rgba(0, 0, 0, 0.3));\n",
              "      fill: #FFFFFF;\n",
              "    }\n",
              "  </style>\n",
              "\n",
              "      <script>\n",
              "        const buttonEl =\n",
              "          document.querySelector('#df-b6f83c60-da14-43e8-8fba-d1a104702608 button.colab-df-convert');\n",
              "        buttonEl.style.display =\n",
              "          google.colab.kernel.accessAllowed ? 'block' : 'none';\n",
              "\n",
              "        async function convertToInteractive(key) {\n",
              "          const element = document.querySelector('#df-b6f83c60-da14-43e8-8fba-d1a104702608');\n",
              "          const dataTable =\n",
              "            await google.colab.kernel.invokeFunction('convertToInteractive',\n",
              "                                                     [key], {});\n",
              "          if (!dataTable) return;\n",
              "\n",
              "          const docLinkHtml = 'Like what you see? Visit the ' +\n",
              "            '<a target=\"_blank\" href=https://colab.research.google.com/notebooks/data_table.ipynb>data table notebook</a>'\n",
              "            + ' to learn more about interactive tables.';\n",
              "          element.innerHTML = '';\n",
              "          dataTable['output_type'] = 'display_data';\n",
              "          await google.colab.output.renderOutput(dataTable, element);\n",
              "          const docLink = document.createElement('div');\n",
              "          docLink.innerHTML = docLinkHtml;\n",
              "          element.appendChild(docLink);\n",
              "        }\n",
              "      </script>\n",
              "    </div>\n",
              "  </div>\n",
              "  "
            ]
          },
          "metadata": {},
          "execution_count": 8
        }
      ]
    },
    {
      "cell_type": "code",
      "source": [
        "#importing basic libraries\n",
        "import numpy as np\n",
        "import pandas as pd\n",
        "import matplotlib.pyplot as plt\n",
        "from datetime import datetime, timedelta\n",
        "from matplotlib.dates import DateFormatter\n",
        "import matplotlib.dates as mdates\n",
        "\n",
        "dates = df1['Title']\n",
        "date_format = [pd.to_datetime(d) for d in dates]\n",
        "date_time = [date_format[d].strftime(\"%d-%m-%Y\") for d in range(719)]\n",
        "#str_date_time = date_format[0].strftime(\"%d-%m-%Y %H:%M:%S\")\n",
        "#df1.set_index('Title',inplace=True)"
      ],
      "metadata": {
        "id": "w63pYX9hXAfe"
      },
      "execution_count": 9,
      "outputs": []
    },
    {
      "cell_type": "code",
      "source": [
        "#print(date_format)\n",
        "#df1.set_index(date_time,inplace=True)\n",
        "df1['Time'] = date_time\n",
        "print(df1)"
      ],
      "metadata": {
        "colab": {
          "base_uri": "https://localhost:8080/"
        },
        "id": "WHzjNoNWXLZR",
        "outputId": "3491d707-ab89-4fb1-fae8-b41ff3f35f76"
      },
      "execution_count": 10,
      "outputs": [
        {
          "output_type": "stream",
          "name": "stdout",
          "text": [
            "       Title     Values        Time\n",
            "4    1/22/20        655  22-01-2020\n",
            "5    1/23/20        941  23-01-2020\n",
            "6    1/24/20       1434  24-01-2020\n",
            "7    1/25/20       2118  25-01-2020\n",
            "8    1/26/20       2927  26-01-2020\n",
            "..       ...        ...         ...\n",
            "718   1/5/22  300355562  05-01-2022\n",
            "719   1/6/22  303270379  06-01-2022\n",
            "720   1/7/22  305334730  07-01-2022\n",
            "721   1/8/22  307343166  08-01-2022\n",
            "722   1/9/22  310629511  09-01-2022\n",
            "\n",
            "[719 rows x 3 columns]\n"
          ]
        }
      ]
    },
    {
      "cell_type": "code",
      "source": [
        "df1.set_index('Time',inplace=True)"
      ],
      "metadata": {
        "id": "EJEeimSZXN4Q"
      },
      "execution_count": 11,
      "outputs": []
    },
    {
      "cell_type": "code",
      "source": [
        "df1"
      ],
      "metadata": {
        "colab": {
          "base_uri": "https://localhost:8080/",
          "height": 455
        },
        "id": "MyeMtkI4XXpR",
        "outputId": "0cb0db33-b0e8-4bcb-c13b-1f522c03f66d"
      },
      "execution_count": 12,
      "outputs": [
        {
          "output_type": "execute_result",
          "data": {
            "text/plain": [
              "              Title     Values\n",
              "Time                          \n",
              "22-01-2020  1/22/20        655\n",
              "23-01-2020  1/23/20        941\n",
              "24-01-2020  1/24/20       1434\n",
              "25-01-2020  1/25/20       2118\n",
              "26-01-2020  1/26/20       2927\n",
              "...             ...        ...\n",
              "05-01-2022   1/5/22  300355562\n",
              "06-01-2022   1/6/22  303270379\n",
              "07-01-2022   1/7/22  305334730\n",
              "08-01-2022   1/8/22  307343166\n",
              "09-01-2022   1/9/22  310629511\n",
              "\n",
              "[719 rows x 2 columns]"
            ],
            "text/html": [
              "\n",
              "  <div id=\"df-38c1873a-d61d-4d7f-8f13-0de0b47e516f\">\n",
              "    <div class=\"colab-df-container\">\n",
              "      <div>\n",
              "<style scoped>\n",
              "    .dataframe tbody tr th:only-of-type {\n",
              "        vertical-align: middle;\n",
              "    }\n",
              "\n",
              "    .dataframe tbody tr th {\n",
              "        vertical-align: top;\n",
              "    }\n",
              "\n",
              "    .dataframe thead th {\n",
              "        text-align: right;\n",
              "    }\n",
              "</style>\n",
              "<table border=\"1\" class=\"dataframe\">\n",
              "  <thead>\n",
              "    <tr style=\"text-align: right;\">\n",
              "      <th></th>\n",
              "      <th>Title</th>\n",
              "      <th>Values</th>\n",
              "    </tr>\n",
              "    <tr>\n",
              "      <th>Time</th>\n",
              "      <th></th>\n",
              "      <th></th>\n",
              "    </tr>\n",
              "  </thead>\n",
              "  <tbody>\n",
              "    <tr>\n",
              "      <th>22-01-2020</th>\n",
              "      <td>1/22/20</td>\n",
              "      <td>655</td>\n",
              "    </tr>\n",
              "    <tr>\n",
              "      <th>23-01-2020</th>\n",
              "      <td>1/23/20</td>\n",
              "      <td>941</td>\n",
              "    </tr>\n",
              "    <tr>\n",
              "      <th>24-01-2020</th>\n",
              "      <td>1/24/20</td>\n",
              "      <td>1434</td>\n",
              "    </tr>\n",
              "    <tr>\n",
              "      <th>25-01-2020</th>\n",
              "      <td>1/25/20</td>\n",
              "      <td>2118</td>\n",
              "    </tr>\n",
              "    <tr>\n",
              "      <th>26-01-2020</th>\n",
              "      <td>1/26/20</td>\n",
              "      <td>2927</td>\n",
              "    </tr>\n",
              "    <tr>\n",
              "      <th>...</th>\n",
              "      <td>...</td>\n",
              "      <td>...</td>\n",
              "    </tr>\n",
              "    <tr>\n",
              "      <th>05-01-2022</th>\n",
              "      <td>1/5/22</td>\n",
              "      <td>300355562</td>\n",
              "    </tr>\n",
              "    <tr>\n",
              "      <th>06-01-2022</th>\n",
              "      <td>1/6/22</td>\n",
              "      <td>303270379</td>\n",
              "    </tr>\n",
              "    <tr>\n",
              "      <th>07-01-2022</th>\n",
              "      <td>1/7/22</td>\n",
              "      <td>305334730</td>\n",
              "    </tr>\n",
              "    <tr>\n",
              "      <th>08-01-2022</th>\n",
              "      <td>1/8/22</td>\n",
              "      <td>307343166</td>\n",
              "    </tr>\n",
              "    <tr>\n",
              "      <th>09-01-2022</th>\n",
              "      <td>1/9/22</td>\n",
              "      <td>310629511</td>\n",
              "    </tr>\n",
              "  </tbody>\n",
              "</table>\n",
              "<p>719 rows × 2 columns</p>\n",
              "</div>\n",
              "      <button class=\"colab-df-convert\" onclick=\"convertToInteractive('df-38c1873a-d61d-4d7f-8f13-0de0b47e516f')\"\n",
              "              title=\"Convert this dataframe to an interactive table.\"\n",
              "              style=\"display:none;\">\n",
              "        \n",
              "  <svg xmlns=\"http://www.w3.org/2000/svg\" height=\"24px\"viewBox=\"0 0 24 24\"\n",
              "       width=\"24px\">\n",
              "    <path d=\"M0 0h24v24H0V0z\" fill=\"none\"/>\n",
              "    <path d=\"M18.56 5.44l.94 2.06.94-2.06 2.06-.94-2.06-.94-.94-2.06-.94 2.06-2.06.94zm-11 1L8.5 8.5l.94-2.06 2.06-.94-2.06-.94L8.5 2.5l-.94 2.06-2.06.94zm10 10l.94 2.06.94-2.06 2.06-.94-2.06-.94-.94-2.06-.94 2.06-2.06.94z\"/><path d=\"M17.41 7.96l-1.37-1.37c-.4-.4-.92-.59-1.43-.59-.52 0-1.04.2-1.43.59L10.3 9.45l-7.72 7.72c-.78.78-.78 2.05 0 2.83L4 21.41c.39.39.9.59 1.41.59.51 0 1.02-.2 1.41-.59l7.78-7.78 2.81-2.81c.8-.78.8-2.07 0-2.86zM5.41 20L4 18.59l7.72-7.72 1.47 1.35L5.41 20z\"/>\n",
              "  </svg>\n",
              "      </button>\n",
              "      \n",
              "  <style>\n",
              "    .colab-df-container {\n",
              "      display:flex;\n",
              "      flex-wrap:wrap;\n",
              "      gap: 12px;\n",
              "    }\n",
              "\n",
              "    .colab-df-convert {\n",
              "      background-color: #E8F0FE;\n",
              "      border: none;\n",
              "      border-radius: 50%;\n",
              "      cursor: pointer;\n",
              "      display: none;\n",
              "      fill: #1967D2;\n",
              "      height: 32px;\n",
              "      padding: 0 0 0 0;\n",
              "      width: 32px;\n",
              "    }\n",
              "\n",
              "    .colab-df-convert:hover {\n",
              "      background-color: #E2EBFA;\n",
              "      box-shadow: 0px 1px 2px rgba(60, 64, 67, 0.3), 0px 1px 3px 1px rgba(60, 64, 67, 0.15);\n",
              "      fill: #174EA6;\n",
              "    }\n",
              "\n",
              "    [theme=dark] .colab-df-convert {\n",
              "      background-color: #3B4455;\n",
              "      fill: #D2E3FC;\n",
              "    }\n",
              "\n",
              "    [theme=dark] .colab-df-convert:hover {\n",
              "      background-color: #434B5C;\n",
              "      box-shadow: 0px 1px 3px 1px rgba(0, 0, 0, 0.15);\n",
              "      filter: drop-shadow(0px 1px 2px rgba(0, 0, 0, 0.3));\n",
              "      fill: #FFFFFF;\n",
              "    }\n",
              "  </style>\n",
              "\n",
              "      <script>\n",
              "        const buttonEl =\n",
              "          document.querySelector('#df-38c1873a-d61d-4d7f-8f13-0de0b47e516f button.colab-df-convert');\n",
              "        buttonEl.style.display =\n",
              "          google.colab.kernel.accessAllowed ? 'block' : 'none';\n",
              "\n",
              "        async function convertToInteractive(key) {\n",
              "          const element = document.querySelector('#df-38c1873a-d61d-4d7f-8f13-0de0b47e516f');\n",
              "          const dataTable =\n",
              "            await google.colab.kernel.invokeFunction('convertToInteractive',\n",
              "                                                     [key], {});\n",
              "          if (!dataTable) return;\n",
              "\n",
              "          const docLinkHtml = 'Like what you see? Visit the ' +\n",
              "            '<a target=\"_blank\" href=https://colab.research.google.com/notebooks/data_table.ipynb>data table notebook</a>'\n",
              "            + ' to learn more about interactive tables.';\n",
              "          element.innerHTML = '';\n",
              "          dataTable['output_type'] = 'display_data';\n",
              "          await google.colab.output.renderOutput(dataTable, element);\n",
              "          const docLink = document.createElement('div');\n",
              "          docLink.innerHTML = docLinkHtml;\n",
              "          element.appendChild(docLink);\n",
              "        }\n",
              "      </script>\n",
              "    </div>\n",
              "  </div>\n",
              "  "
            ]
          },
          "metadata": {},
          "execution_count": 12
        }
      ]
    },
    {
      "cell_type": "code",
      "source": [
        "df1.info()"
      ],
      "metadata": {
        "colab": {
          "base_uri": "https://localhost:8080/"
        },
        "id": "w9cKaa4Bd0XP",
        "outputId": "f9d9efe7-e369-4779-f4e7-bb1814f5b452"
      },
      "execution_count": 13,
      "outputs": [
        {
          "output_type": "stream",
          "name": "stdout",
          "text": [
            "<class 'pandas.core.frame.DataFrame'>\n",
            "Index: 719 entries, 22-01-2020 to 09-01-2022\n",
            "Data columns (total 2 columns):\n",
            " #   Column  Non-Null Count  Dtype \n",
            "---  ------  --------------  ----- \n",
            " 0   Title   719 non-null    object\n",
            " 1   Values  719 non-null    object\n",
            "dtypes: object(2)\n",
            "memory usage: 16.9+ KB\n"
          ]
        }
      ]
    },
    {
      "cell_type": "code",
      "source": [
        "df1.index.freq='A'"
      ],
      "metadata": {
        "id": "eGOl_zlLd0Um"
      },
      "execution_count": 17,
      "outputs": []
    },
    {
      "cell_type": "code",
      "source": [
        "df1.info()"
      ],
      "metadata": {
        "colab": {
          "base_uri": "https://localhost:8080/"
        },
        "id": "Df-fmYjrd0Sw",
        "outputId": "b0bb7add-91da-4567-e759-748ec77c0cfd"
      },
      "execution_count": 18,
      "outputs": [
        {
          "output_type": "stream",
          "name": "stdout",
          "text": [
            "<class 'pandas.core.frame.DataFrame'>\n",
            "Index: 719 entries, 22-01-2020 to 09-01-2022\n",
            "Data columns (total 2 columns):\n",
            " #   Column  Non-Null Count  Dtype \n",
            "---  ------  --------------  ----- \n",
            " 0   Title   719 non-null    object\n",
            " 1   Values  719 non-null    int64 \n",
            "dtypes: int64(1), object(1)\n",
            "memory usage: 16.9+ KB\n"
          ]
        }
      ]
    },
    {
      "cell_type": "code",
      "source": [
        "df1[\"Values\"] = df1[\"Values\"].astype('int')"
      ],
      "metadata": {
        "id": "kAdTsnANi_Ce"
      },
      "execution_count": 19,
      "outputs": []
    },
    {
      "cell_type": "code",
      "source": [
        "del df1['Title']"
      ],
      "metadata": {
        "id": "sebeRde0lUjX"
      },
      "execution_count": 20,
      "outputs": []
    },
    {
      "cell_type": "code",
      "source": [
        "  df1.info()"
      ],
      "metadata": {
        "colab": {
          "base_uri": "https://localhost:8080/"
        },
        "id": "YpgusezDlKG5",
        "outputId": "c2b4e2dd-cd8a-4449-ccf8-650950d4a092"
      },
      "execution_count": 21,
      "outputs": [
        {
          "output_type": "stream",
          "name": "stdout",
          "text": [
            "<class 'pandas.core.frame.DataFrame'>\n",
            "Index: 719 entries, 22-01-2020 to 09-01-2022\n",
            "Data columns (total 1 columns):\n",
            " #   Column  Non-Null Count  Dtype\n",
            "---  ------  --------------  -----\n",
            " 0   Values  719 non-null    int64\n",
            "dtypes: int64(1)\n",
            "memory usage: 11.2+ KB\n"
          ]
        }
      ]
    },
    {
      "cell_type": "code",
      "source": [
        "df1.index.freq='B'"
      ],
      "metadata": {
        "id": "XPfF5eqwll45"
      },
      "execution_count": 22,
      "outputs": []
    },
    {
      "cell_type": "code",
      "source": [
        "df1.info()"
      ],
      "metadata": {
        "colab": {
          "base_uri": "https://localhost:8080/"
        },
        "id": "6THtyGqaloHL",
        "outputId": "8349c28b-a1ca-47a3-a403-b3088933990b"
      },
      "execution_count": 23,
      "outputs": [
        {
          "output_type": "stream",
          "name": "stdout",
          "text": [
            "<class 'pandas.core.frame.DataFrame'>\n",
            "Index: 719 entries, 22-01-2020 to 09-01-2022\n",
            "Data columns (total 1 columns):\n",
            " #   Column  Non-Null Count  Dtype\n",
            "---  ------  --------------  -----\n",
            " 0   Values  719 non-null    int64\n",
            "dtypes: int64(1)\n",
            "memory usage: 11.2+ KB\n"
          ]
        }
      ]
    },
    {
      "cell_type": "code",
      "source": [
        "df1.plot(figsize=(12,8))"
      ],
      "metadata": {
        "colab": {
          "base_uri": "https://localhost:8080/",
          "height": 526
        },
        "id": "mier5ao2d0Qm",
        "outputId": "30a6e304-8a79-43b6-de7f-b2d249cfacdf"
      },
      "execution_count": 24,
      "outputs": [
        {
          "output_type": "execute_result",
          "data": {
            "text/plain": [
              "<matplotlib.axes._subplots.AxesSubplot at 0x7fb1faba9e10>"
            ]
          },
          "metadata": {},
          "execution_count": 24
        },
        {
          "output_type": "display_data",
          "data": {
            "text/plain": [
              "<Figure size 864x576 with 1 Axes>"
            ],
            "image/png": "[encoded data removed]"
          },
          "metadata": {
            "needs_background": "light"
          }
        }
      ]
    },
    {
      "cell_type": "code",
      "source": [
        "train = df1.iloc[:600]"
      ],
      "metadata": {
        "id": "e2pg8KAad0OI"
      },
      "execution_count": 25,
      "outputs": []
    },
    {
      "cell_type": "code",
      "source": [
        "test = df1.iloc[601:]"
      ],
      "metadata": {
        "id": "_dZyFVLCd0MH"
      },
      "execution_count": 26,
      "outputs": []
    },
    {
      "cell_type": "code",
      "source": [
        "len(test)"
      ],
      "metadata": {
        "colab": {
          "base_uri": "https://localhost:8080/"
        },
        "id": "Z9cFOCvOjXiF",
        "outputId": "8a5f7978-7584-46fc-a713-615940746db0"
      },
      "execution_count": 27,
      "outputs": [
        {
          "output_type": "execute_result",
          "data": {
            "text/plain": [
              "118"
            ]
          },
          "metadata": {},
          "execution_count": 27
        }
      ]
    },
    {
      "cell_type": "code",
      "source": [
        "test.plot()"
      ],
      "metadata": {
        "colab": {
          "base_uri": "https://localhost:8080/",
          "height": 307
        },
        "id": "N7EG5iV3d0J1",
        "outputId": "880fbcd6-e8ee-4eeb-985c-e3d4e9d014d5"
      },
      "execution_count": 28,
      "outputs": [
        {
          "output_type": "execute_result",
          "data": {
            "text/plain": [
              "<matplotlib.axes._subplots.AxesSubplot at 0x7fb1faa92dd0>"
            ]
          },
          "metadata": {},
          "execution_count": 28
        },
        {
          "output_type": "display_data",
          "data": {
            "text/plain": [
              "<Figure size 432x288 with 1 Axes>"
            ],
            "image/png": "[encoded data removed]"
          },
          "metadata": {
            "needs_background": "light"
          }
        }
      ]
    },
    {
      "cell_type": "code",
      "source": [
        "train.plot()\n",
        "test.plot()"
      ],
      "metadata": {
        "colab": {
          "base_uri": "https://localhost:8080/",
          "height": 580
        },
        "id": "gQh7507kd0Hp",
        "outputId": "a1d67130-f0f5-41a9-f2cd-e60207762e11"
      },
      "execution_count": 29,
      "outputs": [
        {
          "output_type": "execute_result",
          "data": {
            "text/plain": [
              "<matplotlib.axes._subplots.AxesSubplot at 0x7fb1fa59b610>"
            ]
          },
          "metadata": {},
          "execution_count": 29
        },
        {
          "output_type": "display_data",
          "data": {
            "text/plain": [
              "<Figure size 432x288 with 1 Axes>"
            ],
            "image/png": "[encoded data removed]"
          },
          "metadata": {
            "needs_background": "light"
          }
        },
        {
          "output_type": "display_data",
          "data": {
            "text/plain": [
              "<Figure size 432x288 with 1 Axes>"
            ],
            "image/png": "[encoded data removed]"
          },
          "metadata": {
            "needs_background": "light"
          }
        }
      ]
    },
    {
      "cell_type": "code",
      "source": [
        "from statsmodels.tsa.holtwinters import ExponentialSmoothing"
      ],
      "metadata": {
        "id": "aF8ScgN0efgO"
      },
      "execution_count": 30,
      "outputs": []
    },
    {
      "cell_type": "code",
      "source": [
        "data = np.array(df1[\"Values\"])"
      ],
      "metadata": {
        "id": "GfZ46JGtgH1I"
      },
      "execution_count": 31,
      "outputs": []
    },
    {
      "cell_type": "code",
      "source": [
        "#np.asarray(data)"
      ],
      "metadata": {
        "id": "MwDGfIEwgUf5"
      },
      "execution_count": 32,
      "outputs": []
    },
    {
      "cell_type": "code",
      "source": [
        "#data = train[\"Values\"].astype('int')"
      ],
      "metadata": {
        "id": "RKAg5A6nhG70"
      },
      "execution_count": 33,
      "outputs": []
    },
    {
      "cell_type": "code",
      "source": [
        "#df1.index = pd.DatetimeIndex(df1.index).to_period('M')"
      ],
      "metadata": {
        "id": "oYQiBKXTmkoL"
      },
      "execution_count": 34,
      "outputs": []
    },
    {
      "cell_type": "code",
      "source": [
        "#test.index = pd.DatetimeIndex(test.index).to_period('M')"
      ],
      "metadata": {
        "id": "TTOpkWawm7a5"
      },
      "execution_count": 35,
      "outputs": []
    },
    {
      "cell_type": "code",
      "source": [
        "#train.index = pd.DatetimeIndex(train.index).to_period('M')"
      ],
      "metadata": {
        "id": "KaSvJbYrmg4L"
      },
      "execution_count": 36,
      "outputs": []
    },
    {
      "cell_type": "code",
      "source": [
        "model = ExponentialSmoothing(train['Values'],trend='mul',seasonal='mul',seasonal_periods=12).fit()"
      ],
      "metadata": {
        "colab": {
          "base_uri": "https://localhost:8080/"
        },
        "id": "xzxIiCq3efd6",
        "outputId": "46deb417-6beb-4209-a4fb-7a9a0f5154d9"
      },
      "execution_count": 37,
      "outputs": [
        {
          "output_type": "stream",
          "name": "stderr",
          "text": [
            "/usr/local/lib/python3.7/dist-packages/statsmodels/tsa/base/tsa_model.py:219: ValueWarning: A date index has been provided, but it has no associated frequency information and so will be ignored when e.g. forecasting.\n",
            "  ' ignored when e.g. forecasting.', ValueWarning)\n"
          ]
        }
      ]
    },
    {
      "cell_type": "code",
      "source": [
        "test.plot()\n",
        "plt.show()\n",
        "model.forecast(10).plot()\n",
        "plt.show()"
      ],
      "metadata": {
        "colab": {
          "base_uri": "https://localhost:8080/",
          "height": 604
        },
        "id": "6MG8H6Zzefbv",
        "outputId": "be93e7c1-f8b3-4986-a788-f4d4cf84d77e"
      },
      "execution_count": 38,
      "outputs": [
        {
          "output_type": "display_data",
          "data": {
            "text/plain": [
              "<Figure size 432x288 with 1 Axes>"
            ],
            "image/png": "[encoded data removed]"
          },
          "metadata": {
            "needs_background": "light"
          }
        },
        {
          "output_type": "stream",
          "name": "stderr",
          "text": [
            "/usr/local/lib/python3.7/dist-packages/statsmodels/tsa/base/tsa_model.py:576: ValueWarning: No supported index is available. Prediction results will be given with an integer index beginning at `start`.\n",
            "  ValueWarning)\n"
          ]
        },
        {
          "output_type": "display_data",
          "data": {
            "text/plain": [
              "<Figure size 432x288 with 1 Axes>"
            ],
            "image/png": "[encoded data removed]"
          },
          "metadata": {
            "needs_background": "light"
          }
        }
      ]
    },
    {
      "cell_type": "code",
      "source": [
        "df1.plot(figsize=(12,8))\n",
        "test_data = model.forecast(100).plot()\n",
        "plt.legend()"
      ],
      "metadata": {
        "colab": {
          "base_uri": "https://localhost:8080/",
          "height": 580
        },
        "id": "Dw5PKre8efZX",
        "outputId": "3caa86b0-48ad-41c8-a78b-56d019745d73"
      },
      "execution_count": 39,
      "outputs": [
        {
          "output_type": "stream",
          "name": "stderr",
          "text": [
            "/usr/local/lib/python3.7/dist-packages/statsmodels/tsa/base/tsa_model.py:576: ValueWarning: No supported index is available. Prediction results will be given with an integer index beginning at `start`.\n",
            "  ValueWarning)\n"
          ]
        },
        {
          "output_type": "execute_result",
          "data": {
            "text/plain": [
              "<matplotlib.legend.Legend at 0x7fb1fa464a90>"
            ]
          },
          "metadata": {},
          "execution_count": 39
        },
        {
          "output_type": "display_data",
          "data": {
            "text/plain": [
              "<Figure size 864x576 with 1 Axes>"
            ],
            "image/png": "[encoded data removed]"
          },
          "metadata": {
            "needs_background": "light"
          }
        }
      ]
    },
    {
      "cell_type": "code",
      "source": [
        "#today = datetime.date.today()\n",
        "plt.figure()\n",
        "plt.plot(df1.index,df1['Values'])"
      ],
      "metadata": {
        "colab": {
          "base_uri": "https://localhost:8080/",
          "height": 294
        },
        "id": "xdyS_prtXYqN",
        "outputId": "9e122c0d-3ac3-4fc5-bc9a-5f9c892412ab"
      },
      "execution_count": 40,
      "outputs": [
        {
          "output_type": "execute_result",
          "data": {
            "text/plain": [
              "[<matplotlib.lines.Line2D at 0x7fb1fa375990>]"
            ]
          },
          "metadata": {},
          "execution_count": 40
        },
        {
          "output_type": "display_data",
          "data": {
            "text/plain": [
              "<Figure size 432x288 with 1 Axes>"
            ],
            "image/png": "[encoded data removed]"
          },
          "metadata": {
            "needs_background": "light"
          }
        }
      ]
    },
    {
      "cell_type": "code",
      "source": [
        "SimpleExpSmoothing(df1).fit(smoothing_level=0.1)"
      ],
      "metadata": {
        "colab": {
          "base_uri": "https://localhost:8080/"
        },
        "id": "StjuDhQwXhWd",
        "outputId": "e96d348b-9c10-41fb-c98e-343a6cda7a88"
      },
      "execution_count": 41,
      "outputs": [
        {
          "output_type": "stream",
          "name": "stderr",
          "text": [
            "/usr/local/lib/python3.7/dist-packages/statsmodels/tsa/base/tsa_model.py:219: ValueWarning: A date index has been provided, but it has no associated frequency information and so will be ignored when e.g. forecasting.\n",
            "  ' ignored when e.g. forecasting.', ValueWarning)\n"
          ]
        },
        {
          "output_type": "execute_result",
          "data": {
            "text/plain": [
              "<statsmodels.tsa.holtwinters.HoltWintersResultsWrapper at 0x7fb1fa3bbb10>"
            ]
          },
          "metadata": {},
          "execution_count": 41
        }
      ]
    },
    {
      "cell_type": "code",
      "source": [
        "import plotly.express as px\n",
        "fig = px.line(df1)\n",
        "fig.show()"
      ],
      "metadata": {
        "colab": {
          "base_uri": "https://localhost:8080/",
          "height": 542
        },
        "id": "6i5oxNUC11vo",
        "outputId": "9d7a03d6-1984-4ed5-b771-c7de53ab168c"
      },
      "execution_count": 42,
      "outputs": [
        {
          "output_type": "display_data",
          "data": {
            "text/html": [
              "<html>\n",
              "<head><meta charset=\"utf-8\" /></head>\n",
              "<body>\n",
              "    <div>            <script src=\"https://cdnjs.cloudflare.com/ajax/libs/mathjax/2.7.5/MathJax.js?config=TeX-AMS-MML_SVG\"></script><script type=\"text/javascript\">if (window.MathJax) {MathJax.Hub.Config({SVG: {font: \"STIX-Web\"}});}</script>                <script type=\"text/javascript\">window.PlotlyConfig = {MathJaxConfig: 'local'};</script>\n",
              "        <script src=\"https://cdn.plot.ly/plotly-2.8.3.min.js\"></script>                <div id=\"bb47350b-a81b-471e-8017-86baf74f0ea2\" class=\"plotly-graph-div\" style=\"height:525px; width:100%;\"></div>            <script type=\"text/javascript\">                                    window.PLOTLYENV=window.PLOTLYENV || {};                                    if (document.getElementById(\"bb47350b-a81b-471e-8017-86baf74f0ea2\")) {                    Plotly.newPlot(                        \"bb47350b-a81b-471e-8017-86baf74f0ea2\",                        [{\"hovertemplate\":\"variable=Values<br>Time=%{x}<br>value=%{y}<extra></extra>\",\"legendgroup\":\"Values\",\"line\":{\"color\":\"#636efa\",\"dash\":\"solid\"},\"marker\":{\"symbol\":\"circle\"},\"mode\":\"lines\",\"name\":\"Values\",\"orientation\":\"v\",\"showlegend\":true,\"x\":[\"22-01-2020\",\"23-01-2020\",\"24-01-2020\",\"25-01-2020\",\"26-01-2020\",\"27-01-2020\",\"28-01-2020\",\"29-01-2020\",\"30-01-2020\",\"31-01-2020\",\"01-02-2020\",\"02-02-2020\",\"03-02-2020\",\"04-02-2020\",\"05-02-2020\",\"06-02-2020\",\"07-02-2020\",\"08-02-2020\",\"09-02-2020\",\"10-02-2020\",\"11-02-2020\",\"12-02-2020\",\"13-02-2020\",\"14-02-2020\",\"15-02-2020\",\"16-02-2020\",\"17-02-2020\",\"18-02-2020\",\"19-02-2020\",\"20-02-2020\",\"21-02-2020\",\"22-02-2020\",\"23-02-2020\",\"24-02-2020\",\"25-02-2020\",\"26-02-2020\",\"27-02-2020\",\"28-02-2020\",\"29-02-2020\",\"01-03-2020\",\"02-03-2020\",\"03-03-2020\",\"04-03-2020\",\"05-03-2020\",\"06-03-2020\",\"07-03-2020\",\"08-03-2020\",\"09-03-2020\",\"10-03-2020\",\"11-03-2020\",\"12-03-2020\",\"13-03-2020\",\"14-03-2020\",\"15-03-2020\",\"16-03-2020\",\"17-03-2020\",\"18-03-2020\",\"19-03-2020\",\"20-03-2020\",\"21-03-2020\",\"22-03-2020\",\"23-03-2020\",\"24-03-2020\",\"25-03-2020\",\"26-03-2020\",\"27-03-2020\",\"28-03-2020\",\"29-03-2020\",\"30-03-2020\",\"31-03-2020\",\"01-04-2020\",\"02-04-2020\",\"03-04-2020\",\"04-04-2020\",\"05-04-2020\",\"06-04-2020\",\"07-04-2020\",\"08-04-2020\",\"09-04-2020\",\"10-04-2020\",\"11-04-2020\",\"12-04-2020\",\"13-04-2020\",\"14-04-2020\",\"15-04-2020\",\"16-04-2020\",\"17-04-2020\",\"18-04-2020\",\"19-04-2020\",\"20-04-2020\",\"21-04-2020\",\"22-04-2020\",\"23-04-2020\",\"24-04-2020\",\"25-04-2020\",\"26-04-2020\",\"27-04-2020\",\"28-04-2020\",\"29-04-2020\",\"30-04-2020\",\"01-05-2020\",\"02-05-2020\",\"03-05-2020\",\"04-05-2020\",\"05-05-2020\",\"06-05-2020\",\"07-05-2020\",\"08-05-2020\",\"09-05-2020\",\"10-05-2020\",\"11-05-2020\",\"12-05-2020\",\"13-05-2020\",\"14-05-2020\",\"15-05-2020\",\"16-05-2020\",\"17-05-2020\",\"18-05-2020\",\"19-05-2020\",\"20-05-2020\",\"21-05-2020\",\"22-05-2020\",\"23-05-2020\",\"24-05-2020\",\"25-05-2020\",\"26-05-2020\",\"27-05-2020\",\"28-05-2020\",\"29-05-2020\",\"30-05-2020\",\"31-05-2020\",\"01-06-2020\",\"02-06-2020\",\"03-06-2020\",\"04-06-2020\",\"05-06-2020\",\"06-06-2020\",\"07-06-2020\",\"08-06-2020\",\"09-06-2020\",\"10-06-2020\",\"11-06-2020\",\"12-06-2020\",\"13-06-2020\",\"14-06-2020\",\"15-06-2020\",\"16-06-2020\",\"17-06-2020\",\"18-06-2020\",\"19-06-2020\",\"20-06-2020\",\"21-06-2020\",\"22-06-2020\",\"23-06-2020\",\"24-06-2020\",\"25-06-2020\",\"26-06-2020\",\"27-06-2020\",\"28-06-2020\",\"29-06-2020\",\"30-06-2020\",\"01-07-2020\",\"02-07-2020\",\"03-07-2020\",\"04-07-2020\",\"05-07-2020\",\"06-07-2020\",\"07-07-2020\",\"08-07-2020\",\"09-07-2020\",\"10-07-2020\",\"11-07-2020\",\"12-07-2020\",\"13-07-2020\",\"14-07-2020\",\"15-07-2020\",\"16-07-2020\",\"17-07-2020\",\"18-07-2020\",\"19-07-2020\",\"20-07-2020\",\"21-07-2020\",\"22-07-2020\",\"23-07-2020\",\"24-07-2020\",\"25-07-2020\",\"26-07-2020\",\"27-07-2020\",\"28-07-2020\",\"29-07-2020\",\"30-07-2020\",\"31-07-2020\",\"01-08-2020\",\"02-08-2020\",\"03-08-2020\",\"04-08-2020\",\"05-08-2020\",\"06-08-2020\",\"07-08-2020\",\"08-08-2020\",\"09-08-2020\",\"10-08-2020\",\"11-08-2020\",\"12-08-2020\",\"13-08-2020\",\"14-08-2020\",\"15-08-2020\",\"16-08-2020\",\"17-08-2020\",\"18-08-2020\",\"19-08-2020\",\"20-08-2020\",\"21-08-2020\",\"22-08-2020\",\"23-08-2020\",\"24-08-2020\",\"25-08-2020\",\"26-08-2020\",\"27-08-2020\",\"28-08-2020\",\"29-08-2020\",\"30-08-2020\",\"31-08-2020\",\"01-09-2020\",\"02-09-2020\",\"03-09-2020\",\"04-09-2020\",\"05-09-2020\",\"06-09-2020\",\"07-09-2020\",\"08-09-2020\",\"09-09-2020\",\"10-09-2020\",\"11-09-2020\",\"12-09-2020\",\"13-09-2020\",\"14-09-2020\",\"15-09-2020\",\"16-09-2020\",\"17-09-2020\",\"18-09-2020\",\"19-09-2020\",\"20-09-2020\",\"21-09-2020\",\"22-09-2020\",\"23-09-2020\",\"24-09-2020\",\"25-09-2020\",\"26-09-2020\",\"27-09-2020\",\"28-09-2020\",\"29-09-2020\",\"30-09-2020\",\"01-10-2020\",\"02-10-2020\",\"03-10-2020\",\"04-10-2020\",\"05-10-2020\",\"06-10-2020\",\"07-10-2020\",\"08-10-2020\",\"09-10-2020\",\"10-10-2020\",\"11-10-2020\",\"12-10-2020\",\"13-10-2020\",\"14-10-2020\",\"15-10-2020\",\"16-10-2020\",\"17-10-2020\",\"18-10-2020\",\"19-10-2020\",\"20-10-2020\",\"21-10-2020\",\"22-10-2020\",\"23-10-2020\",\"24-10-2020\",\"25-10-2020\",\"26-10-2020\",\"27-10-2020\",\"28-10-2020\",\"29-10-2020\",\"30-10-2020\",\"31-10-2020\",\"01-11-2020\",\"02-11-2020\",\"03-11-2020\",\"04-11-2020\",\"05-11-2020\",\"06-11-2020\",\"07-11-2020\",\"08-11-2020\",\"09-11-2020\",\"10-11-2020\",\"11-11-2020\",\"12-11-2020\",\"13-11-2020\",\"14-11-2020\",\"15-11-2020\",\"16-11-2020\",\"17-11-2020\",\"18-11-2020\",\"19-11-2020\",\"20-11-2020\",\"21-11-2020\",\"22-11-2020\",\"23-11-2020\",\"24-11-2020\",\"25-11-2020\",\"26-11-2020\",\"27-11-2020\",\"28-11-2020\",\"29-11-2020\",\"30-11-2020\",\"01-12-2020\",\"02-12-2020\",\"03-12-2020\",\"04-12-2020\",\"05-12-2020\",\"06-12-2020\",\"07-12-2020\",\"08-12-2020\",\"09-12-2020\",\"10-12-2020\",\"11-12-2020\",\"12-12-2020\",\"13-12-2020\",\"14-12-2020\",\"15-12-2020\",\"16-12-2020\",\"17-12-2020\",\"18-12-2020\",\"19-12-2020\",\"20-12-2020\",\"21-12-2020\",\"22-12-2020\",\"23-12-2020\",\"24-12-2020\",\"25-12-2020\",\"26-12-2020\",\"27-12-2020\",\"28-12-2020\",\"29-12-2020\",\"30-12-2020\",\"31-12-2020\",\"01-01-2021\",\"02-01-2021\",\"03-01-2021\",\"04-01-2021\",\"05-01-2021\",\"06-01-2021\",\"07-01-2021\",\"08-01-2021\",\"09-01-2021\",\"10-01-2021\",\"11-01-2021\",\"12-01-2021\",\"13-01-2021\",\"14-01-2021\",\"15-01-2021\",\"16-01-2021\",\"17-01-2021\",\"18-01-2021\",\"19-01-2021\",\"20-01-2021\",\"21-01-2021\",\"22-01-2021\",\"23-01-2021\",\"24-01-2021\",\"25-01-2021\",\"26-01-2021\",\"27-01-2021\",\"28-01-2021\",\"29-01-2021\",\"30-01-2021\",\"31-01-2021\",\"01-02-2021\",\"02-02-2021\",\"03-02-2021\",\"04-02-2021\",\"05-02-2021\",\"06-02-2021\",\"07-02-2021\",\"08-02-2021\",\"09-02-2021\",\"10-02-2021\",\"11-02-2021\",\"12-02-2021\",\"13-02-2021\",\"14-02-2021\",\"15-02-2021\",\"16-02-2021\",\"17-02-2021\",\"18-02-2021\",\"19-02-2021\",\"20-02-2021\",\"21-02-2021\",\"22-02-2021\",\"23-02-2021\",\"24-02-2021\",\"25-02-2021\",\"26-02-2021\",\"27-02-2021\",\"28-02-2021\",\"01-03-2021\",\"02-03-2021\",\"03-03-2021\",\"04-03-2021\",\"05-03-2021\",\"06-03-2021\",\"07-03-2021\",\"08-03-2021\",\"09-03-2021\",\"10-03-2021\",\"11-03-2021\",\"12-03-2021\",\"13-03-2021\",\"14-03-2021\",\"15-03-2021\",\"16-03-2021\",\"17-03-2021\",\"18-03-2021\",\"19-03-2021\",\"20-03-2021\",\"21-03-2021\",\"22-03-2021\",\"23-03-2021\",\"24-03-2021\",\"25-03-2021\",\"26-03-2021\",\"27-03-2021\",\"28-03-2021\",\"29-03-2021\",\"30-03-2021\",\"31-03-2021\",\"01-04-2021\",\"02-04-2021\",\"03-04-2021\",\"04-04-2021\",\"05-04-2021\",\"06-04-2021\",\"07-04-2021\",\"08-04-2021\",\"09-04-2021\",\"10-04-2021\",\"11-04-2021\",\"12-04-2021\",\"13-04-2021\",\"14-04-2021\",\"15-04-2021\",\"16-04-2021\",\"17-04-2021\",\"18-04-2021\",\"19-04-2021\",\"20-04-2021\",\"21-04-2021\",\"22-04-2021\",\"23-04-2021\",\"24-04-2021\",\"25-04-2021\",\"26-04-2021\",\"27-04-2021\",\"28-04-2021\",\"29-04-2021\",\"30-04-2021\",\"01-05-2021\",\"02-05-2021\",\"03-05-2021\",\"04-05-2021\",\"05-05-2021\",\"06-05-2021\",\"07-05-2021\",\"08-05-2021\",\"09-05-2021\",\"10-05-2021\",\"11-05-2021\",\"12-05-2021\",\"13-05-2021\",\"14-05-2021\",\"15-05-2021\",\"16-05-2021\",\"17-05-2021\",\"18-05-2021\",\"19-05-2021\",\"20-05-2021\",\"21-05-2021\",\"22-05-2021\",\"23-05-2021\",\"24-05-2021\",\"25-05-2021\",\"26-05-2021\",\"27-05-2021\",\"28-05-2021\",\"29-05-2021\",\"30-05-2021\",\"31-05-2021\",\"01-06-2021\",\"02-06-2021\",\"03-06-2021\",\"04-06-2021\",\"05-06-2021\",\"06-06-2021\",\"07-06-2021\",\"08-06-2021\",\"09-06-2021\",\"10-06-2021\",\"11-06-2021\",\"12-06-2021\",\"13-06-2021\",\"14-06-2021\",\"15-06-2021\",\"16-06-2021\",\"17-06-2021\",\"18-06-2021\",\"19-06-2021\",\"20-06-2021\",\"21-06-2021\",\"22-06-2021\",\"23-06-2021\",\"24-06-2021\",\"25-06-2021\",\"26-06-2021\",\"27-06-2021\",\"28-06-2021\",\"29-06-2021\",\"30-06-2021\",\"01-07-2021\",\"02-07-2021\",\"03-07-2021\",\"04-07-2021\",\"05-07-2021\",\"06-07-2021\",\"07-07-2021\",\"08-07-2021\",\"09-07-2021\",\"10-07-2021\",\"11-07-2021\",\"12-07-2021\",\"13-07-2021\",\"14-07-2021\",\"15-07-2021\",\"16-07-2021\",\"17-07-2021\",\"18-07-2021\",\"19-07-2021\",\"20-07-2021\",\"21-07-2021\",\"22-07-2021\",\"23-07-2021\",\"24-07-2021\",\"25-07-2021\",\"26-07-2021\",\"27-07-2021\",\"28-07-2021\",\"29-07-2021\",\"30-07-2021\",\"31-07-2021\",\"01-08-2021\",\"02-08-2021\",\"03-08-2021\",\"04-08-2021\",\"05-08-2021\",\"06-08-2021\",\"07-08-2021\",\"08-08-2021\",\"09-08-2021\",\"10-08-2021\",\"11-08-2021\",\"12-08-2021\",\"13-08-2021\",\"14-08-2021\",\"15-08-2021\",\"16-08-2021\",\"17-08-2021\",\"18-08-2021\",\"19-08-2021\",\"20-08-2021\",\"21-08-2021\",\"22-08-2021\",\"23-08-2021\",\"24-08-2021\",\"25-08-2021\",\"26-08-2021\",\"27-08-2021\",\"28-08-2021\",\"29-08-2021\",\"30-08-2021\",\"31-08-2021\",\"01-09-2021\",\"02-09-2021\",\"03-09-2021\",\"04-09-2021\",\"05-09-2021\",\"06-09-2021\",\"07-09-2021\",\"08-09-2021\",\"09-09-2021\",\"10-09-2021\",\"11-09-2021\",\"12-09-2021\",\"13-09-2021\",\"14-09-2021\",\"15-09-2021\",\"16-09-2021\",\"17-09-2021\",\"18-09-2021\",\"19-09-2021\",\"20-09-2021\",\"21-09-2021\",\"22-09-2021\",\"23-09-2021\",\"24-09-2021\",\"25-09-2021\",\"26-09-2021\",\"27-09-2021\",\"28-09-2021\",\"29-09-2021\",\"30-09-2021\",\"01-10-2021\",\"02-10-2021\",\"03-10-2021\",\"04-10-2021\",\"05-10-2021\",\"06-10-2021\",\"07-10-2021\",\"08-10-2021\",\"09-10-2021\",\"10-10-2021\",\"11-10-2021\",\"12-10-2021\",\"13-10-2021\",\"14-10-2021\",\"15-10-2021\",\"16-10-2021\",\"17-10-2021\",\"18-10-2021\",\"19-10-2021\",\"20-10-2021\",\"21-10-2021\",\"22-10-2021\",\"23-10-2021\",\"24-10-2021\",\"25-10-2021\",\"26-10-2021\",\"27-10-2021\",\"28-10-2021\",\"29-10-2021\",\"30-10-2021\",\"31-10-2021\",\"01-11-2021\",\"02-11-2021\",\"03-11-2021\",\"04-11-2021\",\"05-11-2021\",\"06-11-2021\",\"07-11-2021\",\"08-11-2021\",\"09-11-2021\",\"10-11-2021\",\"11-11-2021\",\"12-11-2021\",\"13-11-2021\",\"14-11-2021\",\"15-11-2021\",\"16-11-2021\",\"17-11-2021\",\"18-11-2021\",\"19-11-2021\",\"20-11-2021\",\"21-11-2021\",\"22-11-2021\",\"23-11-2021\",\"24-11-2021\",\"25-11-2021\",\"26-11-2021\",\"27-11-2021\",\"28-11-2021\",\"29-11-2021\",\"30-11-2021\",\"01-12-2021\",\"02-12-2021\",\"03-12-2021\",\"04-12-2021\",\"05-12-2021\",\"06-12-2021\",\"07-12-2021\",\"08-12-2021\",\"09-12-2021\",\"10-12-2021\",\"11-12-2021\",\"12-12-2021\",\"13-12-2021\",\"14-12-2021\",\"15-12-2021\",\"16-12-2021\",\"17-12-2021\",\"18-12-2021\",\"19-12-2021\",\"20-12-2021\",\"21-12-2021\",\"22-12-2021\",\"23-12-2021\",\"24-12-2021\",\"25-12-2021\",\"26-12-2021\",\"27-12-2021\",\"28-12-2021\",\"29-12-2021\",\"30-12-2021\",\"31-12-2021\",\"01-01-2022\",\"02-01-2022\",\"03-01-2022\",\"04-01-2022\",\"05-01-2022\",\"06-01-2022\",\"07-01-2022\",\"08-01-2022\",\"09-01-2022\"],\"xaxis\":\"x\",\"y\":[655,941,1434,2118,2927,5578,6167,8235,9927,12038,16787,19887,23898,27643,30805,34399,37130,40161,42769,44811,45229,60381,66909,69052,71235,73270,75152,75652,76212,76841,78602,78982,79550,80404,81381,82740,84128,86022,88400,90379,92980,95282,98100,102016,106113,110051,114232,119055,126714,132513,146864,157962,169241,184034,200039,219586,246684,277565,309680,344821,387488,428574,479663,542525,607435,677100,734000,799279,876098,959012,1041923,1126238,1185171,1256277,1330151,1399552,1482909,1570264,1655623,1730100,1849635,1920621,2004469,2082629,2178015,2266210,2343459,2420285,2495724,2571680,2653519,2737032,2820960,2903927,2975368,3045572,3121378,3198365,3281736,3370333,3449993,3524895,3602083,3682186,3772588,3861478,3952060,4036215,4111911,4188264,4272703,4357657,4453535,4549686,4643964,4722391,4811105,4907902,5013069,5119377,5226719,5331657,5425134,5512842,5605652,5708788,5829225,5950302,6086210,6189755,6289011,6413460,6525095,6656966,6789307,6919910,7031792,7134698,7258857,7395054,7530621,7658135,7792669,7925089,8047407,8191117,8334611,8478047,8659523,8846033,8939331,9082595,9249719,9420938,9601358,9791114,9968098,10135531,10286561,10468734,10686132,10892153,11095736,11288369,11471208,11639017,11850137,12064617,12289883,12521839,12735549,12928888,13121471,13343330,13574517,13824669,14067903,14302405,14516704,14724560,14965071,15243191,15523275,15806189,16058695,16271163,16501711,16764893,17039512,17319998,17611663,17859201,18088855,18298551,18557355,18834391,19118246,19401411,19657482,19884238,20112185,20372813,20646020,20936057,21238221,21484025,21699311,21910930,22168552,22444285,22715138,22978291,23239743,23444760,23674751,23918543,24201840,24484704,24768741,25029996,25249918,25514269,25781982,26064630,26349266,26652966,26926064,27156574,27374000,27619030,27905610,28205643,28525184,28809714,29051902,29319879,29603177,29908132,30223080,30549055,30838317,31090035,31368860,31655357,31964086,32283392,32615047,32900311,33151754,33409630,33693298,34018837,34337188,34668170,34965673,35226227,35539772,35855491,36206129,36566851,36928397,37283124,37570988,37862791,38184174,38566558,38975843,39385332,39756803,40085602,40462038,40851537,41297329,41769679,42267327,42723100,43083132,43571126,44042026,44553874,45105154,45679369,46151869,46616149,47177180,47735897,48246620,48867787,49491782,50089025,50573698,51075292,51658072,52287343,52933779,53596512,54184038,54659324,55192235,55804180,56432280,57086690,57759806,58348350,58835861,59360371,59956933,60592670,61185154,61867374,62456996,62943155,63449549,64070574,64724172,65420486,66109081,66755465,67292847,67814926,68463971,69137112,70640890,71347590,71987796,72518132,73052095,73709741,74437242,75177634,75899520,76522047,77053429,77596323,78259803,78955035,79636969,80113908,80621881,81054122,81549143,82219114,82959829,83734925,84299954,84905004,85427384,85982926,86728309,87518781,88411723,89236225,89988143,90578039,91199510,91901105,92651362,93411859,94185213,94829910,95357314,95876825,96476655,97174396,97831859,98492586,99063623,99522561,100016529,100573531,101177013,101790463,102381034,102897125,103286933,103734755,104197092,104723512,105193164,105729245,106157581,106512111,106854646,107261758,107702407,108146228,108575346,108954119,109260142,109540164,109900507,110288856,110698355,111111144,111484404,111805501,112100204,112493036,112940079,113393402,113838602,114229393,114537721,114847238,115160470,115605304,116062551,116509442,116921905,117295647,117600270,118016281,118487280,118968127,119456724,119907931,120271987,120629039,121098319,121648271,122193118,122755175,123250767,123687352,124110342,124628852,125265204,125916795,126555814,127137392,127615455,128076766,128648701,129331486,130041817,130677497,131205010,131762359,132261850,132865481,133547661,134390611,135136164,135799205,136493697,137111424,137893430,138710998,139526121,140382910,141171849,141854717,142553677,143411193,144297048,145199706,146104135,146919308,147645504,148330951,149180016,150085858,150982144,151866328,152656389,153332361,154026237,154826639,155672564,156541941,157373376,158158937,158795277,159425446,160162286,160922472,161653755,162364181,162993843,163540255,164084591,164706998,165380464,165661616,166288024,166858834,167338787,167791260,168324701,168894142,169443472,169948192,170426710,170816695,171203863,171666585,172153491,172635600,173060571,173455492,173779569,174102647,174472675,174891735,175344598,175766755,176134687,176437399,176747627,177125515,177515391,177910388,178313888,178659208,178962096,179262030,179670284,180070254,180478201,180895932,181258659,181568494,181900864,182281577,182681885,183118837,183558516,183934580,184260854,184635729,185088010,185551609,186032386,186540625,186963661,187332599,187770928,188294462,188834292,189408031,190003642,190492831,190906691,191403976,191937478,192497612,193060934,193788528,194218949,194664873,195206254,195818671,196462017,197113827,197843601,198352835,198834888,199414228,200051820,200727047,201415416,202237747,202787567,203230600,203884055,204533283,205264811,205971477,206776252,207310753,207776865,208454537,209139014,209865719,210581085,211371548,211912074,212360749,213061792,213749647,214479290,215214886,215961035,216510731,216958593,217640191,218261641,218992965,219665151,220381307,220869273,221312476,221756550,222470717,223102829,223742385,224376879,224837347,225205981,225801681,226353220,226919683,227497286,228114968,228630597,228993839,229522835,230007971,230542257,231078590,231625402,231993896,232343974,232806831,233257782,233759884,234239073,234753494,235101568,235409315,235851242,236273035,236775448,237218516,237693353,238026384,238342528,238720790,239154041,239617901,240063409,240519543,240857108,241171680,241585776,242028116,242499420,242956534,243441079,243802827,244118037,244549020,244991707,245504133,245961632,246467166,246849391,247170321,247592532,248013865,248544405,249063937,249578632,250002001,250349314,250827336,251311314,251888450,252406446,252999491,253424470,253777163,254319779,254843531,255469860,256083842,256698593,257176999,257574449,258197948,258807984,259479377,260071181,260666104,261122848,261529567,262192606,262818258,263525995,264226366,264944750,265448367,265883131,266476308,267172410,267840953,268568887,269266197,269761622,270201626,270833032,271491328,272230109,272967965,273700172,274275721,274753661,275506352,276297047,277199032,278189880,279020370,279655270,280247128,281564820,282870618,284576564,286550013,288221881,289348324,290217647,292741887,295285111,297798343,300355562,303270379,305334730,307343166,310629511],\"yaxis\":\"y\",\"type\":\"scatter\"}],                        {\"template\":{\"data\":{\"bar\":[{\"error_x\":{\"color\":\"#2a3f5f\"},\"error_y\":{\"color\":\"#2a3f5f\"},\"marker\":{\"line\":{\"color\":\"#E5ECF6\",\"width\":0.5},\"pattern\":{\"fillmode\":\"overlay\",\"size\":10,\"solidity\":0.2}},\"type\":\"bar\"}],\"barpolar\":[{\"marker\":{\"line\":{\"color\":\"#E5ECF6\",\"width\":0.5},\"pattern\":{\"fillmode\":\"overlay\",\"size\":10,\"solidity\":0.2}},\"type\":\"barpolar\"}],\"carpet\":[{\"aaxis\":{\"endlinecolor\":\"#2a3f5f\",\"gridcolor\":\"white\",\"linecolor\":\"white\",\"minorgridcolor\":\"white\",\"startlinecolor\":\"#2a3f5f\"},\"baxis\":{\"endlinecolor\":\"#2a3f5f\",\"gridcolor\":\"white\",\"linecolor\":\"white\",\"minorgridcolor\":\"white\",\"startlinecolor\":\"#2a3f5f\"},\"type\":\"carpet\"}],\"choropleth\":[{\"colorbar\":{\"outlinewidth\":0,\"ticks\":\"\"},\"type\":\"choropleth\"}],\"contour\":[{\"colorbar\":{\"outlinewidth\":0,\"ticks\":\"\"},\"colorscale\":[[0.0,\"#0d0887\"],[0.1111111111111111,\"#46039f\"],[0.2222222222222222,\"#7201a8\"],[0.3333333333333333,\"#9c179e\"],[0.4444444444444444,\"#bd3786\"],[0.5555555555555556,\"#d8576b\"],[0.6666666666666666,\"#ed7953\"],[0.7777777777777778,\"#fb9f3a\"],[0.8888888888888888,\"#fdca26\"],[1.0,\"#f0f921\"]],\"type\":\"contour\"}],\"contourcarpet\":[{\"colorbar\":{\"outlinewidth\":0,\"ticks\":\"\"},\"type\":\"contourcarpet\"}],\"heatmap\":[{\"colorbar\":{\"outlinewidth\":0,\"ticks\":\"\"},\"colorscale\":[[0.0,\"#0d0887\"],[0.1111111111111111,\"#46039f\"],[0.2222222222222222,\"#7201a8\"],[0.3333333333333333,\"#9c179e\"],[0.4444444444444444,\"#bd3786\"],[0.5555555555555556,\"#d8576b\"],[0.6666666666666666,\"#ed7953\"],[0.7777777777777778,\"#fb9f3a\"],[0.8888888888888888,\"#fdca26\"],[1.0,\"#f0f921\"]],\"type\":\"heatmap\"}],\"heatmapgl\":[{\"colorbar\":{\"outlinewidth\":0,\"ticks\":\"\"},\"colorscale\":[[0.0,\"#0d0887\"],[0.1111111111111111,\"#46039f\"],[0.2222222222222222,\"#7201a8\"],[0.3333333333333333,\"#9c179e\"],[0.4444444444444444,\"#bd3786\"],[0.5555555555555556,\"#d8576b\"],[0.6666666666666666,\"#ed7953\"],[0.7777777777777778,\"#fb9f3a\"],[0.8888888888888888,\"#fdca26\"],[1.0,\"#f0f921\"]],\"type\":\"heatmapgl\"}],\"histogram\":[{\"marker\":{\"pattern\":{\"fillmode\":\"overlay\",\"size\":10,\"solidity\":0.2}},\"type\":\"histogram\"}],\"histogram2d\":[{\"colorbar\":{\"outlinewidth\":0,\"ticks\":\"\"},\"colorscale\":[[0.0,\"#0d0887\"],[0.1111111111111111,\"#46039f\"],[0.2222222222222222,\"#7201a8\"],[0.3333333333333333,\"#9c179e\"],[0.4444444444444444,\"#bd3786\"],[0.5555555555555556,\"#d8576b\"],[0.6666666666666666,\"#ed7953\"],[0.7777777777777778,\"#fb9f3a\"],[0.8888888888888888,\"#fdca26\"],[1.0,\"#f0f921\"]],\"type\":\"histogram2d\"}],\"histogram2dcontour\":[{\"colorbar\":{\"outlinewidth\":0,\"ticks\":\"\"},\"colorscale\":[[0.0,\"#0d0887\"],[0.1111111111111111,\"#46039f\"],[0.2222222222222222,\"#7201a8\"],[0.3333333333333333,\"#9c179e\"],[0.4444444444444444,\"#bd3786\"],[0.5555555555555556,\"#d8576b\"],[0.6666666666666666,\"#ed7953\"],[0.7777777777777778,\"#fb9f3a\"],[0.8888888888888888,\"#fdca26\"],[1.0,\"#f0f921\"]],\"type\":\"histogram2dcontour\"}],\"mesh3d\":[{\"colorbar\":{\"outlinewidth\":0,\"ticks\":\"\"},\"type\":\"mesh3d\"}],\"parcoords\":[{\"line\":{\"colorbar\":{\"outlinewidth\":0,\"ticks\":\"\"}},\"type\":\"parcoords\"}],\"pie\":[{\"automargin\":true,\"type\":\"pie\"}],\"scatter\":[{\"marker\":{\"colorbar\":{\"outlinewidth\":0,\"ticks\":\"\"}},\"type\":\"scatter\"}],\"scatter3d\":[{\"line\":{\"colorbar\":{\"outlinewidth\":0,\"ticks\":\"\"}},\"marker\":{\"colorbar\":{\"outlinewidth\":0,\"ticks\":\"\"}},\"type\":\"scatter3d\"}],\"scattercarpet\":[{\"marker\":{\"colorbar\":{\"outlinewidth\":0,\"ticks\":\"\"}},\"type\":\"scattercarpet\"}],\"scattergeo\":[{\"marker\":{\"colorbar\":{\"outlinewidth\":0,\"ticks\":\"\"}},\"type\":\"scattergeo\"}],\"scattergl\":[{\"marker\":{\"colorbar\":{\"outlinewidth\":0,\"ticks\":\"\"}},\"type\":\"scattergl\"}],\"scattermapbox\":[{\"marker\":{\"colorbar\":{\"outlinewidth\":0,\"ticks\":\"\"}},\"type\":\"scattermapbox\"}],\"scatterpolar\":[{\"marker\":{\"colorbar\":{\"outlinewidth\":0,\"ticks\":\"\"}},\"type\":\"scatterpolar\"}],\"scatterpolargl\":[{\"marker\":{\"colorbar\":{\"outlinewidth\":0,\"ticks\":\"\"}},\"type\":\"scatterpolargl\"}],\"scatterternary\":[{\"marker\":{\"colorbar\":{\"outlinewidth\":0,\"ticks\":\"\"}},\"type\":\"scatterternary\"}],\"surface\":[{\"colorbar\":{\"outlinewidth\":0,\"ticks\":\"\"},\"colorscale\":[[0.0,\"#0d0887\"],[0.1111111111111111,\"#46039f\"],[0.2222222222222222,\"#7201a8\"],[0.3333333333333333,\"#9c179e\"],[0.4444444444444444,\"#bd3786\"],[0.5555555555555556,\"#d8576b\"],[0.6666666666666666,\"#ed7953\"],[0.7777777777777778,\"#fb9f3a\"],[0.8888888888888888,\"#fdca26\"],[1.0,\"#f0f921\"]],\"type\":\"surface\"}],\"table\":[{\"cells\":{\"fill\":{\"color\":\"#EBF0F8\"},\"line\":{\"color\":\"white\"}},\"header\":{\"fill\":{\"color\":\"#C8D4E3\"},\"line\":{\"color\":\"white\"}},\"type\":\"table\"}]},\"layout\":{\"annotationdefaults\":{\"arrowcolor\":\"#2a3f5f\",\"arrowhead\":0,\"arrowwidth\":1},\"autotypenumbers\":\"strict\",\"coloraxis\":{\"colorbar\":{\"outlinewidth\":0,\"ticks\":\"\"}},\"colorscale\":{\"diverging\":[[0,\"#8e0152\"],[0.1,\"#c51b7d\"],[0.2,\"#de77ae\"],[0.3,\"#f1b6da\"],[0.4,\"#fde0ef\"],[0.5,\"#f7f7f7\"],[0.6,\"#e6f5d0\"],[0.7,\"#b8e186\"],[0.8,\"#7fbc41\"],[0.9,\"#4d9221\"],[1,\"#276419\"]],\"sequential\":[[0.0,\"#0d0887\"],[0.1111111111111111,\"#46039f\"],[0.2222222222222222,\"#7201a8\"],[0.3333333333333333,\"#9c179e\"],[0.4444444444444444,\"#bd3786\"],[0.5555555555555556,\"#d8576b\"],[0.6666666666666666,\"#ed7953\"],[0.7777777777777778,\"#fb9f3a\"],[0.8888888888888888,\"#fdca26\"],[1.0,\"#f0f921\"]],\"sequentialminus\":[[0.0,\"#0d0887\"],[0.1111111111111111,\"#46039f\"],[0.2222222222222222,\"#7201a8\"],[0.3333333333333333,\"#9c179e\"],[0.4444444444444444,\"#bd3786\"],[0.5555555555555556,\"#d8576b\"],[0.6666666666666666,\"#ed7953\"],[0.7777777777777778,\"#fb9f3a\"],[0.8888888888888888,\"#fdca26\"],[1.0,\"#f0f921\"]]},\"colorway\":[\"#636efa\",\"#EF553B\",\"#00cc96\",\"#ab63fa\",\"#FFA15A\",\"#19d3f3\",\"#FF6692\",\"#B6E880\",\"#FF97FF\",\"#FECB52\"],\"font\":{\"color\":\"#2a3f5f\"},\"geo\":{\"bgcolor\":\"white\",\"lakecolor\":\"white\",\"landcolor\":\"#E5ECF6\",\"showlakes\":true,\"showland\":true,\"subunitcolor\":\"white\"},\"hoverlabel\":{\"align\":\"left\"},\"hovermode\":\"closest\",\"mapbox\":{\"style\":\"light\"},\"paper_bgcolor\":\"white\",\"plot_bgcolor\":\"#E5ECF6\",\"polar\":{\"angularaxis\":{\"gridcolor\":\"white\",\"linecolor\":\"white\",\"ticks\":\"\"},\"bgcolor\":\"#E5ECF6\",\"radialaxis\":{\"gridcolor\":\"white\",\"linecolor\":\"white\",\"ticks\":\"\"}},\"scene\":{\"xaxis\":{\"backgroundcolor\":\"#E5ECF6\",\"gridcolor\":\"white\",\"gridwidth\":2,\"linecolor\":\"white\",\"showbackground\":true,\"ticks\":\"\",\"zerolinecolor\":\"white\"},\"yaxis\":{\"backgroundcolor\":\"#E5ECF6\",\"gridcolor\":\"white\",\"gridwidth\":2,\"linecolor\":\"white\",\"showbackground\":true,\"ticks\":\"\",\"zerolinecolor\":\"white\"},\"zaxis\":{\"backgroundcolor\":\"#E5ECF6\",\"gridcolor\":\"white\",\"gridwidth\":2,\"linecolor\":\"white\",\"showbackground\":true,\"ticks\":\"\",\"zerolinecolor\":\"white\"}},\"shapedefaults\":{\"line\":{\"color\":\"#2a3f5f\"}},\"ternary\":{\"aaxis\":{\"gridcolor\":\"white\",\"linecolor\":\"white\",\"ticks\":\"\"},\"baxis\":{\"gridcolor\":\"white\",\"linecolor\":\"white\",\"ticks\":\"\"},\"bgcolor\":\"#E5ECF6\",\"caxis\":{\"gridcolor\":\"white\",\"linecolor\":\"white\",\"ticks\":\"\"}},\"title\":{\"x\":0.05},\"xaxis\":{\"automargin\":true,\"gridcolor\":\"white\",\"linecolor\":\"white\",\"ticks\":\"\",\"title\":{\"standoff\":15},\"zerolinecolor\":\"white\",\"zerolinewidth\":2},\"yaxis\":{\"automargin\":true,\"gridcolor\":\"white\",\"linecolor\":\"white\",\"ticks\":\"\",\"title\":{\"standoff\":15},\"zerolinecolor\":\"white\",\"zerolinewidth\":2}}},\"xaxis\":{\"anchor\":\"y\",\"domain\":[0.0,1.0],\"title\":{\"text\":\"Time\"}},\"yaxis\":{\"anchor\":\"x\",\"domain\":[0.0,1.0],\"title\":{\"text\":\"value\"}},\"legend\":{\"title\":{\"text\":\"variable\"},\"tracegroupgap\":0},\"margin\":{\"t\":60}},                        {\"responsive\": true}                    ).then(function(){\n",
              "                            \n",
              "var gd = document.getElementById('bb47350b-a81b-471e-8017-86baf74f0ea2');\n",
              "var x = new MutationObserver(function (mutations, observer) {{\n",
              "        var display = window.getComputedStyle(gd).display;\n",
              "        if (!display || display === 'none') {{\n",
              "            console.log([gd, 'removed!']);\n",
              "            Plotly.purge(gd);\n",
              "            observer.disconnect();\n",
              "        }}\n",
              "}});\n",
              "\n",
              "// Listen for the removal of the full notebook cells\n",
              "var notebookContainer = gd.closest('#notebook-container');\n",
              "if (notebookContainer) {{\n",
              "    x.observe(notebookContainer, {childList: true});\n",
              "}}\n",
              "\n",
              "// Listen for the clearing of the current output cell\n",
              "var outputEl = gd.closest('.output');\n",
              "if (outputEl) {{\n",
              "    x.observe(outputEl, {childList: true});\n",
              "}}\n",
              "\n",
              "                        })                };                            </script>        </div>\n",
              "</body>\n",
              "</html>"
            ]
          },
          "metadata": {}
        }
      ]
    },
    {
      "cell_type": "code",
      "source": [
        "ax = df1.plot( color='black', figsize=(12,8), legend=True,linewidth=2)\n",
        "\n",
        "#First Instance\n",
        "ins1 = SimpleExpSmoothing(df1).fit(smoothing_level=0.2,optimized=False)\n",
        "ins_cast1 = ins1.forecast(3).rename('alpha=0.2')\n",
        "\n",
        "#Second Instance\n",
        "#ins2 = SimpleExpSmoothing(df1).fit(smoothing_level=0.8,optimized=False)\n",
        "#ins_cast2 = ins2.forecast(3).rename('alpha=0.5')\n",
        "\n",
        "#Third Instance\n",
        "ins3 = SimpleExpSmoothing(df1).fit()\n",
        "ins_cast3 = ins3.forecast(3).rename('alpha=%s'%ins3.model.params['smoothing_level'])\n",
        "\n",
        "#After creating model we will visualize the plot\n",
        "ax = df1.plot(color='black', figsize=(12,8), legend=True,linewidth=2)\n",
        "\n",
        "#Plot for alpha =0.2\n",
        "ins_cast1.plot( ax=ax, color='blue', legend=True,linewidth =2)\n",
        "ins1.fittedvalues.plot( ax=ax, color='blue',linewidth = 2)\n",
        "\n",
        "#Plot for alpha = 0.5\n",
        "#ins_cast2.plot(ax=ax, color='red', legend=True,linewidth = 2)\n",
        "#ins2.fittedvalues.plot(ax=ax, color='red',linewidth = 2)\n",
        "\n",
        "#Plot for alpha=Optimized by statsmodel\n",
        "ins_cast3.plot(ax=ax, color='green', legend=True,linewidth = 2)\n",
        "ins3.fittedvalues.plot(ax=ax, color='green',linewidth = 2)\n",
        "\n",
        "plt.show()"
      ],
      "metadata": {
        "colab": {
          "base_uri": "https://localhost:8080/",
          "height": 1000
        },
        "id": "ltoVKmU81I5L",
        "outputId": "d1aeb380-341c-4af1-f21c-0ddaed6c11bf"
      },
      "execution_count": 43,
      "outputs": [
        {
          "output_type": "stream",
          "name": "stderr",
          "text": [
            "/usr/local/lib/python3.7/dist-packages/statsmodels/tsa/base/tsa_model.py:219: ValueWarning:\n",
            "\n",
            "A date index has been provided, but it has no associated frequency information and so will be ignored when e.g. forecasting.\n",
            "\n",
            "/usr/local/lib/python3.7/dist-packages/statsmodels/tsa/base/tsa_model.py:576: ValueWarning:\n",
            "\n",
            "No supported index is available. Prediction results will be given with an integer index beginning at `start`.\n",
            "\n",
            "/usr/local/lib/python3.7/dist-packages/statsmodels/tsa/base/tsa_model.py:219: ValueWarning:\n",
            "\n",
            "A date index has been provided, but it has no associated frequency information and so will be ignored when e.g. forecasting.\n",
            "\n",
            "/usr/local/lib/python3.7/dist-packages/statsmodels/tsa/base/tsa_model.py:576: ValueWarning:\n",
            "\n",
            "No supported index is available. Prediction results will be given with an integer index beginning at `start`.\n",
            "\n"
          ]
        },
        {
          "output_type": "display_data",
          "data": {
            "text/plain": [
              "<Figure size 864x576 with 1 Axes>"
            ],
            "image/png": "[encoded data removed]"
          },
          "metadata": {
            "needs_background": "light"
          }
        },
        {
          "output_type": "display_data",
          "data": {
            "text/plain": [
              "<Figure size 864x576 with 1 Axes>"
            ],
            "image/png": "[encoded data removed]"
          },
          "metadata": {
            "needs_background": "light"
          }
        }
      ]
    },
    {
      "cell_type": "code",
      "source": [
        ""
      ],
      "metadata": {
        "id": "C3QIeGE8YaAC"
      },
      "execution_count": null,
      "outputs": []
    }
  ]
}