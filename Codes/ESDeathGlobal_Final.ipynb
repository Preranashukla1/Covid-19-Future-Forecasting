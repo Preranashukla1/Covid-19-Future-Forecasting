{
  "nbformat": 4,
  "nbformat_minor": 0,
  "metadata": {
    "colab": {
      "name": "ESDeathGlobal-Final",
      "provenance": [],
      "collapsed_sections": []
    },
    "kernelspec": {
      "name": "python3",
      "display_name": "Python 3"
    },
    "language_info": {
      "name": "python"
    }
  },
  "cells": [
    {
      "cell_type": "code",
      "execution_count": null,
      "metadata": {
        "id": "dW_tEoHxOKZP"
      },
      "outputs": [],
      "source": [
        "import pandas as pd\n",
        "#import yfinance as yf\n",
        "import datetime\n",
        "import matplotlib.pyplot as plt\n",
        "from statsmodels.tsa.api import SimpleExpSmoothing"
      ]
    },
    {
      "cell_type": "code",
      "source": [
        "import os\n",
        "import warnings\n",
        "import matplotlib.pyplot as plt\n",
        "import numpy as np\n",
        "import pandas as pd\n",
        "import datetime as dt\n",
        "import math\n",
        "\n",
        "from sklearn.svm import SVR\n",
        "from sklearn.preprocessing import MinMaxScaler\n",
        "from datetime import datetime, timedelta\n",
        "from matplotlib.dates import DateFormatter\n",
        "import matplotlib.dates as mdates\n",
        "#from common.utils import load_data, mape"
      ],
      "metadata": {
        "id": "-jr8pQnsOK9g"
      },
      "execution_count": null,
      "outputs": []
    },
    {
      "cell_type": "code",
      "source": [
        "from google.colab import drive"
      ],
      "metadata": {
        "id": "j20h8t1KWuWo"
      },
      "execution_count": null,
      "outputs": []
    },
    {
      "cell_type": "code",
      "source": [
        "drive.mount('/content/drive/')"
      ],
      "metadata": {
        "colab": {
          "base_uri": "https://localhost:8080/"
        },
        "id": "3-C1kaRmWv9B",
        "outputId": "e048bc31-28b9-469e-c540-3f77c18f6af3"
      },
      "execution_count": null,
      "outputs": [
        {
          "output_type": "stream",
          "name": "stdout",
          "text": [
            "Drive already mounted at /content/drive/; to attempt to forcibly remount, call drive.mount(\"/content/drive/\", force_remount=True).\n"
          ]
        }
      ]
    },
    {
      "cell_type": "code",
      "source": [
        "cd /content/drive/\"MyDrive/\""
      ],
      "metadata": {
        "colab": {
          "base_uri": "https://localhost:8080/"
        },
        "id": "Pif3qsKhWxf1",
        "outputId": "02fe5e4a-255d-45c0-f941-d21e1670b851"
      },
      "execution_count": null,
      "outputs": [
        {
          "output_type": "stream",
          "name": "stdout",
          "text": [
            "/content/drive/MyDrive\n"
          ]
        }
      ]
    },
    {
      "cell_type": "code",
      "source": [
        "dataset = pd.read_csv('Colab Notebooks/Linear Regression/time_series_covid19_deaths_global.csv')\n"
      ],
      "metadata": {
        "id": "MPx272F9W5-2"
      },
      "execution_count": null,
      "outputs": []
    },
    {
      "cell_type": "code",
      "source": [
        "dataf= pd.DataFrame(dataset)\n",
        "col = list(dataset.columns.values)\n",
        "col_value = (list(dataf.sum(axis = 0, skipna = True)))\n",
        "df1 = pd.DataFrame(list(zip(col, col_value)),columns =['Title', 'Values'])\n",
        "data = df1.drop(df1.index)\n",
        "print(df1)"
      ],
      "metadata": {
        "colab": {
          "base_uri": "https://localhost:8080/"
        },
        "id": "5gKAp0sbW8dJ",
        "outputId": "9789145e-3c00-429a-aa47-0b14c0eecfb7"
      },
      "execution_count": null,
      "outputs": [
        {
          "output_type": "stream",
          "name": "stdout",
          "text": [
            "              Title                                             Values\n",
            "0    Province/State  AfghanistanAlbaniaAlgeriaAndorraAngolaAntigua ...\n",
            "1    Country/Region                                         5603.37955\n",
            "2               Lat                                        6057.329414\n",
            "3              Long                                                 17\n",
            "4           1/22/20                                                 18\n",
            "..              ...                                                ...\n",
            "719          1/6/22                                            5480300\n",
            "720          1/7/22                                            5485330\n",
            "721          1/8/22                                            5489287\n",
            "722          1/9/22                                            5495713\n",
            "723         1/10/22                                            5504387\n",
            "\n",
            "[724 rows x 2 columns]\n"
          ]
        },
        {
          "output_type": "stream",
          "name": "stderr",
          "text": [
            "/usr/local/lib/python3.7/dist-packages/ipykernel_launcher.py:3: FutureWarning: Dropping of nuisance columns in DataFrame reductions (with 'numeric_only=None') is deprecated; in a future version this will raise TypeError.  Select only valid columns before calling the reduction.\n",
            "  This is separate from the ipykernel package so we can avoid doing imports until\n"
          ]
        }
      ]
    },
    {
      "cell_type": "code",
      "source": [
        "col1 = list(df1.columns.values)\n",
        "print(col1)\n",
        "df1 = df1.drop(0) \n",
        "df1 = df1.drop(1) \n",
        "df1 = df1.drop(2) \n",
        "df1 = df1.drop(3) \n",
        "df1 = df1.drop(723) \n",
        "df1"
      ],
      "metadata": {
        "colab": {
          "base_uri": "https://localhost:8080/",
          "height": 441
        },
        "id": "2G7ijh4HW-gf",
        "outputId": "f639ee01-b537-4693-d56f-8821b2ee6f1d"
      },
      "execution_count": null,
      "outputs": [
        {
          "output_type": "stream",
          "name": "stdout",
          "text": [
            "['Title', 'Values']\n"
          ]
        },
        {
          "output_type": "execute_result",
          "data": {
            "text/plain": [
              "       Title   Values\n",
              "4    1/22/20       18\n",
              "5    1/23/20       26\n",
              "6    1/24/20       42\n",
              "7    1/25/20       56\n",
              "8    1/26/20       82\n",
              "..       ...      ...\n",
              "718   1/5/22  5473031\n",
              "719   1/6/22  5480300\n",
              "720   1/7/22  5485330\n",
              "721   1/8/22  5489287\n",
              "722   1/9/22  5495713\n",
              "\n",
              "[719 rows x 2 columns]"
            ],
            "text/html": [
              "\n",
              "  <div id=\"df-19d3d876-0a65-404e-b4b1-7c35d9114d1a\">\n",
              "    <div class=\"colab-df-container\">\n",
              "      <div>\n",
              "<style scoped>\n",
              "    .dataframe tbody tr th:only-of-type {\n",
              "        vertical-align: middle;\n",
              "    }\n",
              "\n",
              "    .dataframe tbody tr th {\n",
              "        vertical-align: top;\n",
              "    }\n",
              "\n",
              "    .dataframe thead th {\n",
              "        text-align: right;\n",
              "    }\n",
              "</style>\n",
              "<table border=\"1\" class=\"dataframe\">\n",
              "  <thead>\n",
              "    <tr style=\"text-align: right;\">\n",
              "      <th></th>\n",
              "      <th>Title</th>\n",
              "      <th>Values</th>\n",
              "    </tr>\n",
              "  </thead>\n",
              "  <tbody>\n",
              "    <tr>\n",
              "      <th>4</th>\n",
              "      <td>1/22/20</td>\n",
              "      <td>18</td>\n",
              "    </tr>\n",
              "    <tr>\n",
              "      <th>5</th>\n",
              "      <td>1/23/20</td>\n",
              "      <td>26</td>\n",
              "    </tr>\n",
              "    <tr>\n",
              "      <th>6</th>\n",
              "      <td>1/24/20</td>\n",
              "      <td>42</td>\n",
              "    </tr>\n",
              "    <tr>\n",
              "      <th>7</th>\n",
              "      <td>1/25/20</td>\n",
              "      <td>56</td>\n",
              "    </tr>\n",
              "    <tr>\n",
              "      <th>8</th>\n",
              "      <td>1/26/20</td>\n",
              "      <td>82</td>\n",
              "    </tr>\n",
              "    <tr>\n",
              "      <th>...</th>\n",
              "      <td>...</td>\n",
              "      <td>...</td>\n",
              "    </tr>\n",
              "    <tr>\n",
              "      <th>718</th>\n",
              "      <td>1/5/22</td>\n",
              "      <td>5473031</td>\n",
              "    </tr>\n",
              "    <tr>\n",
              "      <th>719</th>\n",
              "      <td>1/6/22</td>\n",
              "      <td>5480300</td>\n",
              "    </tr>\n",
              "    <tr>\n",
              "      <th>720</th>\n",
              "      <td>1/7/22</td>\n",
              "      <td>5485330</td>\n",
              "    </tr>\n",
              "    <tr>\n",
              "      <th>721</th>\n",
              "      <td>1/8/22</td>\n",
              "      <td>5489287</td>\n",
              "    </tr>\n",
              "    <tr>\n",
              "      <th>722</th>\n",
              "      <td>1/9/22</td>\n",
              "      <td>5495713</td>\n",
              "    </tr>\n",
              "  </tbody>\n",
              "</table>\n",
              "<p>719 rows × 2 columns</p>\n",
              "</div>\n",
              "      <button class=\"colab-df-convert\" onclick=\"convertToInteractive('df-19d3d876-0a65-404e-b4b1-7c35d9114d1a')\"\n",
              "              title=\"Convert this dataframe to an interactive table.\"\n",
              "              style=\"display:none;\">\n",
              "        \n",
              "  <svg xmlns=\"http://www.w3.org/2000/svg\" height=\"24px\"viewBox=\"0 0 24 24\"\n",
              "       width=\"24px\">\n",
              "    <path d=\"M0 0h24v24H0V0z\" fill=\"none\"/>\n",
              "    <path d=\"M18.56 5.44l.94 2.06.94-2.06 2.06-.94-2.06-.94-.94-2.06-.94 2.06-2.06.94zm-11 1L8.5 8.5l.94-2.06 2.06-.94-2.06-.94L8.5 2.5l-.94 2.06-2.06.94zm10 10l.94 2.06.94-2.06 2.06-.94-2.06-.94-.94-2.06-.94 2.06-2.06.94z\"/><path d=\"M17.41 7.96l-1.37-1.37c-.4-.4-.92-.59-1.43-.59-.52 0-1.04.2-1.43.59L10.3 9.45l-7.72 7.72c-.78.78-.78 2.05 0 2.83L4 21.41c.39.39.9.59 1.41.59.51 0 1.02-.2 1.41-.59l7.78-7.78 2.81-2.81c.8-.78.8-2.07 0-2.86zM5.41 20L4 18.59l7.72-7.72 1.47 1.35L5.41 20z\"/>\n",
              "  </svg>\n",
              "      </button>\n",
              "      \n",
              "  <style>\n",
              "    .colab-df-container {\n",
              "      display:flex;\n",
              "      flex-wrap:wrap;\n",
              "      gap: 12px;\n",
              "    }\n",
              "\n",
              "    .colab-df-convert {\n",
              "      background-color: #E8F0FE;\n",
              "      border: none;\n",
              "      border-radius: 50%;\n",
              "      cursor: pointer;\n",
              "      display: none;\n",
              "      fill: #1967D2;\n",
              "      height: 32px;\n",
              "      padding: 0 0 0 0;\n",
              "      width: 32px;\n",
              "    }\n",
              "\n",
              "    .colab-df-convert:hover {\n",
              "      background-color: #E2EBFA;\n",
              "      box-shadow: 0px 1px 2px rgba(60, 64, 67, 0.3), 0px 1px 3px 1px rgba(60, 64, 67, 0.15);\n",
              "      fill: #174EA6;\n",
              "    }\n",
              "\n",
              "    [theme=dark] .colab-df-convert {\n",
              "      background-color: #3B4455;\n",
              "      fill: #D2E3FC;\n",
              "    }\n",
              "\n",
              "    [theme=dark] .colab-df-convert:hover {\n",
              "      background-color: #434B5C;\n",
              "      box-shadow: 0px 1px 3px 1px rgba(0, 0, 0, 0.15);\n",
              "      filter: drop-shadow(0px 1px 2px rgba(0, 0, 0, 0.3));\n",
              "      fill: #FFFFFF;\n",
              "    }\n",
              "  </style>\n",
              "\n",
              "      <script>\n",
              "        const buttonEl =\n",
              "          document.querySelector('#df-19d3d876-0a65-404e-b4b1-7c35d9114d1a button.colab-df-convert');\n",
              "        buttonEl.style.display =\n",
              "          google.colab.kernel.accessAllowed ? 'block' : 'none';\n",
              "\n",
              "        async function convertToInteractive(key) {\n",
              "          const element = document.querySelector('#df-19d3d876-0a65-404e-b4b1-7c35d9114d1a');\n",
              "          const dataTable =\n",
              "            await google.colab.kernel.invokeFunction('convertToInteractive',\n",
              "                                                     [key], {});\n",
              "          if (!dataTable) return;\n",
              "\n",
              "          const docLinkHtml = 'Like what you see? Visit the ' +\n",
              "            '<a target=\"_blank\" href=https://colab.research.google.com/notebooks/data_table.ipynb>data table notebook</a>'\n",
              "            + ' to learn more about interactive tables.';\n",
              "          element.innerHTML = '';\n",
              "          dataTable['output_type'] = 'display_data';\n",
              "          await google.colab.output.renderOutput(dataTable, element);\n",
              "          const docLink = document.createElement('div');\n",
              "          docLink.innerHTML = docLinkHtml;\n",
              "          element.appendChild(docLink);\n",
              "        }\n",
              "      </script>\n",
              "    </div>\n",
              "  </div>\n",
              "  "
            ]
          },
          "metadata": {},
          "execution_count": 45
        }
      ]
    },
    {
      "cell_type": "code",
      "source": [
        "#importing basic libraries\n",
        "import numpy as np\n",
        "import pandas as pd\n",
        "import matplotlib.pyplot as plt\n",
        "from datetime import datetime, timedelta\n",
        "from matplotlib.dates import DateFormatter\n",
        "import matplotlib.dates as mdates\n",
        "\n",
        "dates = df1['Title']\n",
        "date_format = [pd.to_datetime(d) for d in dates]\n",
        "date_time = [date_format[d].strftime(\"%d-%m-%Y\") for d in range(719)]\n",
        "#str_date_time = date_format[0].strftime(\"%d-%m-%Y %H:%M:%S\")\n",
        "#df1.set_index('Title',inplace=True)"
      ],
      "metadata": {
        "id": "w63pYX9hXAfe"
      },
      "execution_count": null,
      "outputs": []
    },
    {
      "cell_type": "code",
      "source": [
        "#print(date_format)\n",
        "#df1.set_index(date_time,inplace=True)\n",
        "df1['Time'] = date_time\n",
        "print(df1)"
      ],
      "metadata": {
        "colab": {
          "base_uri": "https://localhost:8080/"
        },
        "id": "WHzjNoNWXLZR",
        "outputId": "2eb080ca-f7bf-483e-f11f-d5850f277038"
      },
      "execution_count": null,
      "outputs": [
        {
          "output_type": "stream",
          "name": "stdout",
          "text": [
            "       Title   Values        Time\n",
            "4    1/22/20       18  22-01-2020\n",
            "5    1/23/20       26  23-01-2020\n",
            "6    1/24/20       42  24-01-2020\n",
            "7    1/25/20       56  25-01-2020\n",
            "8    1/26/20       82  26-01-2020\n",
            "..       ...      ...         ...\n",
            "718   1/5/22  5473031  05-01-2022\n",
            "719   1/6/22  5480300  06-01-2022\n",
            "720   1/7/22  5485330  07-01-2022\n",
            "721   1/8/22  5489287  08-01-2022\n",
            "722   1/9/22  5495713  09-01-2022\n",
            "\n",
            "[719 rows x 3 columns]\n"
          ]
        }
      ]
    },
    {
      "cell_type": "code",
      "source": [
        "df1.set_index('Time',inplace=True)"
      ],
      "metadata": {
        "id": "EJEeimSZXN4Q"
      },
      "execution_count": null,
      "outputs": []
    },
    {
      "cell_type": "code",
      "source": [
        "df1"
      ],
      "metadata": {
        "colab": {
          "base_uri": "https://localhost:8080/",
          "height": 455
        },
        "id": "MyeMtkI4XXpR",
        "outputId": "30f8c33b-9873-4b7f-8d2b-d16a17afada5"
      },
      "execution_count": null,
      "outputs": [
        {
          "output_type": "execute_result",
          "data": {
            "text/plain": [
              "              Title   Values\n",
              "Time                        \n",
              "22-01-2020  1/22/20       18\n",
              "23-01-2020  1/23/20       26\n",
              "24-01-2020  1/24/20       42\n",
              "25-01-2020  1/25/20       56\n",
              "26-01-2020  1/26/20       82\n",
              "...             ...      ...\n",
              "05-01-2022   1/5/22  5473031\n",
              "06-01-2022   1/6/22  5480300\n",
              "07-01-2022   1/7/22  5485330\n",
              "08-01-2022   1/8/22  5489287\n",
              "09-01-2022   1/9/22  5495713\n",
              "\n",
              "[719 rows x 2 columns]"
            ],
            "text/html": [
              "\n",
              "  <div id=\"df-b9fc363e-6b6b-41fe-b6ad-2e9fd93d2595\">\n",
              "    <div class=\"colab-df-container\">\n",
              "      <div>\n",
              "<style scoped>\n",
              "    .dataframe tbody tr th:only-of-type {\n",
              "        vertical-align: middle;\n",
              "    }\n",
              "\n",
              "    .dataframe tbody tr th {\n",
              "        vertical-align: top;\n",
              "    }\n",
              "\n",
              "    .dataframe thead th {\n",
              "        text-align: right;\n",
              "    }\n",
              "</style>\n",
              "<table border=\"1\" class=\"dataframe\">\n",
              "  <thead>\n",
              "    <tr style=\"text-align: right;\">\n",
              "      <th></th>\n",
              "      <th>Title</th>\n",
              "      <th>Values</th>\n",
              "    </tr>\n",
              "    <tr>\n",
              "      <th>Time</th>\n",
              "      <th></th>\n",
              "      <th></th>\n",
              "    </tr>\n",
              "  </thead>\n",
              "  <tbody>\n",
              "    <tr>\n",
              "      <th>22-01-2020</th>\n",
              "      <td>1/22/20</td>\n",
              "      <td>18</td>\n",
              "    </tr>\n",
              "    <tr>\n",
              "      <th>23-01-2020</th>\n",
              "      <td>1/23/20</td>\n",
              "      <td>26</td>\n",
              "    </tr>\n",
              "    <tr>\n",
              "      <th>24-01-2020</th>\n",
              "      <td>1/24/20</td>\n",
              "      <td>42</td>\n",
              "    </tr>\n",
              "    <tr>\n",
              "      <th>25-01-2020</th>\n",
              "      <td>1/25/20</td>\n",
              "      <td>56</td>\n",
              "    </tr>\n",
              "    <tr>\n",
              "      <th>26-01-2020</th>\n",
              "      <td>1/26/20</td>\n",
              "      <td>82</td>\n",
              "    </tr>\n",
              "    <tr>\n",
              "      <th>...</th>\n",
              "      <td>...</td>\n",
              "      <td>...</td>\n",
              "    </tr>\n",
              "    <tr>\n",
              "      <th>05-01-2022</th>\n",
              "      <td>1/5/22</td>\n",
              "      <td>5473031</td>\n",
              "    </tr>\n",
              "    <tr>\n",
              "      <th>06-01-2022</th>\n",
              "      <td>1/6/22</td>\n",
              "      <td>5480300</td>\n",
              "    </tr>\n",
              "    <tr>\n",
              "      <th>07-01-2022</th>\n",
              "      <td>1/7/22</td>\n",
              "      <td>5485330</td>\n",
              "    </tr>\n",
              "    <tr>\n",
              "      <th>08-01-2022</th>\n",
              "      <td>1/8/22</td>\n",
              "      <td>5489287</td>\n",
              "    </tr>\n",
              "    <tr>\n",
              "      <th>09-01-2022</th>\n",
              "      <td>1/9/22</td>\n",
              "      <td>5495713</td>\n",
              "    </tr>\n",
              "  </tbody>\n",
              "</table>\n",
              "<p>719 rows × 2 columns</p>\n",
              "</div>\n",
              "      <button class=\"colab-df-convert\" onclick=\"convertToInteractive('df-b9fc363e-6b6b-41fe-b6ad-2e9fd93d2595')\"\n",
              "              title=\"Convert this dataframe to an interactive table.\"\n",
              "              style=\"display:none;\">\n",
              "        \n",
              "  <svg xmlns=\"http://www.w3.org/2000/svg\" height=\"24px\"viewBox=\"0 0 24 24\"\n",
              "       width=\"24px\">\n",
              "    <path d=\"M0 0h24v24H0V0z\" fill=\"none\"/>\n",
              "    <path d=\"M18.56 5.44l.94 2.06.94-2.06 2.06-.94-2.06-.94-.94-2.06-.94 2.06-2.06.94zm-11 1L8.5 8.5l.94-2.06 2.06-.94-2.06-.94L8.5 2.5l-.94 2.06-2.06.94zm10 10l.94 2.06.94-2.06 2.06-.94-2.06-.94-.94-2.06-.94 2.06-2.06.94z\"/><path d=\"M17.41 7.96l-1.37-1.37c-.4-.4-.92-.59-1.43-.59-.52 0-1.04.2-1.43.59L10.3 9.45l-7.72 7.72c-.78.78-.78 2.05 0 2.83L4 21.41c.39.39.9.59 1.41.59.51 0 1.02-.2 1.41-.59l7.78-7.78 2.81-2.81c.8-.78.8-2.07 0-2.86zM5.41 20L4 18.59l7.72-7.72 1.47 1.35L5.41 20z\"/>\n",
              "  </svg>\n",
              "      </button>\n",
              "      \n",
              "  <style>\n",
              "    .colab-df-container {\n",
              "      display:flex;\n",
              "      flex-wrap:wrap;\n",
              "      gap: 12px;\n",
              "    }\n",
              "\n",
              "    .colab-df-convert {\n",
              "      background-color: #E8F0FE;\n",
              "      border: none;\n",
              "      border-radius: 50%;\n",
              "      cursor: pointer;\n",
              "      display: none;\n",
              "      fill: #1967D2;\n",
              "      height: 32px;\n",
              "      padding: 0 0 0 0;\n",
              "      width: 32px;\n",
              "    }\n",
              "\n",
              "    .colab-df-convert:hover {\n",
              "      background-color: #E2EBFA;\n",
              "      box-shadow: 0px 1px 2px rgba(60, 64, 67, 0.3), 0px 1px 3px 1px rgba(60, 64, 67, 0.15);\n",
              "      fill: #174EA6;\n",
              "    }\n",
              "\n",
              "    [theme=dark] .colab-df-convert {\n",
              "      background-color: #3B4455;\n",
              "      fill: #D2E3FC;\n",
              "    }\n",
              "\n",
              "    [theme=dark] .colab-df-convert:hover {\n",
              "      background-color: #434B5C;\n",
              "      box-shadow: 0px 1px 3px 1px rgba(0, 0, 0, 0.15);\n",
              "      filter: drop-shadow(0px 1px 2px rgba(0, 0, 0, 0.3));\n",
              "      fill: #FFFFFF;\n",
              "    }\n",
              "  </style>\n",
              "\n",
              "      <script>\n",
              "        const buttonEl =\n",
              "          document.querySelector('#df-b9fc363e-6b6b-41fe-b6ad-2e9fd93d2595 button.colab-df-convert');\n",
              "        buttonEl.style.display =\n",
              "          google.colab.kernel.accessAllowed ? 'block' : 'none';\n",
              "\n",
              "        async function convertToInteractive(key) {\n",
              "          const element = document.querySelector('#df-b9fc363e-6b6b-41fe-b6ad-2e9fd93d2595');\n",
              "          const dataTable =\n",
              "            await google.colab.kernel.invokeFunction('convertToInteractive',\n",
              "                                                     [key], {});\n",
              "          if (!dataTable) return;\n",
              "\n",
              "          const docLinkHtml = 'Like what you see? Visit the ' +\n",
              "            '<a target=\"_blank\" href=https://colab.research.google.com/notebooks/data_table.ipynb>data table notebook</a>'\n",
              "            + ' to learn more about interactive tables.';\n",
              "          element.innerHTML = '';\n",
              "          dataTable['output_type'] = 'display_data';\n",
              "          await google.colab.output.renderOutput(dataTable, element);\n",
              "          const docLink = document.createElement('div');\n",
              "          docLink.innerHTML = docLinkHtml;\n",
              "          element.appendChild(docLink);\n",
              "        }\n",
              "      </script>\n",
              "    </div>\n",
              "  </div>\n",
              "  "
            ]
          },
          "metadata": {},
          "execution_count": 50
        }
      ]
    },
    {
      "cell_type": "code",
      "source": [
        "df1.info()"
      ],
      "metadata": {
        "colab": {
          "base_uri": "https://localhost:8080/"
        },
        "id": "w9cKaa4Bd0XP",
        "outputId": "9d49c26d-d21e-4777-aab7-465f4cb10b86"
      },
      "execution_count": null,
      "outputs": [
        {
          "output_type": "stream",
          "name": "stdout",
          "text": [
            "<class 'pandas.core.frame.DataFrame'>\n",
            "Index: 719 entries, 22-01-2020 to 09-01-2022\n",
            "Data columns (total 2 columns):\n",
            " #   Column  Non-Null Count  Dtype \n",
            "---  ------  --------------  ----- \n",
            " 0   Title   719 non-null    object\n",
            " 1   Values  719 non-null    object\n",
            "dtypes: object(2)\n",
            "memory usage: 16.9+ KB\n"
          ]
        }
      ]
    },
    {
      "cell_type": "code",
      "source": [
        "df1.index.freq='B'"
      ],
      "metadata": {
        "id": "eGOl_zlLd0Um"
      },
      "execution_count": null,
      "outputs": []
    },
    {
      "cell_type": "code",
      "source": [
        "df1.info()"
      ],
      "metadata": {
        "colab": {
          "base_uri": "https://localhost:8080/"
        },
        "id": "Df-fmYjrd0Sw",
        "outputId": "0e418d09-11ce-4a17-fa6b-0169a6ba7bad"
      },
      "execution_count": null,
      "outputs": [
        {
          "output_type": "stream",
          "name": "stdout",
          "text": [
            "<class 'pandas.core.frame.DataFrame'>\n",
            "Index: 719 entries, 22-01-2020 to 09-01-2022\n",
            "Data columns (total 2 columns):\n",
            " #   Column  Non-Null Count  Dtype \n",
            "---  ------  --------------  ----- \n",
            " 0   Title   719 non-null    object\n",
            " 1   Values  719 non-null    object\n",
            "dtypes: object(2)\n",
            "memory usage: 16.9+ KB\n"
          ]
        }
      ]
    },
    {
      "cell_type": "code",
      "source": [
        "df1[\"Values\"] = df1[\"Values\"].astype('int')"
      ],
      "metadata": {
        "id": "kAdTsnANi_Ce"
      },
      "execution_count": null,
      "outputs": []
    },
    {
      "cell_type": "code",
      "source": [
        "del df1['Title']"
      ],
      "metadata": {
        "id": "sebeRde0lUjX"
      },
      "execution_count": null,
      "outputs": []
    },
    {
      "cell_type": "code",
      "source": [
        "  df1.info()"
      ],
      "metadata": {
        "colab": {
          "base_uri": "https://localhost:8080/"
        },
        "id": "YpgusezDlKG5",
        "outputId": "26fc0e86-c149-403e-ca86-178653a72665"
      },
      "execution_count": null,
      "outputs": [
        {
          "output_type": "stream",
          "name": "stdout",
          "text": [
            "<class 'pandas.core.frame.DataFrame'>\n",
            "Index: 719 entries, 22-01-2020 to 09-01-2022\n",
            "Data columns (total 1 columns):\n",
            " #   Column  Non-Null Count  Dtype\n",
            "---  ------  --------------  -----\n",
            " 0   Values  719 non-null    int64\n",
            "dtypes: int64(1)\n",
            "memory usage: 11.2+ KB\n"
          ]
        }
      ]
    },
    {
      "cell_type": "code",
      "source": [
        "df1.index.freq='B'"
      ],
      "metadata": {
        "id": "XPfF5eqwll45"
      },
      "execution_count": null,
      "outputs": []
    },
    {
      "cell_type": "code",
      "source": [
        "df1.info()"
      ],
      "metadata": {
        "colab": {
          "base_uri": "https://localhost:8080/"
        },
        "id": "6THtyGqaloHL",
        "outputId": "bb8ceea2-f8f3-4fc1-fc0f-c35eeb21b871"
      },
      "execution_count": null,
      "outputs": [
        {
          "output_type": "stream",
          "name": "stdout",
          "text": [
            "<class 'pandas.core.frame.DataFrame'>\n",
            "Index: 719 entries, 22-01-2020 to 09-01-2022\n",
            "Data columns (total 1 columns):\n",
            " #   Column  Non-Null Count  Dtype\n",
            "---  ------  --------------  -----\n",
            " 0   Values  719 non-null    int64\n",
            "dtypes: int64(1)\n",
            "memory usage: 11.2+ KB\n"
          ]
        }
      ]
    },
    {
      "cell_type": "code",
      "source": [
        "df1.plot(figsize=(12,8))"
      ],
      "metadata": {
        "colab": {
          "base_uri": "https://localhost:8080/",
          "height": 526
        },
        "id": "mier5ao2d0Qm",
        "outputId": "9dde7a26-46e1-4d76-f65c-2a15b67ee3ca"
      },
      "execution_count": null,
      "outputs": [
        {
          "output_type": "execute_result",
          "data": {
            "text/plain": [
              "<matplotlib.axes._subplots.AxesSubplot at 0x7f50f3bd9f50>"
            ]
          },
          "metadata": {},
          "execution_count": 59
        },
        {
          "output_type": "display_data",
          "data": {
            "text/plain": [
              "<Figure size 864x576 with 1 Axes>"
            ],
            "image/png": "[encoded data removed]"
          },
          "metadata": {
            "needs_background": "light"
          }
        }
      ]
    },
    {
      "cell_type": "code",
      "source": [
        "train = df1.iloc[:600]"
      ],
      "metadata": {
        "id": "e2pg8KAad0OI"
      },
      "execution_count": null,
      "outputs": []
    },
    {
      "cell_type": "code",
      "source": [
        "test = df1.iloc[601:]"
      ],
      "metadata": {
        "id": "_dZyFVLCd0MH"
      },
      "execution_count": null,
      "outputs": []
    },
    {
      "cell_type": "code",
      "source": [
        "len(test)"
      ],
      "metadata": {
        "colab": {
          "base_uri": "https://localhost:8080/"
        },
        "id": "Z9cFOCvOjXiF",
        "outputId": "1bad1f8e-3c81-4293-91f3-573179a2e420"
      },
      "execution_count": null,
      "outputs": [
        {
          "output_type": "execute_result",
          "data": {
            "text/plain": [
              "118"
            ]
          },
          "metadata": {},
          "execution_count": 62
        }
      ]
    },
    {
      "cell_type": "code",
      "source": [
        "test.plot()"
      ],
      "metadata": {
        "colab": {
          "base_uri": "https://localhost:8080/",
          "height": 307
        },
        "id": "N7EG5iV3d0J1",
        "outputId": "42e5ade4-af67-4d46-c16a-d549aa04d505"
      },
      "execution_count": null,
      "outputs": [
        {
          "output_type": "execute_result",
          "data": {
            "text/plain": [
              "<matplotlib.axes._subplots.AxesSubplot at 0x7f50f348ea50>"
            ]
          },
          "metadata": {},
          "execution_count": 63
        },
        {
          "output_type": "display_data",
          "data": {
            "text/plain": [
              "<Figure size 432x288 with 1 Axes>"
            ],
            "image/png": "[encoded data removed]"
          },
          "metadata": {
            "needs_background": "light"
          }
        }
      ]
    },
    {
      "cell_type": "code",
      "source": [
        "train.plot()\n",
        "test.plot()"
      ],
      "metadata": {
        "colab": {
          "base_uri": "https://localhost:8080/",
          "height": 580
        },
        "id": "gQh7507kd0Hp",
        "outputId": "bd8d70ca-1b62-4c8c-9988-f1203e1dc057"
      },
      "execution_count": null,
      "outputs": [
        {
          "output_type": "execute_result",
          "data": {
            "text/plain": [
              "<matplotlib.axes._subplots.AxesSubplot at 0x7f50f33ca810>"
            ]
          },
          "metadata": {},
          "execution_count": 64
        },
        {
          "output_type": "display_data",
          "data": {
            "text/plain": [
              "<Figure size 432x288 with 1 Axes>"
            ],
            "image/png": "[encoded data removed]"
          },
          "metadata": {
            "needs_background": "light"
          }
        },
        {
          "output_type": "display_data",
          "data": {
            "text/plain": [
              "<Figure size 432x288 with 1 Axes>"
            ],
            "image/png": "[encoded data removed]"
          },
          "metadata": {
            "needs_background": "light"
          }
        }
      ]
    },
    {
      "cell_type": "code",
      "source": [
        "from statsmodels.tsa.holtwinters import ExponentialSmoothing"
      ],
      "metadata": {
        "id": "aF8ScgN0efgO"
      },
      "execution_count": null,
      "outputs": []
    },
    {
      "cell_type": "code",
      "source": [
        "data = np.array(df1[\"Values\"])"
      ],
      "metadata": {
        "id": "GfZ46JGtgH1I"
      },
      "execution_count": null,
      "outputs": []
    },
    {
      "cell_type": "code",
      "source": [
        "#np.asarray(data)"
      ],
      "metadata": {
        "id": "MwDGfIEwgUf5"
      },
      "execution_count": null,
      "outputs": []
    },
    {
      "cell_type": "code",
      "source": [
        "#data = train[\"Values\"].astype('int')"
      ],
      "metadata": {
        "id": "RKAg5A6nhG70"
      },
      "execution_count": null,
      "outputs": []
    },
    {
      "cell_type": "code",
      "source": [
        "#df1.index = pd.DatetimeIndex(df1.index).to_period('M')"
      ],
      "metadata": {
        "id": "oYQiBKXTmkoL"
      },
      "execution_count": null,
      "outputs": []
    },
    {
      "cell_type": "code",
      "source": [
        "#test.index = pd.DatetimeIndex(test.index).to_period('M')"
      ],
      "metadata": {
        "id": "TTOpkWawm7a5"
      },
      "execution_count": null,
      "outputs": []
    },
    {
      "cell_type": "code",
      "source": [
        "#train.index = pd.DatetimeIndex(train.index).to_period('M')"
      ],
      "metadata": {
        "id": "KaSvJbYrmg4L"
      },
      "execution_count": null,
      "outputs": []
    },
    {
      "cell_type": "code",
      "source": [
        "model = ExponentialSmoothing(train['Values'],trend='mul',seasonal='mul',seasonal_periods=12).fit()"
      ],
      "metadata": {
        "colab": {
          "base_uri": "https://localhost:8080/"
        },
        "id": "xzxIiCq3efd6",
        "outputId": "434af084-e3b5-48ba-c0b7-c0375182ac89"
      },
      "execution_count": null,
      "outputs": [
        {
          "output_type": "stream",
          "name": "stderr",
          "text": [
            "/usr/local/lib/python3.7/dist-packages/statsmodels/tsa/base/tsa_model.py:219: ValueWarning: A date index has been provided, but it has no associated frequency information and so will be ignored when e.g. forecasting.\n",
            "  ' ignored when e.g. forecasting.', ValueWarning)\n"
          ]
        }
      ]
    },
    {
      "cell_type": "code",
      "source": [
        "test.plot()\n",
        "plt.show()\n",
        "model.forecast(10).plot()\n",
        "plt.show()"
      ],
      "metadata": {
        "colab": {
          "base_uri": "https://localhost:8080/",
          "height": 604
        },
        "id": "6MG8H6Zzefbv",
        "outputId": "02001ea0-86ba-4ff0-d02a-a63228ba9dc7"
      },
      "execution_count": null,
      "outputs": [
        {
          "output_type": "display_data",
          "data": {
            "text/plain": [
              "<Figure size 432x288 with 1 Axes>"
            ],
            "image/png": "[encoded data removed]"
          },
          "metadata": {
            "needs_background": "light"
          }
        },
        {
          "output_type": "stream",
          "name": "stderr",
          "text": [
            "/usr/local/lib/python3.7/dist-packages/statsmodels/tsa/base/tsa_model.py:576: ValueWarning: No supported index is available. Prediction results will be given with an integer index beginning at `start`.\n",
            "  ValueWarning)\n"
          ]
        },
        {
          "output_type": "display_data",
          "data": {
            "text/plain": [
              "<Figure size 432x288 with 1 Axes>"
            ],
            "image/png": "[encoded data removed]"
          },
          "metadata": {
            "needs_background": "light"
          }
        }
      ]
    },
    {
      "cell_type": "code",
      "source": [
        "df1.plot(figsize=(12,8))\n",
        "test_data = model.forecast(100).plot()\n",
        "plt.legend()"
      ],
      "metadata": {
        "colab": {
          "base_uri": "https://localhost:8080/",
          "height": 580
        },
        "id": "Dw5PKre8efZX",
        "outputId": "7b935e7c-69fe-4a19-df95-b42cc494f41f"
      },
      "execution_count": null,
      "outputs": [
        {
          "output_type": "stream",
          "name": "stderr",
          "text": [
            "/usr/local/lib/python3.7/dist-packages/statsmodels/tsa/base/tsa_model.py:576: ValueWarning: No supported index is available. Prediction results will be given with an integer index beginning at `start`.\n",
            "  ValueWarning)\n"
          ]
        },
        {
          "output_type": "execute_result",
          "data": {
            "text/plain": [
              "<matplotlib.legend.Legend at 0x7f50f329c390>"
            ]
          },
          "metadata": {},
          "execution_count": 82
        },
        {
          "output_type": "display_data",
          "data": {
            "text/plain": [
              "<Figure size 864x576 with 1 Axes>"
            ],
            "image/png": "[encoded data removed]"
          },
          "metadata": {
            "needs_background": "light"
          }
        }
      ]
    },
    {
      "cell_type": "code",
      "source": [
        "#today = datetime.date.today()\n",
        "plt.figure()\n",
        "plt.plot(df1.index,df1['Values'])"
      ],
      "metadata": {
        "colab": {
          "base_uri": "https://localhost:8080/",
          "height": 294
        },
        "id": "xdyS_prtXYqN",
        "outputId": "c8c1eeed-32e0-4781-8e61-88b02f1cfa77"
      },
      "execution_count": null,
      "outputs": [
        {
          "output_type": "execute_result",
          "data": {
            "text/plain": [
              "[<matplotlib.lines.Line2D at 0x7f50f29e3450>]"
            ]
          },
          "metadata": {},
          "execution_count": 86
        },
        {
          "output_type": "display_data",
          "data": {
            "text/plain": [
              "<Figure size 432x288 with 1 Axes>"
            ],
            "image/png": "[encoded data removed]"
          },
          "metadata": {
            "needs_background": "light"
          }
        }
      ]
    },
    {
      "cell_type": "code",
      "source": [
        "SimpleExpSmoothing(df1).fit(smoothing_level=0.1)"
      ],
      "metadata": {
        "colab": {
          "base_uri": "https://localhost:8080/"
        },
        "id": "StjuDhQwXhWd",
        "outputId": "fee620d1-dbf9-43ac-c7e0-78d2be9e55e8"
      },
      "execution_count": null,
      "outputs": [
        {
          "output_type": "stream",
          "name": "stderr",
          "text": [
            "/usr/local/lib/python3.7/dist-packages/statsmodels/tsa/base/tsa_model.py:219: ValueWarning: A date index has been provided, but it has no associated frequency information and so will be ignored when e.g. forecasting.\n",
            "  ' ignored when e.g. forecasting.', ValueWarning)\n"
          ]
        },
        {
          "output_type": "execute_result",
          "data": {
            "text/plain": [
              "<statsmodels.tsa.holtwinters.HoltWintersResultsWrapper at 0x7f50f22d7310>"
            ]
          },
          "metadata": {},
          "execution_count": 88
        }
      ]
    },
    {
      "cell_type": "code",
      "source": [
        "import plotly.express as px\n",
        "fig = px.line(df1)\n",
        "fig.show()"
      ],
      "metadata": {
        "colab": {
          "base_uri": "https://localhost:8080/",
          "height": 542
        },
        "id": "6i5oxNUC11vo",
        "outputId": "971dafa8-f34f-4e15-a702-87f3de788235"
      },
      "execution_count": null,
      "outputs": [
        {
          "output_type": "display_data",
          "data": {
            "text/html": [
              "<html>\n",
              "<head><meta charset=\"utf-8\" /></head>\n",
              "<body>\n",
              "    <div>            <script src=\"https://cdnjs.cloudflare.com/ajax/libs/mathjax/2.7.5/MathJax.js?config=TeX-AMS-MML_SVG\"></script><script type=\"text/javascript\">if (window.MathJax) {MathJax.Hub.Config({SVG: {font: \"STIX-Web\"}});}</script>                <script type=\"text/javascript\">window.PlotlyConfig = {MathJaxConfig: 'local'};</script>\n",
              "        <script src=\"https://cdn.plot.ly/plotly-2.8.3.min.js\"></script>                <div id=\"3937ec44-1c03-47b5-8f13-32b1f2b1b317\" class=\"plotly-graph-div\" style=\"height:525px; width:100%;\"></div>            <script type=\"text/javascript\">                                    window.PLOTLYENV=window.PLOTLYENV || {};                                    if (document.getElementById(\"3937ec44-1c03-47b5-8f13-32b1f2b1b317\")) {                    Plotly.newPlot(                        \"3937ec44-1c03-47b5-8f13-32b1f2b1b317\",                        [{\"hovertemplate\":\"variable=Values<br>Time=%{x}<br>value=%{y}<extra></extra>\",\"legendgroup\":\"Values\",\"line\":{\"color\":\"#636efa\",\"dash\":\"solid\"},\"marker\":{\"symbol\":\"circle\"},\"mode\":\"lines\",\"name\":\"Values\",\"orientation\":\"v\",\"showlegend\":true,\"x\":[\"22-01-2020\",\"23-01-2020\",\"24-01-2020\",\"25-01-2020\",\"26-01-2020\",\"27-01-2020\",\"28-01-2020\",\"29-01-2020\",\"30-01-2020\",\"31-01-2020\",\"01-02-2020\",\"02-02-2020\",\"03-02-2020\",\"04-02-2020\",\"05-02-2020\",\"06-02-2020\",\"07-02-2020\",\"08-02-2020\",\"09-02-2020\",\"10-02-2020\",\"11-02-2020\",\"12-02-2020\",\"13-02-2020\",\"14-02-2020\",\"15-02-2020\",\"16-02-2020\",\"17-02-2020\",\"18-02-2020\",\"19-02-2020\",\"20-02-2020\",\"21-02-2020\",\"22-02-2020\",\"23-02-2020\",\"24-02-2020\",\"25-02-2020\",\"26-02-2020\",\"27-02-2020\",\"28-02-2020\",\"29-02-2020\",\"01-03-2020\",\"02-03-2020\",\"03-03-2020\",\"04-03-2020\",\"05-03-2020\",\"06-03-2020\",\"07-03-2020\",\"08-03-2020\",\"09-03-2020\",\"10-03-2020\",\"11-03-2020\",\"12-03-2020\",\"13-03-2020\",\"14-03-2020\",\"15-03-2020\",\"16-03-2020\",\"17-03-2020\",\"18-03-2020\",\"19-03-2020\",\"20-03-2020\",\"21-03-2020\",\"22-03-2020\",\"23-03-2020\",\"24-03-2020\",\"25-03-2020\",\"26-03-2020\",\"27-03-2020\",\"28-03-2020\",\"29-03-2020\",\"30-03-2020\",\"31-03-2020\",\"01-04-2020\",\"02-04-2020\",\"03-04-2020\",\"04-04-2020\",\"05-04-2020\",\"06-04-2020\",\"07-04-2020\",\"08-04-2020\",\"09-04-2020\",\"10-04-2020\",\"11-04-2020\",\"12-04-2020\",\"13-04-2020\",\"14-04-2020\",\"15-04-2020\",\"16-04-2020\",\"17-04-2020\",\"18-04-2020\",\"19-04-2020\",\"20-04-2020\",\"21-04-2020\",\"22-04-2020\",\"23-04-2020\",\"24-04-2020\",\"25-04-2020\",\"26-04-2020\",\"27-04-2020\",\"28-04-2020\",\"29-04-2020\",\"30-04-2020\",\"01-05-2020\",\"02-05-2020\",\"03-05-2020\",\"04-05-2020\",\"05-05-2020\",\"06-05-2020\",\"07-05-2020\",\"08-05-2020\",\"09-05-2020\",\"10-05-2020\",\"11-05-2020\",\"12-05-2020\",\"13-05-2020\",\"14-05-2020\",\"15-05-2020\",\"16-05-2020\",\"17-05-2020\",\"18-05-2020\",\"19-05-2020\",\"20-05-2020\",\"21-05-2020\",\"22-05-2020\",\"23-05-2020\",\"24-05-2020\",\"25-05-2020\",\"26-05-2020\",\"27-05-2020\",\"28-05-2020\",\"29-05-2020\",\"30-05-2020\",\"31-05-2020\",\"01-06-2020\",\"02-06-2020\",\"03-06-2020\",\"04-06-2020\",\"05-06-2020\",\"06-06-2020\",\"07-06-2020\",\"08-06-2020\",\"09-06-2020\",\"10-06-2020\",\"11-06-2020\",\"12-06-2020\",\"13-06-2020\",\"14-06-2020\",\"15-06-2020\",\"16-06-2020\",\"17-06-2020\",\"18-06-2020\",\"19-06-2020\",\"20-06-2020\",\"21-06-2020\",\"22-06-2020\",\"23-06-2020\",\"24-06-2020\",\"25-06-2020\",\"26-06-2020\",\"27-06-2020\",\"28-06-2020\",\"29-06-2020\",\"30-06-2020\",\"01-07-2020\",\"02-07-2020\",\"03-07-2020\",\"04-07-2020\",\"05-07-2020\",\"06-07-2020\",\"07-07-2020\",\"08-07-2020\",\"09-07-2020\",\"10-07-2020\",\"11-07-2020\",\"12-07-2020\",\"13-07-2020\",\"14-07-2020\",\"15-07-2020\",\"16-07-2020\",\"17-07-2020\",\"18-07-2020\",\"19-07-2020\",\"20-07-2020\",\"21-07-2020\",\"22-07-2020\",\"23-07-2020\",\"24-07-2020\",\"25-07-2020\",\"26-07-2020\",\"27-07-2020\",\"28-07-2020\",\"29-07-2020\",\"30-07-2020\",\"31-07-2020\",\"01-08-2020\",\"02-08-2020\",\"03-08-2020\",\"04-08-2020\",\"05-08-2020\",\"06-08-2020\",\"07-08-2020\",\"08-08-2020\",\"09-08-2020\",\"10-08-2020\",\"11-08-2020\",\"12-08-2020\",\"13-08-2020\",\"14-08-2020\",\"15-08-2020\",\"16-08-2020\",\"17-08-2020\",\"18-08-2020\",\"19-08-2020\",\"20-08-2020\",\"21-08-2020\",\"22-08-2020\",\"23-08-2020\",\"24-08-2020\",\"25-08-2020\",\"26-08-2020\",\"27-08-2020\",\"28-08-2020\",\"29-08-2020\",\"30-08-2020\",\"31-08-2020\",\"01-09-2020\",\"02-09-2020\",\"03-09-2020\",\"04-09-2020\",\"05-09-2020\",\"06-09-2020\",\"07-09-2020\",\"08-09-2020\",\"09-09-2020\",\"10-09-2020\",\"11-09-2020\",\"12-09-2020\",\"13-09-2020\",\"14-09-2020\",\"15-09-2020\",\"16-09-2020\",\"17-09-2020\",\"18-09-2020\",\"19-09-2020\",\"20-09-2020\",\"21-09-2020\",\"22-09-2020\",\"23-09-2020\",\"24-09-2020\",\"25-09-2020\",\"26-09-2020\",\"27-09-2020\",\"28-09-2020\",\"29-09-2020\",\"30-09-2020\",\"01-10-2020\",\"02-10-2020\",\"03-10-2020\",\"04-10-2020\",\"05-10-2020\",\"06-10-2020\",\"07-10-2020\",\"08-10-2020\",\"09-10-2020\",\"10-10-2020\",\"11-10-2020\",\"12-10-2020\",\"13-10-2020\",\"14-10-2020\",\"15-10-2020\",\"16-10-2020\",\"17-10-2020\",\"18-10-2020\",\"19-10-2020\",\"20-10-2020\",\"21-10-2020\",\"22-10-2020\",\"23-10-2020\",\"24-10-2020\",\"25-10-2020\",\"26-10-2020\",\"27-10-2020\",\"28-10-2020\",\"29-10-2020\",\"30-10-2020\",\"31-10-2020\",\"01-11-2020\",\"02-11-2020\",\"03-11-2020\",\"04-11-2020\",\"05-11-2020\",\"06-11-2020\",\"07-11-2020\",\"08-11-2020\",\"09-11-2020\",\"10-11-2020\",\"11-11-2020\",\"12-11-2020\",\"13-11-2020\",\"14-11-2020\",\"15-11-2020\",\"16-11-2020\",\"17-11-2020\",\"18-11-2020\",\"19-11-2020\",\"20-11-2020\",\"21-11-2020\",\"22-11-2020\",\"23-11-2020\",\"24-11-2020\",\"25-11-2020\",\"26-11-2020\",\"27-11-2020\",\"28-11-2020\",\"29-11-2020\",\"30-11-2020\",\"01-12-2020\",\"02-12-2020\",\"03-12-2020\",\"04-12-2020\",\"05-12-2020\",\"06-12-2020\",\"07-12-2020\",\"08-12-2020\",\"09-12-2020\",\"10-12-2020\",\"11-12-2020\",\"12-12-2020\",\"13-12-2020\",\"14-12-2020\",\"15-12-2020\",\"16-12-2020\",\"17-12-2020\",\"18-12-2020\",\"19-12-2020\",\"20-12-2020\",\"21-12-2020\",\"22-12-2020\",\"23-12-2020\",\"24-12-2020\",\"25-12-2020\",\"26-12-2020\",\"27-12-2020\",\"28-12-2020\",\"29-12-2020\",\"30-12-2020\",\"31-12-2020\",\"01-01-2021\",\"02-01-2021\",\"03-01-2021\",\"04-01-2021\",\"05-01-2021\",\"06-01-2021\",\"07-01-2021\",\"08-01-2021\",\"09-01-2021\",\"10-01-2021\",\"11-01-2021\",\"12-01-2021\",\"13-01-2021\",\"14-01-2021\",\"15-01-2021\",\"16-01-2021\",\"17-01-2021\",\"18-01-2021\",\"19-01-2021\",\"20-01-2021\",\"21-01-2021\",\"22-01-2021\",\"23-01-2021\",\"24-01-2021\",\"25-01-2021\",\"26-01-2021\",\"27-01-2021\",\"28-01-2021\",\"29-01-2021\",\"30-01-2021\",\"31-01-2021\",\"01-02-2021\",\"02-02-2021\",\"03-02-2021\",\"04-02-2021\",\"05-02-2021\",\"06-02-2021\",\"07-02-2021\",\"08-02-2021\",\"09-02-2021\",\"10-02-2021\",\"11-02-2021\",\"12-02-2021\",\"13-02-2021\",\"14-02-2021\",\"15-02-2021\",\"16-02-2021\",\"17-02-2021\",\"18-02-2021\",\"19-02-2021\",\"20-02-2021\",\"21-02-2021\",\"22-02-2021\",\"23-02-2021\",\"24-02-2021\",\"25-02-2021\",\"26-02-2021\",\"27-02-2021\",\"28-02-2021\",\"01-03-2021\",\"02-03-2021\",\"03-03-2021\",\"04-03-2021\",\"05-03-2021\",\"06-03-2021\",\"07-03-2021\",\"08-03-2021\",\"09-03-2021\",\"10-03-2021\",\"11-03-2021\",\"12-03-2021\",\"13-03-2021\",\"14-03-2021\",\"15-03-2021\",\"16-03-2021\",\"17-03-2021\",\"18-03-2021\",\"19-03-2021\",\"20-03-2021\",\"21-03-2021\",\"22-03-2021\",\"23-03-2021\",\"24-03-2021\",\"25-03-2021\",\"26-03-2021\",\"27-03-2021\",\"28-03-2021\",\"29-03-2021\",\"30-03-2021\",\"31-03-2021\",\"01-04-2021\",\"02-04-2021\",\"03-04-2021\",\"04-04-2021\",\"05-04-2021\",\"06-04-2021\",\"07-04-2021\",\"08-04-2021\",\"09-04-2021\",\"10-04-2021\",\"11-04-2021\",\"12-04-2021\",\"13-04-2021\",\"14-04-2021\",\"15-04-2021\",\"16-04-2021\",\"17-04-2021\",\"18-04-2021\",\"19-04-2021\",\"20-04-2021\",\"21-04-2021\",\"22-04-2021\",\"23-04-2021\",\"24-04-2021\",\"25-04-2021\",\"26-04-2021\",\"27-04-2021\",\"28-04-2021\",\"29-04-2021\",\"30-04-2021\",\"01-05-2021\",\"02-05-2021\",\"03-05-2021\",\"04-05-2021\",\"05-05-2021\",\"06-05-2021\",\"07-05-2021\",\"08-05-2021\",\"09-05-2021\",\"10-05-2021\",\"11-05-2021\",\"12-05-2021\",\"13-05-2021\",\"14-05-2021\",\"15-05-2021\",\"16-05-2021\",\"17-05-2021\",\"18-05-2021\",\"19-05-2021\",\"20-05-2021\",\"21-05-2021\",\"22-05-2021\",\"23-05-2021\",\"24-05-2021\",\"25-05-2021\",\"26-05-2021\",\"27-05-2021\",\"28-05-2021\",\"29-05-2021\",\"30-05-2021\",\"31-05-2021\",\"01-06-2021\",\"02-06-2021\",\"03-06-2021\",\"04-06-2021\",\"05-06-2021\",\"06-06-2021\",\"07-06-2021\",\"08-06-2021\",\"09-06-2021\",\"10-06-2021\",\"11-06-2021\",\"12-06-2021\",\"13-06-2021\",\"14-06-2021\",\"15-06-2021\",\"16-06-2021\",\"17-06-2021\",\"18-06-2021\",\"19-06-2021\",\"20-06-2021\",\"21-06-2021\",\"22-06-2021\",\"23-06-2021\",\"24-06-2021\",\"25-06-2021\",\"26-06-2021\",\"27-06-2021\",\"28-06-2021\",\"29-06-2021\",\"30-06-2021\",\"01-07-2021\",\"02-07-2021\",\"03-07-2021\",\"04-07-2021\",\"05-07-2021\",\"06-07-2021\",\"07-07-2021\",\"08-07-2021\",\"09-07-2021\",\"10-07-2021\",\"11-07-2021\",\"12-07-2021\",\"13-07-2021\",\"14-07-2021\",\"15-07-2021\",\"16-07-2021\",\"17-07-2021\",\"18-07-2021\",\"19-07-2021\",\"20-07-2021\",\"21-07-2021\",\"22-07-2021\",\"23-07-2021\",\"24-07-2021\",\"25-07-2021\",\"26-07-2021\",\"27-07-2021\",\"28-07-2021\",\"29-07-2021\",\"30-07-2021\",\"31-07-2021\",\"01-08-2021\",\"02-08-2021\",\"03-08-2021\",\"04-08-2021\",\"05-08-2021\",\"06-08-2021\",\"07-08-2021\",\"08-08-2021\",\"09-08-2021\",\"10-08-2021\",\"11-08-2021\",\"12-08-2021\",\"13-08-2021\",\"14-08-2021\",\"15-08-2021\",\"16-08-2021\",\"17-08-2021\",\"18-08-2021\",\"19-08-2021\",\"20-08-2021\",\"21-08-2021\",\"22-08-2021\",\"23-08-2021\",\"24-08-2021\",\"25-08-2021\",\"26-08-2021\",\"27-08-2021\",\"28-08-2021\",\"29-08-2021\",\"30-08-2021\",\"31-08-2021\",\"01-09-2021\",\"02-09-2021\",\"03-09-2021\",\"04-09-2021\",\"05-09-2021\",\"06-09-2021\",\"07-09-2021\",\"08-09-2021\",\"09-09-2021\",\"10-09-2021\",\"11-09-2021\",\"12-09-2021\",\"13-09-2021\",\"14-09-2021\",\"15-09-2021\",\"16-09-2021\",\"17-09-2021\",\"18-09-2021\",\"19-09-2021\",\"20-09-2021\",\"21-09-2021\",\"22-09-2021\",\"23-09-2021\",\"24-09-2021\",\"25-09-2021\",\"26-09-2021\",\"27-09-2021\",\"28-09-2021\",\"29-09-2021\",\"30-09-2021\",\"01-10-2021\",\"02-10-2021\",\"03-10-2021\",\"04-10-2021\",\"05-10-2021\",\"06-10-2021\",\"07-10-2021\",\"08-10-2021\",\"09-10-2021\",\"10-10-2021\",\"11-10-2021\",\"12-10-2021\",\"13-10-2021\",\"14-10-2021\",\"15-10-2021\",\"16-10-2021\",\"17-10-2021\",\"18-10-2021\",\"19-10-2021\",\"20-10-2021\",\"21-10-2021\",\"22-10-2021\",\"23-10-2021\",\"24-10-2021\",\"25-10-2021\",\"26-10-2021\",\"27-10-2021\",\"28-10-2021\",\"29-10-2021\",\"30-10-2021\",\"31-10-2021\",\"01-11-2021\",\"02-11-2021\",\"03-11-2021\",\"04-11-2021\",\"05-11-2021\",\"06-11-2021\",\"07-11-2021\",\"08-11-2021\",\"09-11-2021\",\"10-11-2021\",\"11-11-2021\",\"12-11-2021\",\"13-11-2021\",\"14-11-2021\",\"15-11-2021\",\"16-11-2021\",\"17-11-2021\",\"18-11-2021\",\"19-11-2021\",\"20-11-2021\",\"21-11-2021\",\"22-11-2021\",\"23-11-2021\",\"24-11-2021\",\"25-11-2021\",\"26-11-2021\",\"27-11-2021\",\"28-11-2021\",\"29-11-2021\",\"30-11-2021\",\"01-12-2021\",\"02-12-2021\",\"03-12-2021\",\"04-12-2021\",\"05-12-2021\",\"06-12-2021\",\"07-12-2021\",\"08-12-2021\",\"09-12-2021\",\"10-12-2021\",\"11-12-2021\",\"12-12-2021\",\"13-12-2021\",\"14-12-2021\",\"15-12-2021\",\"16-12-2021\",\"17-12-2021\",\"18-12-2021\",\"19-12-2021\",\"20-12-2021\",\"21-12-2021\",\"22-12-2021\",\"23-12-2021\",\"24-12-2021\",\"25-12-2021\",\"26-12-2021\",\"27-12-2021\",\"28-12-2021\",\"29-12-2021\",\"30-12-2021\",\"31-12-2021\",\"01-01-2022\",\"02-01-2022\",\"03-01-2022\",\"04-01-2022\",\"05-01-2022\",\"06-01-2022\",\"07-01-2022\",\"08-01-2022\",\"09-01-2022\"],\"xaxis\":\"x\",\"y\":[18,26,42,56,82,131,133,171,213,259,362,426,492,564,634,719,806,906,1013,1113,1118,1371,1523,1666,1770,1868,2008,2123,2248,2252,2459,2470,2630,2710,2771,2814,2873,2943,2997,3086,3160,3255,3348,3461,3565,3805,3995,4271,4616,4925,5417,5838,6488,7175,7991,8909,10025,11520,13243,14927,16885,19195,22019,25059,28544,32380,35857,39938,44670,50684,56576,62754,68734,73977,79912,88222,95052,102921,110337,116623,122563,128582,135687,144231,151650,160151,166353,171704,177752,185154,192181,199179,206093,211977,216230,221160,227995,234942,240996,246467,252311,256158,260710,266837,273722,279419,285347,289933,293974,297890,303770,309256,314838,320474,325024,328598,332747,337874,343267,348233,353920,358297,361786,363320,367976,373369,378414,383574,387860,391006,394639,399944,405633,411104,416228,420339,423473,427824,432945,438390,443474,448215,452622,456290,460265,467411,472901,478223,484571,489039,493626,497426,503016,508494,513586,518665,523359,526932,530960,536199,541571,547047,552285,557052,560850,565064,571442,577075,582876,588626,593729,598017,602400,608387,614293,620457,627455,633955,638848,642770,649129,656498,663140,669597,675671,680027,685304,692256,698905,705657,712242,718248,722906,727701,734877,742263,749083,755825,761837,767008,772373,778988,785952,792745,799325,805343,810128,814743,821795,828802,835250,840993,846805,851114,855951,862526,869091,875314,881146,886968,891231,895658,902255,908543,914647,920516,925634,929759,939367,944504,950763,956777,962779,967830,971782,976375,982956,988832,994478,1000336,1005650,1009617,1014029,1020199,1026748,1032426,1038439,1043872,1047718,1051798,1057896,1064352,1073252,1078934,1083669,1087688,1094759,1100612,1106507,1112869,1119053,1123949,1128069,1132132,1137554,1143740,1149929,1156143,1161834,1165699,1170433,1177070,1183932,1189855,1196912,1202770,1207031,1212659,1220118,1227323,1234526,1242219,1248814,1253948,1260119,1269602,1279761,1288469,1297570,1305253,1311348,1318522,1328583,1339106,1348894,1358653,1367705,1374301,1382236,1393318,1404764,1415922,1427682,1436703,1444124,1452654,1465379,1477493,1488505,1499958,1509205,1516498,1525428,1538151,1550814,1563393,1575836,1586163,1593872,1602583,1614865,1627542,1640205,1653269,1663990,1671778,1680941,1694679,1708544,1721905,1734808,1745757,1753840,1763389,1777568,1791386,1803213,1811897,1819438,1827152,1836829,1851913,1867542,1880791,1890462,1898924,1906543,1916600,1932023,1947117,1962265,1977655,1990471,1999259,2009313,2026459,2043340,2058836,2073883,2087605,2096705,2106446,2123057,2141119,2158258,2174380,2188299,2197504,2208548,2225990,2243371,2260419,2275850,2289403,2298178,2308558,2323995,2340049,2353083,2370275,2381704,2389002,2398420,2413873,2427924,2441699,2454739,2465163,2471798,2479281,2490663,2502626,2514579,2526293,2535051,2541570,2548946,2560623,2573148,2583815,2594616,2603115,2609393,2617099,2627518,2639293,2649703,2660232,2668317,2674216,2681468,2692069,2702299,2712479,2722371,2730765,2736618,2744294,2754936,2765533,2776258,2787078,2795744,2804213,2812258,2823724,2834458,2845977,2858728,2868863,2876073,2884838,2896845,2909734,2922075,2932607,2941878,2949207,2957452,2969937,2985500,2999832,3014143,3026968,3036031,3046104,3059942,3073976,3087572,3100907,3113359,3122464,3133780,3148123,3162788,3176690,3191992,3204956,3215634,3227497,3242486,3258409,3274182,3288522,3301423,3311709,3323576,3337670,3352538,3367190,3381672,3394871,3405227,3416526,3430702,3444666,3458276,3471283,3483453,3493722,3505181,3519329,3532764,3545933,3558873,3570226,3580007,3589126,3602358,3615162,3628025,3640018,3650730,3659087,3667890,3683135,3695043,3705133,3715830,3725192,3732424,3740603,3751242,3761408,3777403,3789174,3798881,3808139,3816195,3827000,3837037,3846339,3855549,3863633,3870368,3877432,3886403,3895809,3904435,3913672,3921150,3927230,3933823,3941996,3951201,3959771,3968070,3974983,3981595,3988980,3997495,4006014,4014944,4023305,4029884,4037487,4045574,4053961,4062582,4071180,4079839,4087337,4093971,4101139,4121853,4130532,4139312,4147609,4156288,4163608,4171431,4181262,4191456,4202310,4211872,4220679,4228038,4236099,4246474,4256997,4267973,4278456,4287091,4294536,4303264,4314878,4325371,4335914,4346317,4354999,4362370,4372147,4382904,4393665,4405217,4415705,4424566,4432223,4442338,4453399,4464738,4476349,4486647,4495110,4501824,4511352,4520532,4533001,4544234,4554916,4562621,4569132,4577162,4587629,4597671,4608520,4617679,4626009,4631560,4640649,4650565,4661016,4671518,4680517,4686996,4693058,4701246,4710555,4720481,4730243,4739027,4744449,4749874,4757564,4766973,4776348,4785168,4793766,4799632,4803894,4811071,4818496,4827763,4836607,4844185,4849011,4853676,4859435,4867562,4876369,4884391,4891624,4896878,4901144,4907602,4915877,4924575,4932275,4940472,4946280,4950799,4957456,4965361,4974537,4983101,4991178,4997165,5001644,5007933,5015251,5023631,5031337,5039922,5046470,5050942,5057622,5065866,5074024,5081720,5090738,5096988,5101591,5108574,5116265,5125458,5133741,5141778,5147840,5152357,5159598,5167653,5176320,5184134,5190903,5196778,5201527,5209296,5217245,5226500,5236562,5245068,5250532,5257859,5264857,5273112,5281177,5289954,5298022,5303926,5308440,5314979,5322675,5331795,5339073,5345964,5351934,5356185,5363045,5370699,5378837,5388014,5393797,5397941,5401447,5408036,5415346,5423261,5430692,5437141,5441270,5444325,5450222,5457999,5465773,5473031,5480300,5485330,5489287,5495713],\"yaxis\":\"y\",\"type\":\"scatter\"}],                        {\"template\":{\"data\":{\"bar\":[{\"error_x\":{\"color\":\"#2a3f5f\"},\"error_y\":{\"color\":\"#2a3f5f\"},\"marker\":{\"line\":{\"color\":\"#E5ECF6\",\"width\":0.5},\"pattern\":{\"fillmode\":\"overlay\",\"size\":10,\"solidity\":0.2}},\"type\":\"bar\"}],\"barpolar\":[{\"marker\":{\"line\":{\"color\":\"#E5ECF6\",\"width\":0.5},\"pattern\":{\"fillmode\":\"overlay\",\"size\":10,\"solidity\":0.2}},\"type\":\"barpolar\"}],\"carpet\":[{\"aaxis\":{\"endlinecolor\":\"#2a3f5f\",\"gridcolor\":\"white\",\"linecolor\":\"white\",\"minorgridcolor\":\"white\",\"startlinecolor\":\"#2a3f5f\"},\"baxis\":{\"endlinecolor\":\"#2a3f5f\",\"gridcolor\":\"white\",\"linecolor\":\"white\",\"minorgridcolor\":\"white\",\"startlinecolor\":\"#2a3f5f\"},\"type\":\"carpet\"}],\"choropleth\":[{\"colorbar\":{\"outlinewidth\":0,\"ticks\":\"\"},\"type\":\"choropleth\"}],\"contour\":[{\"colorbar\":{\"outlinewidth\":0,\"ticks\":\"\"},\"colorscale\":[[0.0,\"#0d0887\"],[0.1111111111111111,\"#46039f\"],[0.2222222222222222,\"#7201a8\"],[0.3333333333333333,\"#9c179e\"],[0.4444444444444444,\"#bd3786\"],[0.5555555555555556,\"#d8576b\"],[0.6666666666666666,\"#ed7953\"],[0.7777777777777778,\"#fb9f3a\"],[0.8888888888888888,\"#fdca26\"],[1.0,\"#f0f921\"]],\"type\":\"contour\"}],\"contourcarpet\":[{\"colorbar\":{\"outlinewidth\":0,\"ticks\":\"\"},\"type\":\"contourcarpet\"}],\"heatmap\":[{\"colorbar\":{\"outlinewidth\":0,\"ticks\":\"\"},\"colorscale\":[[0.0,\"#0d0887\"],[0.1111111111111111,\"#46039f\"],[0.2222222222222222,\"#7201a8\"],[0.3333333333333333,\"#9c179e\"],[0.4444444444444444,\"#bd3786\"],[0.5555555555555556,\"#d8576b\"],[0.6666666666666666,\"#ed7953\"],[0.7777777777777778,\"#fb9f3a\"],[0.8888888888888888,\"#fdca26\"],[1.0,\"#f0f921\"]],\"type\":\"heatmap\"}],\"heatmapgl\":[{\"colorbar\":{\"outlinewidth\":0,\"ticks\":\"\"},\"colorscale\":[[0.0,\"#0d0887\"],[0.1111111111111111,\"#46039f\"],[0.2222222222222222,\"#7201a8\"],[0.3333333333333333,\"#9c179e\"],[0.4444444444444444,\"#bd3786\"],[0.5555555555555556,\"#d8576b\"],[0.6666666666666666,\"#ed7953\"],[0.7777777777777778,\"#fb9f3a\"],[0.8888888888888888,\"#fdca26\"],[1.0,\"#f0f921\"]],\"type\":\"heatmapgl\"}],\"histogram\":[{\"marker\":{\"pattern\":{\"fillmode\":\"overlay\",\"size\":10,\"solidity\":0.2}},\"type\":\"histogram\"}],\"histogram2d\":[{\"colorbar\":{\"outlinewidth\":0,\"ticks\":\"\"},\"colorscale\":[[0.0,\"#0d0887\"],[0.1111111111111111,\"#46039f\"],[0.2222222222222222,\"#7201a8\"],[0.3333333333333333,\"#9c179e\"],[0.4444444444444444,\"#bd3786\"],[0.5555555555555556,\"#d8576b\"],[0.6666666666666666,\"#ed7953\"],[0.7777777777777778,\"#fb9f3a\"],[0.8888888888888888,\"#fdca26\"],[1.0,\"#f0f921\"]],\"type\":\"histogram2d\"}],\"histogram2dcontour\":[{\"colorbar\":{\"outlinewidth\":0,\"ticks\":\"\"},\"colorscale\":[[0.0,\"#0d0887\"],[0.1111111111111111,\"#46039f\"],[0.2222222222222222,\"#7201a8\"],[0.3333333333333333,\"#9c179e\"],[0.4444444444444444,\"#bd3786\"],[0.5555555555555556,\"#d8576b\"],[0.6666666666666666,\"#ed7953\"],[0.7777777777777778,\"#fb9f3a\"],[0.8888888888888888,\"#fdca26\"],[1.0,\"#f0f921\"]],\"type\":\"histogram2dcontour\"}],\"mesh3d\":[{\"colorbar\":{\"outlinewidth\":0,\"ticks\":\"\"},\"type\":\"mesh3d\"}],\"parcoords\":[{\"line\":{\"colorbar\":{\"outlinewidth\":0,\"ticks\":\"\"}},\"type\":\"parcoords\"}],\"pie\":[{\"automargin\":true,\"type\":\"pie\"}],\"scatter\":[{\"marker\":{\"colorbar\":{\"outlinewidth\":0,\"ticks\":\"\"}},\"type\":\"scatter\"}],\"scatter3d\":[{\"line\":{\"colorbar\":{\"outlinewidth\":0,\"ticks\":\"\"}},\"marker\":{\"colorbar\":{\"outlinewidth\":0,\"ticks\":\"\"}},\"type\":\"scatter3d\"}],\"scattercarpet\":[{\"marker\":{\"colorbar\":{\"outlinewidth\":0,\"ticks\":\"\"}},\"type\":\"scattercarpet\"}],\"scattergeo\":[{\"marker\":{\"colorbar\":{\"outlinewidth\":0,\"ticks\":\"\"}},\"type\":\"scattergeo\"}],\"scattergl\":[{\"marker\":{\"colorbar\":{\"outlinewidth\":0,\"ticks\":\"\"}},\"type\":\"scattergl\"}],\"scattermapbox\":[{\"marker\":{\"colorbar\":{\"outlinewidth\":0,\"ticks\":\"\"}},\"type\":\"scattermapbox\"}],\"scatterpolar\":[{\"marker\":{\"colorbar\":{\"outlinewidth\":0,\"ticks\":\"\"}},\"type\":\"scatterpolar\"}],\"scatterpolargl\":[{\"marker\":{\"colorbar\":{\"outlinewidth\":0,\"ticks\":\"\"}},\"type\":\"scatterpolargl\"}],\"scatterternary\":[{\"marker\":{\"colorbar\":{\"outlinewidth\":0,\"ticks\":\"\"}},\"type\":\"scatterternary\"}],\"surface\":[{\"colorbar\":{\"outlinewidth\":0,\"ticks\":\"\"},\"colorscale\":[[0.0,\"#0d0887\"],[0.1111111111111111,\"#46039f\"],[0.2222222222222222,\"#7201a8\"],[0.3333333333333333,\"#9c179e\"],[0.4444444444444444,\"#bd3786\"],[0.5555555555555556,\"#d8576b\"],[0.6666666666666666,\"#ed7953\"],[0.7777777777777778,\"#fb9f3a\"],[0.8888888888888888,\"#fdca26\"],[1.0,\"#f0f921\"]],\"type\":\"surface\"}],\"table\":[{\"cells\":{\"fill\":{\"color\":\"#EBF0F8\"},\"line\":{\"color\":\"white\"}},\"header\":{\"fill\":{\"color\":\"#C8D4E3\"},\"line\":{\"color\":\"white\"}},\"type\":\"table\"}]},\"layout\":{\"annotationdefaults\":{\"arrowcolor\":\"#2a3f5f\",\"arrowhead\":0,\"arrowwidth\":1},\"autotypenumbers\":\"strict\",\"coloraxis\":{\"colorbar\":{\"outlinewidth\":0,\"ticks\":\"\"}},\"colorscale\":{\"diverging\":[[0,\"#8e0152\"],[0.1,\"#c51b7d\"],[0.2,\"#de77ae\"],[0.3,\"#f1b6da\"],[0.4,\"#fde0ef\"],[0.5,\"#f7f7f7\"],[0.6,\"#e6f5d0\"],[0.7,\"#b8e186\"],[0.8,\"#7fbc41\"],[0.9,\"#4d9221\"],[1,\"#276419\"]],\"sequential\":[[0.0,\"#0d0887\"],[0.1111111111111111,\"#46039f\"],[0.2222222222222222,\"#7201a8\"],[0.3333333333333333,\"#9c179e\"],[0.4444444444444444,\"#bd3786\"],[0.5555555555555556,\"#d8576b\"],[0.6666666666666666,\"#ed7953\"],[0.7777777777777778,\"#fb9f3a\"],[0.8888888888888888,\"#fdca26\"],[1.0,\"#f0f921\"]],\"sequentialminus\":[[0.0,\"#0d0887\"],[0.1111111111111111,\"#46039f\"],[0.2222222222222222,\"#7201a8\"],[0.3333333333333333,\"#9c179e\"],[0.4444444444444444,\"#bd3786\"],[0.5555555555555556,\"#d8576b\"],[0.6666666666666666,\"#ed7953\"],[0.7777777777777778,\"#fb9f3a\"],[0.8888888888888888,\"#fdca26\"],[1.0,\"#f0f921\"]]},\"colorway\":[\"#636efa\",\"#EF553B\",\"#00cc96\",\"#ab63fa\",\"#FFA15A\",\"#19d3f3\",\"#FF6692\",\"#B6E880\",\"#FF97FF\",\"#FECB52\"],\"font\":{\"color\":\"#2a3f5f\"},\"geo\":{\"bgcolor\":\"white\",\"lakecolor\":\"white\",\"landcolor\":\"#E5ECF6\",\"showlakes\":true,\"showland\":true,\"subunitcolor\":\"white\"},\"hoverlabel\":{\"align\":\"left\"},\"hovermode\":\"closest\",\"mapbox\":{\"style\":\"light\"},\"paper_bgcolor\":\"white\",\"plot_bgcolor\":\"#E5ECF6\",\"polar\":{\"angularaxis\":{\"gridcolor\":\"white\",\"linecolor\":\"white\",\"ticks\":\"\"},\"bgcolor\":\"#E5ECF6\",\"radialaxis\":{\"gridcolor\":\"white\",\"linecolor\":\"white\",\"ticks\":\"\"}},\"scene\":{\"xaxis\":{\"backgroundcolor\":\"#E5ECF6\",\"gridcolor\":\"white\",\"gridwidth\":2,\"linecolor\":\"white\",\"showbackground\":true,\"ticks\":\"\",\"zerolinecolor\":\"white\"},\"yaxis\":{\"backgroundcolor\":\"#E5ECF6\",\"gridcolor\":\"white\",\"gridwidth\":2,\"linecolor\":\"white\",\"showbackground\":true,\"ticks\":\"\",\"zerolinecolor\":\"white\"},\"zaxis\":{\"backgroundcolor\":\"#E5ECF6\",\"gridcolor\":\"white\",\"gridwidth\":2,\"linecolor\":\"white\",\"showbackground\":true,\"ticks\":\"\",\"zerolinecolor\":\"white\"}},\"shapedefaults\":{\"line\":{\"color\":\"#2a3f5f\"}},\"ternary\":{\"aaxis\":{\"gridcolor\":\"white\",\"linecolor\":\"white\",\"ticks\":\"\"},\"baxis\":{\"gridcolor\":\"white\",\"linecolor\":\"white\",\"ticks\":\"\"},\"bgcolor\":\"#E5ECF6\",\"caxis\":{\"gridcolor\":\"white\",\"linecolor\":\"white\",\"ticks\":\"\"}},\"title\":{\"x\":0.05},\"xaxis\":{\"automargin\":true,\"gridcolor\":\"white\",\"linecolor\":\"white\",\"ticks\":\"\",\"title\":{\"standoff\":15},\"zerolinecolor\":\"white\",\"zerolinewidth\":2},\"yaxis\":{\"automargin\":true,\"gridcolor\":\"white\",\"linecolor\":\"white\",\"ticks\":\"\",\"title\":{\"standoff\":15},\"zerolinecolor\":\"white\",\"zerolinewidth\":2}}},\"xaxis\":{\"anchor\":\"y\",\"domain\":[0.0,1.0],\"title\":{\"text\":\"Time\"}},\"yaxis\":{\"anchor\":\"x\",\"domain\":[0.0,1.0],\"title\":{\"text\":\"value\"}},\"legend\":{\"title\":{\"text\":\"variable\"},\"tracegroupgap\":0},\"margin\":{\"t\":60}},                        {\"responsive\": true}                    ).then(function(){\n",
              "                            \n",
              "var gd = document.getElementById('3937ec44-1c03-47b5-8f13-32b1f2b1b317');\n",
              "var x = new MutationObserver(function (mutations, observer) {{\n",
              "        var display = window.getComputedStyle(gd).display;\n",
              "        if (!display || display === 'none') {{\n",
              "            console.log([gd, 'removed!']);\n",
              "            Plotly.purge(gd);\n",
              "            observer.disconnect();\n",
              "        }}\n",
              "}});\n",
              "\n",
              "// Listen for the removal of the full notebook cells\n",
              "var notebookContainer = gd.closest('#notebook-container');\n",
              "if (notebookContainer) {{\n",
              "    x.observe(notebookContainer, {childList: true});\n",
              "}}\n",
              "\n",
              "// Listen for the clearing of the current output cell\n",
              "var outputEl = gd.closest('.output');\n",
              "if (outputEl) {{\n",
              "    x.observe(outputEl, {childList: true});\n",
              "}}\n",
              "\n",
              "                        })                };                            </script>        </div>\n",
              "</body>\n",
              "</html>"
            ]
          },
          "metadata": {}
        }
      ]
    },
    {
      "cell_type": "code",
      "source": [
        "ax = df1.plot( color='black', figsize=(12,8), legend=True,linewidth=2)\n",
        "\n",
        "#First Instance\n",
        "ins1 = SimpleExpSmoothing(df1).fit(smoothing_level=0.2,optimized=False)\n",
        "ins_cast1 = ins1.forecast(3).rename('alpha=0.2')\n",
        "\n",
        "#Second Instance\n",
        "#ins2 = SimpleExpSmoothing(df1).fit(smoothing_level=0.8,optimized=False)\n",
        "#ins_cast2 = ins2.forecast(3).rename('alpha=0.5')\n",
        "\n",
        "#Third Instance\n",
        "ins3 = SimpleExpSmoothing(df1).fit()\n",
        "ins_cast3 = ins3.forecast(3).rename('alpha=%s'%ins3.model.params['smoothing_level'])\n",
        "\n",
        "#After creating model we will visualize the plot\n",
        "ax = df1.plot(color='black', figsize=(12,8), legend=True,linewidth=2)\n",
        "\n",
        "#Plot for alpha =0.2\n",
        "ins_cast1.plot( ax=ax, color='blue', legend=True,linewidth =2)\n",
        "ins1.fittedvalues.plot( ax=ax, color='blue',linewidth = 2)\n",
        "\n",
        "#Plot for alpha = 0.5\n",
        "#ins_cast2.plot(ax=ax, color='red', legend=True,linewidth = 2)\n",
        "#ins2.fittedvalues.plot(ax=ax, color='red',linewidth = 2)\n",
        "\n",
        "#Plot for alpha=Optimized by statsmodel\n",
        "ins_cast3.plot(ax=ax, color='green', legend=True,linewidth = 2)\n",
        "ins3.fittedvalues.plot(ax=ax, color='green',linewidth = 2)\n",
        "\n",
        "plt.show()"
      ],
      "metadata": {
        "colab": {
          "base_uri": "https://localhost:8080/",
          "height": 1000
        },
        "id": "ltoVKmU81I5L",
        "outputId": "11b48e16-a8b0-43b0-90fd-ee14410d4780"
      },
      "execution_count": null,
      "outputs": [
        {
          "output_type": "stream",
          "name": "stderr",
          "text": [
            "/usr/local/lib/python3.7/dist-packages/statsmodels/tsa/base/tsa_model.py:219: ValueWarning:\n",
            "\n",
            "A date index has been provided, but it has no associated frequency information and so will be ignored when e.g. forecasting.\n",
            "\n",
            "/usr/local/lib/python3.7/dist-packages/statsmodels/tsa/base/tsa_model.py:576: ValueWarning:\n",
            "\n",
            "No supported index is available. Prediction results will be given with an integer index beginning at `start`.\n",
            "\n",
            "/usr/local/lib/python3.7/dist-packages/statsmodels/tsa/base/tsa_model.py:219: ValueWarning:\n",
            "\n",
            "A date index has been provided, but it has no associated frequency information and so will be ignored when e.g. forecasting.\n",
            "\n",
            "/usr/local/lib/python3.7/dist-packages/statsmodels/tsa/base/tsa_model.py:576: ValueWarning:\n",
            "\n",
            "No supported index is available. Prediction results will be given with an integer index beginning at `start`.\n",
            "\n"
          ]
        },
        {
          "output_type": "display_data",
          "data": {
            "text/plain": [
              "<Figure size 864x576 with 1 Axes>"
            ],
            "image/png": "[encoded data removed]"
          },
          "metadata": {
            "needs_background": "light"
          }
        },
        {
          "output_type": "display_data",
          "data": {
            "text/plain": [
              "<Figure size 864x576 with 1 Axes>"
            ],
            "image/png": "[encoded data removed]"
          },
          "metadata": {
            "needs_background": "light"
          }
        }
      ]
    },
    {
      "cell_type": "code",
      "source": [
        ""
      ],
      "metadata": {
        "id": "C3QIeGE8YaAC"
      },
      "execution_count": null,
      "outputs": []
    }
  ]
}